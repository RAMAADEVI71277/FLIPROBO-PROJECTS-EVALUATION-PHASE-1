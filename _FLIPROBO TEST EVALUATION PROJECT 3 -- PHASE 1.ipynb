{
 "cells": [
  {
   "cell_type": "markdown",
   "id": "501669ba",
   "metadata": {},
   "source": [
    "# HR Analytics\n",
    "\n",
    "Introduction:\n",
    "\n",
    "Objectives:\n",
    "\n",
    "This case study aims to model the probability of attrition of each employee from the HR Analytics Dataset. Its conclusions will allow the management to understand which factors urge the employees to leave the company and which changes should be made to avoid their departure.\n",
    "\n",
    "Target:\n",
    "    Left column"
   ]
  },
  {
   "cell_type": "markdown",
   "id": "78f1ff5c",
   "metadata": {},
   "source": [
    "# IMPORTING LIBRARIES"
   ]
  },
  {
   "cell_type": "code",
   "execution_count": 1,
   "id": "644a8d94",
   "metadata": {},
   "outputs": [],
   "source": [
    "import pandas as pd\n",
    "import numpy as np\n",
    "import matplotlib.pyplot as plt\n",
    "import seaborn as sns\n",
    "import warnings\n",
    "warnings.filterwarnings('ignore')"
   ]
  },
  {
   "cell_type": "markdown",
   "id": "ae9aff69",
   "metadata": {},
   "source": [
    "# GETTING THE DATASET"
   ]
  },
  {
   "cell_type": "code",
   "execution_count": 2,
   "id": "eee56b1e",
   "metadata": {},
   "outputs": [
    {
     "data": {
      "text/html": [
       "<div>\n",
       "<style scoped>\n",
       "    .dataframe tbody tr th:only-of-type {\n",
       "        vertical-align: middle;\n",
       "    }\n",
       "\n",
       "    .dataframe tbody tr th {\n",
       "        vertical-align: top;\n",
       "    }\n",
       "\n",
       "    .dataframe thead th {\n",
       "        text-align: right;\n",
       "    }\n",
       "</style>\n",
       "<table border=\"1\" class=\"dataframe\">\n",
       "  <thead>\n",
       "    <tr style=\"text-align: right;\">\n",
       "      <th></th>\n",
       "      <th>satisfaction_level</th>\n",
       "      <th>last_evaluation</th>\n",
       "      <th>number_project</th>\n",
       "      <th>average_montly_hours</th>\n",
       "      <th>time_spend_company</th>\n",
       "      <th>Work_accident</th>\n",
       "      <th>left</th>\n",
       "      <th>promotion_last_5years</th>\n",
       "      <th>sales</th>\n",
       "      <th>salary</th>\n",
       "    </tr>\n",
       "  </thead>\n",
       "  <tbody>\n",
       "    <tr>\n",
       "      <th>0</th>\n",
       "      <td>0.38</td>\n",
       "      <td>0.53</td>\n",
       "      <td>2</td>\n",
       "      <td>157</td>\n",
       "      <td>3</td>\n",
       "      <td>0</td>\n",
       "      <td>1</td>\n",
       "      <td>0</td>\n",
       "      <td>sales</td>\n",
       "      <td>low</td>\n",
       "    </tr>\n",
       "    <tr>\n",
       "      <th>1</th>\n",
       "      <td>0.80</td>\n",
       "      <td>0.86</td>\n",
       "      <td>5</td>\n",
       "      <td>262</td>\n",
       "      <td>6</td>\n",
       "      <td>0</td>\n",
       "      <td>1</td>\n",
       "      <td>0</td>\n",
       "      <td>sales</td>\n",
       "      <td>medium</td>\n",
       "    </tr>\n",
       "    <tr>\n",
       "      <th>2</th>\n",
       "      <td>0.11</td>\n",
       "      <td>0.88</td>\n",
       "      <td>7</td>\n",
       "      <td>272</td>\n",
       "      <td>4</td>\n",
       "      <td>0</td>\n",
       "      <td>1</td>\n",
       "      <td>0</td>\n",
       "      <td>sales</td>\n",
       "      <td>medium</td>\n",
       "    </tr>\n",
       "    <tr>\n",
       "      <th>3</th>\n",
       "      <td>0.72</td>\n",
       "      <td>0.87</td>\n",
       "      <td>5</td>\n",
       "      <td>223</td>\n",
       "      <td>5</td>\n",
       "      <td>0</td>\n",
       "      <td>1</td>\n",
       "      <td>0</td>\n",
       "      <td>sales</td>\n",
       "      <td>low</td>\n",
       "    </tr>\n",
       "    <tr>\n",
       "      <th>4</th>\n",
       "      <td>0.37</td>\n",
       "      <td>0.52</td>\n",
       "      <td>2</td>\n",
       "      <td>159</td>\n",
       "      <td>3</td>\n",
       "      <td>0</td>\n",
       "      <td>1</td>\n",
       "      <td>0</td>\n",
       "      <td>sales</td>\n",
       "      <td>low</td>\n",
       "    </tr>\n",
       "  </tbody>\n",
       "</table>\n",
       "</div>"
      ],
      "text/plain": [
       "   satisfaction_level  last_evaluation  number_project  average_montly_hours  \\\n",
       "0                0.38             0.53               2                   157   \n",
       "1                0.80             0.86               5                   262   \n",
       "2                0.11             0.88               7                   272   \n",
       "3                0.72             0.87               5                   223   \n",
       "4                0.37             0.52               2                   159   \n",
       "\n",
       "   time_spend_company  Work_accident  left  promotion_last_5years  sales  \\\n",
       "0                   3              0     1                      0  sales   \n",
       "1                   6              0     1                      0  sales   \n",
       "2                   4              0     1                      0  sales   \n",
       "3                   5              0     1                      0  sales   \n",
       "4                   3              0     1                      0  sales   \n",
       "\n",
       "   salary  \n",
       "0     low  \n",
       "1  medium  \n",
       "2  medium  \n",
       "3     low  \n",
       "4     low  "
      ]
     },
     "execution_count": 2,
     "metadata": {},
     "output_type": "execute_result"
    }
   ],
   "source": [
    "df=pd.read_csv('HR_Analytics.csv')\n",
    "df.head()"
   ]
  },
  {
   "cell_type": "markdown",
   "id": "d177348e",
   "metadata": {},
   "source": [
    "# EDA"
   ]
  },
  {
   "cell_type": "code",
   "execution_count": 3,
   "id": "2cb6635b",
   "metadata": {},
   "outputs": [
    {
     "data": {
      "text/plain": [
       "(14999, 10)"
      ]
     },
     "execution_count": 3,
     "metadata": {},
     "output_type": "execute_result"
    }
   ],
   "source": [
    "df.shape"
   ]
  },
  {
   "cell_type": "code",
   "execution_count": 4,
   "id": "bbaa3962",
   "metadata": {},
   "outputs": [
    {
     "data": {
      "text/plain": [
       "satisfaction_level       float64\n",
       "last_evaluation          float64\n",
       "number_project             int64\n",
       "average_montly_hours       int64\n",
       "time_spend_company         int64\n",
       "Work_accident              int64\n",
       "left                       int64\n",
       "promotion_last_5years      int64\n",
       "sales                     object\n",
       "salary                    object\n",
       "dtype: object"
      ]
     },
     "execution_count": 4,
     "metadata": {},
     "output_type": "execute_result"
    }
   ],
   "source": [
    "df.dtypes"
   ]
  },
  {
   "cell_type": "code",
   "execution_count": 5,
   "id": "6c263a01",
   "metadata": {},
   "outputs": [
    {
     "data": {
      "text/plain": [
       "Index(['satisfaction_level', 'last_evaluation', 'number_project',\n",
       "       'average_montly_hours', 'time_spend_company', 'Work_accident', 'left',\n",
       "       'promotion_last_5years', 'sales', 'salary'],\n",
       "      dtype='object')"
      ]
     },
     "execution_count": 5,
     "metadata": {},
     "output_type": "execute_result"
    }
   ],
   "source": [
    "df.columns"
   ]
  },
  {
   "cell_type": "code",
   "execution_count": 6,
   "id": "8cd3d402",
   "metadata": {},
   "outputs": [
    {
     "data": {
      "text/plain": [
       "satisfaction_level       0\n",
       "last_evaluation          0\n",
       "number_project           0\n",
       "average_montly_hours     0\n",
       "time_spend_company       0\n",
       "Work_accident            0\n",
       "left                     0\n",
       "promotion_last_5years    0\n",
       "sales                    0\n",
       "salary                   0\n",
       "dtype: int64"
      ]
     },
     "execution_count": 6,
     "metadata": {},
     "output_type": "execute_result"
    }
   ],
   "source": [
    "df.isnull().sum()"
   ]
  },
  {
   "cell_type": "code",
   "execution_count": 7,
   "id": "0a219698",
   "metadata": {},
   "outputs": [
    {
     "data": {
      "text/plain": [
       "0        1\n",
       "1        1\n",
       "2        1\n",
       "3        1\n",
       "4        1\n",
       "        ..\n",
       "14994    1\n",
       "14995    1\n",
       "14996    1\n",
       "14997    1\n",
       "14998    1\n",
       "Name: left, Length: 14999, dtype: int64"
      ]
     },
     "execution_count": 7,
     "metadata": {},
     "output_type": "execute_result"
    }
   ],
   "source": [
    "df['left']"
   ]
  },
  {
   "cell_type": "code",
   "execution_count": 8,
   "id": "61bf0068",
   "metadata": {},
   "outputs": [
    {
     "data": {
      "text/plain": [
       "0    11428\n",
       "1     3571\n",
       "Name: left, dtype: int64"
      ]
     },
     "execution_count": 8,
     "metadata": {},
     "output_type": "execute_result"
    }
   ],
   "source": [
    "df['left'].value_counts()"
   ]
  },
  {
   "cell_type": "markdown",
   "id": "414983a9",
   "metadata": {},
   "source": [
    "# CHECKING FOR DUPLICATES AND REMOVING THEM"
   ]
  },
  {
   "cell_type": "code",
   "execution_count": 9,
   "id": "115e540a",
   "metadata": {},
   "outputs": [
    {
     "data": {
      "text/plain": [
       "14907"
      ]
     },
     "execution_count": 9,
     "metadata": {},
     "output_type": "execute_result"
    }
   ],
   "source": [
    "df['satisfaction_level'].duplicated().sum()"
   ]
  },
  {
   "cell_type": "code",
   "execution_count": 10,
   "id": "05a2c771",
   "metadata": {},
   "outputs": [
    {
     "data": {
      "text/plain": [
       "14934"
      ]
     },
     "execution_count": 10,
     "metadata": {},
     "output_type": "execute_result"
    }
   ],
   "source": [
    "df['last_evaluation'].duplicated().sum()"
   ]
  },
  {
   "cell_type": "code",
   "execution_count": 11,
   "id": "2cfc6bba",
   "metadata": {},
   "outputs": [
    {
     "data": {
      "text/plain": [
       "14993"
      ]
     },
     "execution_count": 11,
     "metadata": {},
     "output_type": "execute_result"
    }
   ],
   "source": [
    "df['number_project'].duplicated().sum()"
   ]
  },
  {
   "cell_type": "code",
   "execution_count": 12,
   "id": "5e45b671",
   "metadata": {},
   "outputs": [
    {
     "data": {
      "text/plain": [
       "14784"
      ]
     },
     "execution_count": 12,
     "metadata": {},
     "output_type": "execute_result"
    }
   ],
   "source": [
    "df['average_montly_hours'].duplicated().sum()"
   ]
  },
  {
   "cell_type": "code",
   "execution_count": 13,
   "id": "6a4663c8",
   "metadata": {},
   "outputs": [
    {
     "data": {
      "text/plain": [
       "14991"
      ]
     },
     "execution_count": 13,
     "metadata": {},
     "output_type": "execute_result"
    }
   ],
   "source": [
    "df['time_spend_company'].duplicated().sum()"
   ]
  },
  {
   "cell_type": "code",
   "execution_count": 14,
   "id": "4046fb53",
   "metadata": {},
   "outputs": [
    {
     "data": {
      "text/plain": [
       "14997"
      ]
     },
     "execution_count": 14,
     "metadata": {},
     "output_type": "execute_result"
    }
   ],
   "source": [
    "df['Work_accident'].duplicated().sum()"
   ]
  },
  {
   "cell_type": "code",
   "execution_count": 15,
   "id": "89a09792",
   "metadata": {},
   "outputs": [
    {
     "data": {
      "text/plain": [
       "14997"
      ]
     },
     "execution_count": 15,
     "metadata": {},
     "output_type": "execute_result"
    }
   ],
   "source": [
    "df['left'].duplicated().sum()"
   ]
  },
  {
   "cell_type": "code",
   "execution_count": 16,
   "id": "72c45c65",
   "metadata": {},
   "outputs": [
    {
     "data": {
      "text/plain": [
       "14997"
      ]
     },
     "execution_count": 16,
     "metadata": {},
     "output_type": "execute_result"
    }
   ],
   "source": [
    "df['promotion_last_5years'].duplicated().sum()"
   ]
  },
  {
   "cell_type": "code",
   "execution_count": 17,
   "id": "2082a1be",
   "metadata": {},
   "outputs": [
    {
     "data": {
      "text/plain": [
       "14989"
      ]
     },
     "execution_count": 17,
     "metadata": {},
     "output_type": "execute_result"
    }
   ],
   "source": [
    "df['sales'].duplicated().sum()"
   ]
  },
  {
   "cell_type": "code",
   "execution_count": 18,
   "id": "76e291c1",
   "metadata": {},
   "outputs": [
    {
     "data": {
      "text/plain": [
       "14996"
      ]
     },
     "execution_count": 18,
     "metadata": {},
     "output_type": "execute_result"
    }
   ],
   "source": [
    "df['salary'].duplicated().sum()"
   ]
  },
  {
   "cell_type": "code",
   "execution_count": 19,
   "id": "b8c4986a",
   "metadata": {},
   "outputs": [
    {
     "data": {
      "text/html": [
       "<div>\n",
       "<style scoped>\n",
       "    .dataframe tbody tr th:only-of-type {\n",
       "        vertical-align: middle;\n",
       "    }\n",
       "\n",
       "    .dataframe tbody tr th {\n",
       "        vertical-align: top;\n",
       "    }\n",
       "\n",
       "    .dataframe thead th {\n",
       "        text-align: right;\n",
       "    }\n",
       "</style>\n",
       "<table border=\"1\" class=\"dataframe\">\n",
       "  <thead>\n",
       "    <tr style=\"text-align: right;\">\n",
       "      <th></th>\n",
       "      <th>satisfaction_level</th>\n",
       "      <th>last_evaluation</th>\n",
       "      <th>number_project</th>\n",
       "      <th>average_montly_hours</th>\n",
       "      <th>time_spend_company</th>\n",
       "      <th>Work_accident</th>\n",
       "      <th>left</th>\n",
       "      <th>promotion_last_5years</th>\n",
       "      <th>sales</th>\n",
       "      <th>salary</th>\n",
       "    </tr>\n",
       "  </thead>\n",
       "  <tbody>\n",
       "    <tr>\n",
       "      <th>0</th>\n",
       "      <td>0.38</td>\n",
       "      <td>0.53</td>\n",
       "      <td>2</td>\n",
       "      <td>157</td>\n",
       "      <td>3</td>\n",
       "      <td>0</td>\n",
       "      <td>1</td>\n",
       "      <td>0</td>\n",
       "      <td>sales</td>\n",
       "      <td>low</td>\n",
       "    </tr>\n",
       "    <tr>\n",
       "      <th>1</th>\n",
       "      <td>0.80</td>\n",
       "      <td>0.86</td>\n",
       "      <td>5</td>\n",
       "      <td>262</td>\n",
       "      <td>6</td>\n",
       "      <td>0</td>\n",
       "      <td>1</td>\n",
       "      <td>0</td>\n",
       "      <td>sales</td>\n",
       "      <td>medium</td>\n",
       "    </tr>\n",
       "    <tr>\n",
       "      <th>2</th>\n",
       "      <td>0.11</td>\n",
       "      <td>0.88</td>\n",
       "      <td>7</td>\n",
       "      <td>272</td>\n",
       "      <td>4</td>\n",
       "      <td>0</td>\n",
       "      <td>1</td>\n",
       "      <td>0</td>\n",
       "      <td>sales</td>\n",
       "      <td>medium</td>\n",
       "    </tr>\n",
       "    <tr>\n",
       "      <th>3</th>\n",
       "      <td>0.72</td>\n",
       "      <td>0.87</td>\n",
       "      <td>5</td>\n",
       "      <td>223</td>\n",
       "      <td>5</td>\n",
       "      <td>0</td>\n",
       "      <td>1</td>\n",
       "      <td>0</td>\n",
       "      <td>sales</td>\n",
       "      <td>low</td>\n",
       "    </tr>\n",
       "    <tr>\n",
       "      <th>4</th>\n",
       "      <td>0.37</td>\n",
       "      <td>0.52</td>\n",
       "      <td>2</td>\n",
       "      <td>159</td>\n",
       "      <td>3</td>\n",
       "      <td>0</td>\n",
       "      <td>1</td>\n",
       "      <td>0</td>\n",
       "      <td>sales</td>\n",
       "      <td>low</td>\n",
       "    </tr>\n",
       "  </tbody>\n",
       "</table>\n",
       "</div>"
      ],
      "text/plain": [
       "   satisfaction_level  last_evaluation  number_project  average_montly_hours  \\\n",
       "0                0.38             0.53               2                   157   \n",
       "1                0.80             0.86               5                   262   \n",
       "2                0.11             0.88               7                   272   \n",
       "3                0.72             0.87               5                   223   \n",
       "4                0.37             0.52               2                   159   \n",
       "\n",
       "   time_spend_company  Work_accident  left  promotion_last_5years  sales  \\\n",
       "0                   3              0     1                      0  sales   \n",
       "1                   6              0     1                      0  sales   \n",
       "2                   4              0     1                      0  sales   \n",
       "3                   5              0     1                      0  sales   \n",
       "4                   3              0     1                      0  sales   \n",
       "\n",
       "   salary  \n",
       "0     low  \n",
       "1  medium  \n",
       "2  medium  \n",
       "3     low  \n",
       "4     low  "
      ]
     },
     "execution_count": 19,
     "metadata": {},
     "output_type": "execute_result"
    }
   ],
   "source": [
    "df1=df.drop_duplicates()\n",
    "df1.head()"
   ]
  },
  {
   "cell_type": "code",
   "execution_count": 20,
   "id": "c7f6d90d",
   "metadata": {},
   "outputs": [
    {
     "data": {
      "text/plain": [
       "0"
      ]
     },
     "execution_count": 20,
     "metadata": {},
     "output_type": "execute_result"
    }
   ],
   "source": [
    "df1.duplicated().sum()"
   ]
  },
  {
   "cell_type": "code",
   "execution_count": 21,
   "id": "be40c7b4",
   "metadata": {},
   "outputs": [
    {
     "data": {
      "text/plain": [
       "(11991, 10)"
      ]
     },
     "execution_count": 21,
     "metadata": {},
     "output_type": "execute_result"
    }
   ],
   "source": [
    "df1.shape"
   ]
  },
  {
   "cell_type": "code",
   "execution_count": 22,
   "id": "be066a1a",
   "metadata": {},
   "outputs": [
    {
     "data": {
      "text/plain": [
       "satisfaction_level       float64\n",
       "last_evaluation          float64\n",
       "number_project             int64\n",
       "average_montly_hours       int64\n",
       "time_spend_company         int64\n",
       "Work_accident              int64\n",
       "left                       int64\n",
       "promotion_last_5years      int64\n",
       "sales                     object\n",
       "salary                    object\n",
       "dtype: object"
      ]
     },
     "execution_count": 22,
     "metadata": {},
     "output_type": "execute_result"
    }
   ],
   "source": [
    "df1.dtypes"
   ]
  },
  {
   "cell_type": "markdown",
   "id": "87fc8b17",
   "metadata": {},
   "source": [
    "# CONVERTING OBJECT DATA INTO FLOAT DATA"
   ]
  },
  {
   "cell_type": "code",
   "execution_count": 23,
   "id": "4435acce",
   "metadata": {},
   "outputs": [],
   "source": [
    "from sklearn.preprocessing import OrdinalEncoder\n",
    "ordin=OrdinalEncoder()"
   ]
  },
  {
   "cell_type": "code",
   "execution_count": 24,
   "id": "cdf4f217",
   "metadata": {},
   "outputs": [],
   "source": [
    "for i in df1.columns:\n",
    "    if df1[i].dtypes=='object':\n",
    "        df1[i]=ordin.fit_transform(df1[i].values.reshape(-1,1))"
   ]
  },
  {
   "cell_type": "code",
   "execution_count": 25,
   "id": "cb97e744",
   "metadata": {},
   "outputs": [
    {
     "data": {
      "text/plain": [
       "satisfaction_level       float64\n",
       "last_evaluation          float64\n",
       "number_project             int64\n",
       "average_montly_hours       int64\n",
       "time_spend_company         int64\n",
       "Work_accident              int64\n",
       "left                       int64\n",
       "promotion_last_5years      int64\n",
       "sales                    float64\n",
       "salary                   float64\n",
       "dtype: object"
      ]
     },
     "execution_count": 25,
     "metadata": {},
     "output_type": "execute_result"
    }
   ],
   "source": [
    "df1.dtypes"
   ]
  },
  {
   "cell_type": "markdown",
   "id": "8444af55",
   "metadata": {},
   "source": [
    "# CONVERTING FLOAT DATA INTO INTEGERS"
   ]
  },
  {
   "cell_type": "code",
   "execution_count": 26,
   "id": "1b5e7d2a",
   "metadata": {},
   "outputs": [],
   "source": [
    "for i in df1.columns:\n",
    "    if df1[i].dtypes=='float':\n",
    "        df1[i]=df1[i].astype('int')  "
   ]
  },
  {
   "cell_type": "code",
   "execution_count": 27,
   "id": "9bd63dbf",
   "metadata": {},
   "outputs": [
    {
     "data": {
      "text/plain": [
       "satisfaction_level       int32\n",
       "last_evaluation          int32\n",
       "number_project           int64\n",
       "average_montly_hours     int64\n",
       "time_spend_company       int64\n",
       "Work_accident            int64\n",
       "left                     int64\n",
       "promotion_last_5years    int64\n",
       "sales                    int32\n",
       "salary                   int32\n",
       "dtype: object"
      ]
     },
     "execution_count": 27,
     "metadata": {},
     "output_type": "execute_result"
    }
   ],
   "source": [
    "df1.dtypes"
   ]
  },
  {
   "cell_type": "code",
   "execution_count": 28,
   "id": "c69ab65f",
   "metadata": {},
   "outputs": [
    {
     "data": {
      "text/plain": [
       "satisfaction_level       0\n",
       "last_evaluation          0\n",
       "number_project           0\n",
       "average_montly_hours     0\n",
       "time_spend_company       0\n",
       "Work_accident            0\n",
       "left                     0\n",
       "promotion_last_5years    0\n",
       "sales                    0\n",
       "salary                   0\n",
       "dtype: int64"
      ]
     },
     "execution_count": 28,
     "metadata": {},
     "output_type": "execute_result"
    }
   ],
   "source": [
    "df1.isnull().sum()"
   ]
  },
  {
   "cell_type": "markdown",
   "id": "6368f10c",
   "metadata": {},
   "source": [
    "AFTER GETTING THE DATASET WITH A SAME DATATYPE AND WITH NO NULL DATAS WE PROCEED TO DATA VISUALISATIOMN"
   ]
  },
  {
   "cell_type": "markdown",
   "id": "09a86efb",
   "metadata": {},
   "source": [
    "# DATA VISUALIZATION"
   ]
  },
  {
   "cell_type": "code",
   "execution_count": 29,
   "id": "96f8be7e",
   "metadata": {},
   "outputs": [],
   "source": [
    "import matplotlib.pyplot as plt\n",
    "import seaborn as sns"
   ]
  },
  {
   "cell_type": "code",
   "execution_count": 30,
   "id": "a06346c7",
   "metadata": {},
   "outputs": [
    {
     "data": {
      "text/plain": [
       "<AxesSubplot:xlabel='left'>"
      ]
     },
     "execution_count": 30,
     "metadata": {},
     "output_type": "execute_result"
    },
    {
     "data": {
      "image/png": "[encoded data removed]",
      "text/plain": [
       "<Figure size 432x288 with 1 Axes>"
      ]
     },
     "metadata": {
      "needs_background": "light"
     },
     "output_type": "display_data"
    }
   ],
   "source": [
    "sns.violinplot(df1['left'])"
   ]
  },
  {
   "cell_type": "code",
   "execution_count": 31,
   "id": "17239459",
   "metadata": {},
   "outputs": [
    {
     "data": {
      "text/plain": [
       "Index(['satisfaction_level', 'last_evaluation', 'number_project',\n",
       "       'average_montly_hours', 'time_spend_company', 'Work_accident', 'left',\n",
       "       'promotion_last_5years', 'sales', 'salary'],\n",
       "      dtype='object')"
      ]
     },
     "execution_count": 31,
     "metadata": {},
     "output_type": "execute_result"
    }
   ],
   "source": [
    "df1.columns"
   ]
  },
  {
   "cell_type": "code",
   "execution_count": 32,
   "id": "31c743ad",
   "metadata": {},
   "outputs": [
    {
     "data": {
      "text/plain": [
       "<AxesSubplot:xlabel='satisfaction_level', ylabel='left'>"
      ]
     },
     "execution_count": 32,
     "metadata": {},
     "output_type": "execute_result"
    },
    {
     "data": {
      "image/png": "[encoded data removed]",
      "text/plain": [
       "<Figure size 432x288 with 1 Axes>"
      ]
     },
     "metadata": {
      "needs_background": "light"
     },
     "output_type": "display_data"
    }
   ],
   "source": [
    "sns.histplot(data=df1,x='satisfaction_level',y='left')"
   ]
  },
  {
   "cell_type": "markdown",
   "id": "7c3f3aef",
   "metadata": {},
   "source": [
    "this denotes the proportionate between satisfaction_level and the employees left ."
   ]
  },
  {
   "cell_type": "code",
   "execution_count": 35,
   "id": "05830e66",
   "metadata": {},
   "outputs": [
    {
     "data": {
      "text/plain": [
       "<seaborn.axisgrid.FacetGrid at 0x21f23e54340>"
      ]
     },
     "execution_count": 35,
     "metadata": {},
     "output_type": "execute_result"
    },
    {
     "data": {
      "image/png": "[encoded data removed]",
      "text/plain": [
       "<Figure size 360x360 with 1 Axes>"
      ]
     },
     "metadata": {
      "needs_background": "light"
     },
     "output_type": "display_data"
    }
   ],
   "source": [
    "sns.catplot(data=df1,x='Work_accident',y='left')"
   ]
  },
  {
   "cell_type": "markdown",
   "id": "fa37bf02",
   "metadata": {},
   "source": [
    "This shows the relation between work_accident and the employees left"
   ]
  },
  {
   "cell_type": "code",
   "execution_count": 36,
   "id": "515a114c",
   "metadata": {},
   "outputs": [
    {
     "data": {
      "text/plain": [
       "<seaborn.axisgrid.JointGrid at 0x21f24fc49a0>"
      ]
     },
     "execution_count": 36,
     "metadata": {},
     "output_type": "execute_result"
    },
    {
     "data": {
      "image/png": "[encoded data removed]",
      "text/plain": [
       "<Figure size 432x432 with 3 Axes>"
      ]
     },
     "metadata": {
      "needs_background": "light"
     },
     "output_type": "display_data"
    }
   ],
   "source": [
    "sns.jointplot(data=df1,x='promotion_last_5years',y='left')"
   ]
  },
  {
   "cell_type": "code",
   "execution_count": 37,
   "id": "7e85293f",
   "metadata": {},
   "outputs": [
    {
     "data": {
      "text/plain": [
       "<AxesSubplot:ylabel='Count'>"
      ]
     },
     "execution_count": 37,
     "metadata": {},
     "output_type": "execute_result"
    },
    {
     "data": {
      "image/png": "[encoded data removed]",
      "text/plain": [
       "<Figure size 432x288 with 1 Axes>"
      ]
     },
     "metadata": {
      "needs_background": "light"
     },
     "output_type": "display_data"
    }
   ],
   "source": [
    "sns.histplot(data=df1,bins=10)"
   ]
  },
  {
   "cell_type": "markdown",
   "id": "c9e9303d",
   "metadata": {},
   "source": [
    "This gives a vague picture of the entire dataset"
   ]
  },
  {
   "cell_type": "markdown",
   "id": "7c74a717",
   "metadata": {},
   "source": [
    "# DATA CLENSING"
   ]
  },
  {
   "cell_type": "code",
   "execution_count": 39,
   "id": "827586eb",
   "metadata": {},
   "outputs": [
    {
     "data": {
      "text/html": [
       "<div>\n",
       "<style scoped>\n",
       "    .dataframe tbody tr th:only-of-type {\n",
       "        vertical-align: middle;\n",
       "    }\n",
       "\n",
       "    .dataframe tbody tr th {\n",
       "        vertical-align: top;\n",
       "    }\n",
       "\n",
       "    .dataframe thead th {\n",
       "        text-align: right;\n",
       "    }\n",
       "</style>\n",
       "<table border=\"1\" class=\"dataframe\">\n",
       "  <thead>\n",
       "    <tr style=\"text-align: right;\">\n",
       "      <th></th>\n",
       "      <th>satisfaction_level</th>\n",
       "      <th>last_evaluation</th>\n",
       "      <th>number_project</th>\n",
       "      <th>average_montly_hours</th>\n",
       "      <th>time_spend_company</th>\n",
       "      <th>Work_accident</th>\n",
       "      <th>left</th>\n",
       "      <th>promotion_last_5years</th>\n",
       "      <th>sales</th>\n",
       "      <th>salary</th>\n",
       "    </tr>\n",
       "  </thead>\n",
       "  <tbody>\n",
       "    <tr>\n",
       "      <th>count</th>\n",
       "      <td>11991.000000</td>\n",
       "      <td>11991.000000</td>\n",
       "      <td>11991.000000</td>\n",
       "      <td>11991.000000</td>\n",
       "      <td>11991.000000</td>\n",
       "      <td>11991.000000</td>\n",
       "      <td>11991.000000</td>\n",
       "      <td>11991.000000</td>\n",
       "      <td>11991.000000</td>\n",
       "      <td>11991.000000</td>\n",
       "    </tr>\n",
       "    <tr>\n",
       "      <th>mean</th>\n",
       "      <td>0.008340</td>\n",
       "      <td>0.016679</td>\n",
       "      <td>3.802852</td>\n",
       "      <td>200.473522</td>\n",
       "      <td>3.364857</td>\n",
       "      <td>0.154282</td>\n",
       "      <td>0.166041</td>\n",
       "      <td>0.016929</td>\n",
       "      <td>5.871153</td>\n",
       "      <td>1.356184</td>\n",
       "    </tr>\n",
       "    <tr>\n",
       "      <th>std</th>\n",
       "      <td>0.090944</td>\n",
       "      <td>0.128072</td>\n",
       "      <td>1.163238</td>\n",
       "      <td>48.727813</td>\n",
       "      <td>1.330240</td>\n",
       "      <td>0.361234</td>\n",
       "      <td>0.372133</td>\n",
       "      <td>0.129012</td>\n",
       "      <td>2.899022</td>\n",
       "      <td>0.628071</td>\n",
       "    </tr>\n",
       "    <tr>\n",
       "      <th>min</th>\n",
       "      <td>0.000000</td>\n",
       "      <td>0.000000</td>\n",
       "      <td>2.000000</td>\n",
       "      <td>96.000000</td>\n",
       "      <td>2.000000</td>\n",
       "      <td>0.000000</td>\n",
       "      <td>0.000000</td>\n",
       "      <td>0.000000</td>\n",
       "      <td>0.000000</td>\n",
       "      <td>0.000000</td>\n",
       "    </tr>\n",
       "    <tr>\n",
       "      <th>25%</th>\n",
       "      <td>0.000000</td>\n",
       "      <td>0.000000</td>\n",
       "      <td>3.000000</td>\n",
       "      <td>157.000000</td>\n",
       "      <td>3.000000</td>\n",
       "      <td>0.000000</td>\n",
       "      <td>0.000000</td>\n",
       "      <td>0.000000</td>\n",
       "      <td>4.000000</td>\n",
       "      <td>1.000000</td>\n",
       "    </tr>\n",
       "    <tr>\n",
       "      <th>50%</th>\n",
       "      <td>0.000000</td>\n",
       "      <td>0.000000</td>\n",
       "      <td>4.000000</td>\n",
       "      <td>200.000000</td>\n",
       "      <td>3.000000</td>\n",
       "      <td>0.000000</td>\n",
       "      <td>0.000000</td>\n",
       "      <td>0.000000</td>\n",
       "      <td>7.000000</td>\n",
       "      <td>1.000000</td>\n",
       "    </tr>\n",
       "    <tr>\n",
       "      <th>75%</th>\n",
       "      <td>0.000000</td>\n",
       "      <td>0.000000</td>\n",
       "      <td>5.000000</td>\n",
       "      <td>243.000000</td>\n",
       "      <td>4.000000</td>\n",
       "      <td>0.000000</td>\n",
       "      <td>0.000000</td>\n",
       "      <td>0.000000</td>\n",
       "      <td>8.000000</td>\n",
       "      <td>2.000000</td>\n",
       "    </tr>\n",
       "    <tr>\n",
       "      <th>max</th>\n",
       "      <td>1.000000</td>\n",
       "      <td>1.000000</td>\n",
       "      <td>7.000000</td>\n",
       "      <td>310.000000</td>\n",
       "      <td>10.000000</td>\n",
       "      <td>1.000000</td>\n",
       "      <td>1.000000</td>\n",
       "      <td>1.000000</td>\n",
       "      <td>9.000000</td>\n",
       "      <td>2.000000</td>\n",
       "    </tr>\n",
       "  </tbody>\n",
       "</table>\n",
       "</div>"
      ],
      "text/plain": [
       "       satisfaction_level  last_evaluation  number_project  \\\n",
       "count        11991.000000     11991.000000    11991.000000   \n",
       "mean             0.008340         0.016679        3.802852   \n",
       "std              0.090944         0.128072        1.163238   \n",
       "min              0.000000         0.000000        2.000000   \n",
       "25%              0.000000         0.000000        3.000000   \n",
       "50%              0.000000         0.000000        4.000000   \n",
       "75%              0.000000         0.000000        5.000000   \n",
       "max              1.000000         1.000000        7.000000   \n",
       "\n",
       "       average_montly_hours  time_spend_company  Work_accident          left  \\\n",
       "count          11991.000000        11991.000000   11991.000000  11991.000000   \n",
       "mean             200.473522            3.364857       0.154282      0.166041   \n",
       "std               48.727813            1.330240       0.361234      0.372133   \n",
       "min               96.000000            2.000000       0.000000      0.000000   \n",
       "25%              157.000000            3.000000       0.000000      0.000000   \n",
       "50%              200.000000            3.000000       0.000000      0.000000   \n",
       "75%              243.000000            4.000000       0.000000      0.000000   \n",
       "max              310.000000           10.000000       1.000000      1.000000   \n",
       "\n",
       "       promotion_last_5years         sales        salary  \n",
       "count           11991.000000  11991.000000  11991.000000  \n",
       "mean                0.016929      5.871153      1.356184  \n",
       "std                 0.129012      2.899022      0.628071  \n",
       "min                 0.000000      0.000000      0.000000  \n",
       "25%                 0.000000      4.000000      1.000000  \n",
       "50%                 0.000000      7.000000      1.000000  \n",
       "75%                 0.000000      8.000000      2.000000  \n",
       "max                 1.000000      9.000000      2.000000  "
      ]
     },
     "execution_count": 39,
     "metadata": {},
     "output_type": "execute_result"
    }
   ],
   "source": [
    "df1.describe()"
   ]
  },
  {
   "cell_type": "markdown",
   "id": "7d9f0958",
   "metadata": {},
   "source": [
    "Number_project and sales have median more than mean so they have left skewed data.\n",
    "Number_project ,average_montly_hours,time_spend_company and sales have max more than their 75% so they right skewed data"
   ]
  },
  {
   "cell_type": "code",
   "execution_count": 40,
   "id": "5079f077",
   "metadata": {},
   "outputs": [
    {
     "data": {
      "text/html": [
       "<div>\n",
       "<style scoped>\n",
       "    .dataframe tbody tr th:only-of-type {\n",
       "        vertical-align: middle;\n",
       "    }\n",
       "\n",
       "    .dataframe tbody tr th {\n",
       "        vertical-align: top;\n",
       "    }\n",
       "\n",
       "    .dataframe thead th {\n",
       "        text-align: right;\n",
       "    }\n",
       "</style>\n",
       "<table border=\"1\" class=\"dataframe\">\n",
       "  <thead>\n",
       "    <tr style=\"text-align: right;\">\n",
       "      <th></th>\n",
       "      <th>satisfaction_level</th>\n",
       "      <th>last_evaluation</th>\n",
       "      <th>number_project</th>\n",
       "      <th>average_montly_hours</th>\n",
       "      <th>time_spend_company</th>\n",
       "      <th>Work_accident</th>\n",
       "      <th>left</th>\n",
       "      <th>promotion_last_5years</th>\n",
       "      <th>sales</th>\n",
       "      <th>salary</th>\n",
       "    </tr>\n",
       "  </thead>\n",
       "  <tbody>\n",
       "    <tr>\n",
       "      <th>satisfaction_level</th>\n",
       "      <td>1.000000</td>\n",
       "      <td>-0.004783</td>\n",
       "      <td>0.003717</td>\n",
       "      <td>-0.002322</td>\n",
       "      <td>-0.013434</td>\n",
       "      <td>0.003990</td>\n",
       "      <td>-0.040919</td>\n",
       "      <td>0.002183</td>\n",
       "      <td>0.012301</td>\n",
       "      <td>0.009318</td>\n",
       "    </tr>\n",
       "    <tr>\n",
       "      <th>last_evaluation</th>\n",
       "      <td>-0.004783</td>\n",
       "      <td>1.000000</td>\n",
       "      <td>0.042788</td>\n",
       "      <td>0.037825</td>\n",
       "      <td>0.068062</td>\n",
       "      <td>-0.012361</td>\n",
       "      <td>0.106383</td>\n",
       "      <td>-0.001948</td>\n",
       "      <td>0.001296</td>\n",
       "      <td>0.016344</td>\n",
       "    </tr>\n",
       "    <tr>\n",
       "      <th>number_project</th>\n",
       "      <td>0.003717</td>\n",
       "      <td>0.042788</td>\n",
       "      <td>1.000000</td>\n",
       "      <td>0.331516</td>\n",
       "      <td>0.188837</td>\n",
       "      <td>-0.005612</td>\n",
       "      <td>0.030928</td>\n",
       "      <td>-0.000544</td>\n",
       "      <td>0.010101</td>\n",
       "      <td>0.003199</td>\n",
       "    </tr>\n",
       "    <tr>\n",
       "      <th>average_montly_hours</th>\n",
       "      <td>-0.002322</td>\n",
       "      <td>0.037825</td>\n",
       "      <td>0.331516</td>\n",
       "      <td>1.000000</td>\n",
       "      <td>0.102875</td>\n",
       "      <td>-0.012860</td>\n",
       "      <td>0.070409</td>\n",
       "      <td>-0.004964</td>\n",
       "      <td>0.000623</td>\n",
       "      <td>0.002727</td>\n",
       "    </tr>\n",
       "    <tr>\n",
       "      <th>time_spend_company</th>\n",
       "      <td>-0.013434</td>\n",
       "      <td>0.068062</td>\n",
       "      <td>0.188837</td>\n",
       "      <td>0.102875</td>\n",
       "      <td>1.000000</td>\n",
       "      <td>0.000003</td>\n",
       "      <td>0.173295</td>\n",
       "      <td>0.056828</td>\n",
       "      <td>-0.017806</td>\n",
       "      <td>0.000369</td>\n",
       "    </tr>\n",
       "    <tr>\n",
       "      <th>Work_accident</th>\n",
       "      <td>0.003990</td>\n",
       "      <td>-0.012361</td>\n",
       "      <td>-0.005612</td>\n",
       "      <td>-0.012860</td>\n",
       "      <td>0.000003</td>\n",
       "      <td>1.000000</td>\n",
       "      <td>-0.125436</td>\n",
       "      <td>0.029852</td>\n",
       "      <td>0.006560</td>\n",
       "      <td>-0.003654</td>\n",
       "    </tr>\n",
       "    <tr>\n",
       "      <th>left</th>\n",
       "      <td>-0.040919</td>\n",
       "      <td>0.106383</td>\n",
       "      <td>0.030928</td>\n",
       "      <td>0.070409</td>\n",
       "      <td>0.173295</td>\n",
       "      <td>-0.125436</td>\n",
       "      <td>1.000000</td>\n",
       "      <td>-0.044657</td>\n",
       "      <td>0.018286</td>\n",
       "      <td>0.004224</td>\n",
       "    </tr>\n",
       "    <tr>\n",
       "      <th>promotion_last_5years</th>\n",
       "      <td>0.002183</td>\n",
       "      <td>-0.001948</td>\n",
       "      <td>-0.000544</td>\n",
       "      <td>-0.004964</td>\n",
       "      <td>0.056828</td>\n",
       "      <td>0.029852</td>\n",
       "      <td>-0.044657</td>\n",
       "      <td>1.000000</td>\n",
       "      <td>-0.023826</td>\n",
       "      <td>0.004832</td>\n",
       "    </tr>\n",
       "    <tr>\n",
       "      <th>sales</th>\n",
       "      <td>0.012301</td>\n",
       "      <td>0.001296</td>\n",
       "      <td>0.010101</td>\n",
       "      <td>0.000623</td>\n",
       "      <td>-0.017806</td>\n",
       "      <td>0.006560</td>\n",
       "      <td>0.018286</td>\n",
       "      <td>-0.023826</td>\n",
       "      <td>1.000000</td>\n",
       "      <td>0.006702</td>\n",
       "    </tr>\n",
       "    <tr>\n",
       "      <th>salary</th>\n",
       "      <td>0.009318</td>\n",
       "      <td>0.016344</td>\n",
       "      <td>0.003199</td>\n",
       "      <td>0.002727</td>\n",
       "      <td>0.000369</td>\n",
       "      <td>-0.003654</td>\n",
       "      <td>0.004224</td>\n",
       "      <td>0.004832</td>\n",
       "      <td>0.006702</td>\n",
       "      <td>1.000000</td>\n",
       "    </tr>\n",
       "  </tbody>\n",
       "</table>\n",
       "</div>"
      ],
      "text/plain": [
       "                       satisfaction_level  last_evaluation  number_project  \\\n",
       "satisfaction_level               1.000000        -0.004783        0.003717   \n",
       "last_evaluation                 -0.004783         1.000000        0.042788   \n",
       "number_project                   0.003717         0.042788        1.000000   \n",
       "average_montly_hours            -0.002322         0.037825        0.331516   \n",
       "time_spend_company              -0.013434         0.068062        0.188837   \n",
       "Work_accident                    0.003990        -0.012361       -0.005612   \n",
       "left                            -0.040919         0.106383        0.030928   \n",
       "promotion_last_5years            0.002183        -0.001948       -0.000544   \n",
       "sales                            0.012301         0.001296        0.010101   \n",
       "salary                           0.009318         0.016344        0.003199   \n",
       "\n",
       "                       average_montly_hours  time_spend_company  \\\n",
       "satisfaction_level                -0.002322           -0.013434   \n",
       "last_evaluation                    0.037825            0.068062   \n",
       "number_project                     0.331516            0.188837   \n",
       "average_montly_hours               1.000000            0.102875   \n",
       "time_spend_company                 0.102875            1.000000   \n",
       "Work_accident                     -0.012860            0.000003   \n",
       "left                               0.070409            0.173295   \n",
       "promotion_last_5years             -0.004964            0.056828   \n",
       "sales                              0.000623           -0.017806   \n",
       "salary                             0.002727            0.000369   \n",
       "\n",
       "                       Work_accident      left  promotion_last_5years  \\\n",
       "satisfaction_level          0.003990 -0.040919               0.002183   \n",
       "last_evaluation            -0.012361  0.106383              -0.001948   \n",
       "number_project             -0.005612  0.030928              -0.000544   \n",
       "average_montly_hours       -0.012860  0.070409              -0.004964   \n",
       "time_spend_company          0.000003  0.173295               0.056828   \n",
       "Work_accident               1.000000 -0.125436               0.029852   \n",
       "left                       -0.125436  1.000000              -0.044657   \n",
       "promotion_last_5years       0.029852 -0.044657               1.000000   \n",
       "sales                       0.006560  0.018286              -0.023826   \n",
       "salary                     -0.003654  0.004224               0.004832   \n",
       "\n",
       "                          sales    salary  \n",
       "satisfaction_level     0.012301  0.009318  \n",
       "last_evaluation        0.001296  0.016344  \n",
       "number_project         0.010101  0.003199  \n",
       "average_montly_hours   0.000623  0.002727  \n",
       "time_spend_company    -0.017806  0.000369  \n",
       "Work_accident          0.006560 -0.003654  \n",
       "left                   0.018286  0.004224  \n",
       "promotion_last_5years -0.023826  0.004832  \n",
       "sales                  1.000000  0.006702  \n",
       "salary                 0.006702  1.000000  "
      ]
     },
     "execution_count": 40,
     "metadata": {},
     "output_type": "execute_result"
    }
   ],
   "source": [
    "df1.corr()"
   ]
  },
  {
   "cell_type": "code",
   "execution_count": 41,
   "id": "540da89c",
   "metadata": {},
   "outputs": [
    {
     "data": {
      "image/png": "[encoded data removed]",
      "text/plain": [
       "<Figure size 1440x1440 with 2 Axes>"
      ]
     },
     "metadata": {
      "needs_background": "light"
     },
     "output_type": "display_data"
    }
   ],
   "source": [
    "plt.figure(figsize=(20,20))\n",
    "sns.heatmap(df1.corr(),annot=True)\n",
    "plt.show()"
   ]
  },
  {
   "cell_type": "code",
   "execution_count": 42,
   "id": "901b45b9",
   "metadata": {},
   "outputs": [
    {
     "data": {
      "text/plain": [
       "<AxesSubplot:>"
      ]
     },
     "execution_count": 42,
     "metadata": {},
     "output_type": "execute_result"
    },
    {
     "data": {
      "image/png": "[encoded data removed]",
      "text/plain": [
       "<Figure size 1440x1440 with 1 Axes>"
      ]
     },
     "metadata": {
      "needs_background": "light"
     },
     "output_type": "display_data"
    }
   ],
   "source": [
    "df1.iloc[:,0:-1].boxplot(figsize=(20,20))"
   ]
  },
  {
   "cell_type": "markdown",
   "id": "cd463757",
   "metadata": {},
   "source": [
    "Many columns have outliers"
   ]
  },
  {
   "cell_type": "code",
   "execution_count": 43,
   "id": "e48c7613",
   "metadata": {},
   "outputs": [
    {
     "data": {
      "text/plain": [
       "satisfaction_level       10.814234\n",
       "last_evaluation           7.548922\n",
       "number_project            0.332152\n",
       "average_montly_hours      0.027208\n",
       "time_spend_company        1.816577\n",
       "Work_accident             1.914410\n",
       "left                      1.795135\n",
       "promotion_last_5years     7.490008\n",
       "sales                    -0.822811\n",
       "salary                   -0.446049\n",
       "dtype: float64"
      ]
     },
     "execution_count": 43,
     "metadata": {},
     "output_type": "execute_result"
    }
   ],
   "source": [
    "df1.skew()"
   ]
  },
  {
   "cell_type": "markdown",
   "id": "2b3ff5fb",
   "metadata": {},
   "source": [
    "# REMOVING OUTLIERS"
   ]
  },
  {
   "cell_type": "code",
   "execution_count": 44,
   "id": "870ddb2a",
   "metadata": {},
   "outputs": [],
   "source": [
    "from scipy.stats import zscore\n",
    "z=np.abs(zscore(df1))"
   ]
  },
  {
   "cell_type": "code",
   "execution_count": 45,
   "id": "c9bf2073",
   "metadata": {},
   "outputs": [
    {
     "data": {
      "text/html": [
       "<div>\n",
       "<style scoped>\n",
       "    .dataframe tbody tr th:only-of-type {\n",
       "        vertical-align: middle;\n",
       "    }\n",
       "\n",
       "    .dataframe tbody tr th {\n",
       "        vertical-align: top;\n",
       "    }\n",
       "\n",
       "    .dataframe thead th {\n",
       "        text-align: right;\n",
       "    }\n",
       "</style>\n",
       "<table border=\"1\" class=\"dataframe\">\n",
       "  <thead>\n",
       "    <tr style=\"text-align: right;\">\n",
       "      <th></th>\n",
       "      <th>satisfaction_level</th>\n",
       "      <th>last_evaluation</th>\n",
       "      <th>number_project</th>\n",
       "      <th>average_montly_hours</th>\n",
       "      <th>time_spend_company</th>\n",
       "      <th>Work_accident</th>\n",
       "      <th>left</th>\n",
       "      <th>promotion_last_5years</th>\n",
       "      <th>sales</th>\n",
       "      <th>salary</th>\n",
       "    </tr>\n",
       "  </thead>\n",
       "  <tbody>\n",
       "    <tr>\n",
       "      <th>0</th>\n",
       "      <td>0</td>\n",
       "      <td>0</td>\n",
       "      <td>2</td>\n",
       "      <td>157</td>\n",
       "      <td>3</td>\n",
       "      <td>0</td>\n",
       "      <td>1</td>\n",
       "      <td>0</td>\n",
       "      <td>7</td>\n",
       "      <td>1</td>\n",
       "    </tr>\n",
       "    <tr>\n",
       "      <th>1</th>\n",
       "      <td>0</td>\n",
       "      <td>0</td>\n",
       "      <td>5</td>\n",
       "      <td>262</td>\n",
       "      <td>6</td>\n",
       "      <td>0</td>\n",
       "      <td>1</td>\n",
       "      <td>0</td>\n",
       "      <td>7</td>\n",
       "      <td>2</td>\n",
       "    </tr>\n",
       "    <tr>\n",
       "      <th>2</th>\n",
       "      <td>0</td>\n",
       "      <td>0</td>\n",
       "      <td>7</td>\n",
       "      <td>272</td>\n",
       "      <td>4</td>\n",
       "      <td>0</td>\n",
       "      <td>1</td>\n",
       "      <td>0</td>\n",
       "      <td>7</td>\n",
       "      <td>2</td>\n",
       "    </tr>\n",
       "    <tr>\n",
       "      <th>3</th>\n",
       "      <td>0</td>\n",
       "      <td>0</td>\n",
       "      <td>5</td>\n",
       "      <td>223</td>\n",
       "      <td>5</td>\n",
       "      <td>0</td>\n",
       "      <td>1</td>\n",
       "      <td>0</td>\n",
       "      <td>7</td>\n",
       "      <td>1</td>\n",
       "    </tr>\n",
       "    <tr>\n",
       "      <th>4</th>\n",
       "      <td>0</td>\n",
       "      <td>0</td>\n",
       "      <td>2</td>\n",
       "      <td>159</td>\n",
       "      <td>3</td>\n",
       "      <td>0</td>\n",
       "      <td>1</td>\n",
       "      <td>0</td>\n",
       "      <td>7</td>\n",
       "      <td>1</td>\n",
       "    </tr>\n",
       "  </tbody>\n",
       "</table>\n",
       "</div>"
      ],
      "text/plain": [
       "   satisfaction_level  last_evaluation  number_project  average_montly_hours  \\\n",
       "0                   0                0               2                   157   \n",
       "1                   0                0               5                   262   \n",
       "2                   0                0               7                   272   \n",
       "3                   0                0               5                   223   \n",
       "4                   0                0               2                   159   \n",
       "\n",
       "   time_spend_company  Work_accident  left  promotion_last_5years  sales  \\\n",
       "0                   3              0     1                      0      7   \n",
       "1                   6              0     1                      0      7   \n",
       "2                   4              0     1                      0      7   \n",
       "3                   5              0     1                      0      7   \n",
       "4                   3              0     1                      0      7   \n",
       "\n",
       "   salary  \n",
       "0       1  \n",
       "1       2  \n",
       "2       2  \n",
       "3       1  \n",
       "4       1  "
      ]
     },
     "execution_count": 45,
     "metadata": {},
     "output_type": "execute_result"
    }
   ],
   "source": [
    "dfnew=df1[(z<3).all(axis=1)]\n",
    "dfnew.head()"
   ]
  },
  {
   "cell_type": "code",
   "execution_count": 46,
   "id": "141ece5a",
   "metadata": {},
   "outputs": [
    {
     "data": {
      "text/plain": [
       "satisfaction_level       0.000000\n",
       "last_evaluation          0.000000\n",
       "number_project           0.343081\n",
       "average_montly_hours     0.038554\n",
       "time_spend_company       0.981576\n",
       "Work_accident            1.940574\n",
       "left                     1.786392\n",
       "promotion_last_5years    0.000000\n",
       "sales                   -0.834578\n",
       "salary                  -0.427136\n",
       "dtype: float64"
      ]
     },
     "execution_count": 46,
     "metadata": {},
     "output_type": "execute_result"
    }
   ],
   "source": [
    "dfnew.skew()"
   ]
  },
  {
   "cell_type": "markdown",
   "id": "e8285ab7",
   "metadata": {},
   "source": [
    "SKEW IS REMOVED"
   ]
  },
  {
   "cell_type": "markdown",
   "id": "2cb7d964",
   "metadata": {},
   "source": [
    "# SPLITTING X (INPUT VARIABLE) AND Y (OUTPUT VARIABLE)"
   ]
  },
  {
   "cell_type": "code",
   "execution_count": 47,
   "id": "f1c25d3d",
   "metadata": {},
   "outputs": [],
   "source": [
    "x=dfnew.drop('left',axis=1)\n",
    "y=dfnew['left']"
   ]
  },
  {
   "cell_type": "code",
   "execution_count": 48,
   "id": "96871b50",
   "metadata": {},
   "outputs": [
    {
     "data": {
      "text/html": [
       "<div>\n",
       "<style scoped>\n",
       "    .dataframe tbody tr th:only-of-type {\n",
       "        vertical-align: middle;\n",
       "    }\n",
       "\n",
       "    .dataframe tbody tr th {\n",
       "        vertical-align: top;\n",
       "    }\n",
       "\n",
       "    .dataframe thead th {\n",
       "        text-align: right;\n",
       "    }\n",
       "</style>\n",
       "<table border=\"1\" class=\"dataframe\">\n",
       "  <thead>\n",
       "    <tr style=\"text-align: right;\">\n",
       "      <th></th>\n",
       "      <th>satisfaction_level</th>\n",
       "      <th>last_evaluation</th>\n",
       "      <th>number_project</th>\n",
       "      <th>average_montly_hours</th>\n",
       "      <th>time_spend_company</th>\n",
       "      <th>Work_accident</th>\n",
       "      <th>promotion_last_5years</th>\n",
       "      <th>sales</th>\n",
       "      <th>salary</th>\n",
       "    </tr>\n",
       "  </thead>\n",
       "  <tbody>\n",
       "    <tr>\n",
       "      <th>0</th>\n",
       "      <td>0</td>\n",
       "      <td>0</td>\n",
       "      <td>2</td>\n",
       "      <td>157</td>\n",
       "      <td>3</td>\n",
       "      <td>0</td>\n",
       "      <td>0</td>\n",
       "      <td>7</td>\n",
       "      <td>1</td>\n",
       "    </tr>\n",
       "    <tr>\n",
       "      <th>1</th>\n",
       "      <td>0</td>\n",
       "      <td>0</td>\n",
       "      <td>5</td>\n",
       "      <td>262</td>\n",
       "      <td>6</td>\n",
       "      <td>0</td>\n",
       "      <td>0</td>\n",
       "      <td>7</td>\n",
       "      <td>2</td>\n",
       "    </tr>\n",
       "    <tr>\n",
       "      <th>2</th>\n",
       "      <td>0</td>\n",
       "      <td>0</td>\n",
       "      <td>7</td>\n",
       "      <td>272</td>\n",
       "      <td>4</td>\n",
       "      <td>0</td>\n",
       "      <td>0</td>\n",
       "      <td>7</td>\n",
       "      <td>2</td>\n",
       "    </tr>\n",
       "    <tr>\n",
       "      <th>3</th>\n",
       "      <td>0</td>\n",
       "      <td>0</td>\n",
       "      <td>5</td>\n",
       "      <td>223</td>\n",
       "      <td>5</td>\n",
       "      <td>0</td>\n",
       "      <td>0</td>\n",
       "      <td>7</td>\n",
       "      <td>1</td>\n",
       "    </tr>\n",
       "    <tr>\n",
       "      <th>4</th>\n",
       "      <td>0</td>\n",
       "      <td>0</td>\n",
       "      <td>2</td>\n",
       "      <td>159</td>\n",
       "      <td>3</td>\n",
       "      <td>0</td>\n",
       "      <td>0</td>\n",
       "      <td>7</td>\n",
       "      <td>1</td>\n",
       "    </tr>\n",
       "  </tbody>\n",
       "</table>\n",
       "</div>"
      ],
      "text/plain": [
       "   satisfaction_level  last_evaluation  number_project  average_montly_hours  \\\n",
       "0                   0                0               2                   157   \n",
       "1                   0                0               5                   262   \n",
       "2                   0                0               7                   272   \n",
       "3                   0                0               5                   223   \n",
       "4                   0                0               2                   159   \n",
       "\n",
       "   time_spend_company  Work_accident  promotion_last_5years  sales  salary  \n",
       "0                   3              0                      0      7       1  \n",
       "1                   6              0                      0      7       2  \n",
       "2                   4              0                      0      7       2  \n",
       "3                   5              0                      0      7       1  \n",
       "4                   3              0                      0      7       1  "
      ]
     },
     "execution_count": 48,
     "metadata": {},
     "output_type": "execute_result"
    }
   ],
   "source": [
    "x.head()"
   ]
  },
  {
   "cell_type": "code",
   "execution_count": 49,
   "id": "52851b37",
   "metadata": {},
   "outputs": [
    {
     "data": {
      "text/plain": [
       "(11321, 9)"
      ]
     },
     "execution_count": 49,
     "metadata": {},
     "output_type": "execute_result"
    }
   ],
   "source": [
    "x.shape"
   ]
  },
  {
   "cell_type": "code",
   "execution_count": 50,
   "id": "ff1ada18",
   "metadata": {},
   "outputs": [
    {
     "data": {
      "text/plain": [
       "0    1\n",
       "1    1\n",
       "2    1\n",
       "3    1\n",
       "4    1\n",
       "Name: left, dtype: int64"
      ]
     },
     "execution_count": 50,
     "metadata": {},
     "output_type": "execute_result"
    }
   ],
   "source": [
    "y.head()"
   ]
  },
  {
   "cell_type": "code",
   "execution_count": 51,
   "id": "302d455e",
   "metadata": {},
   "outputs": [
    {
     "data": {
      "text/plain": [
       "(11321,)"
      ]
     },
     "execution_count": 51,
     "metadata": {},
     "output_type": "execute_result"
    }
   ],
   "source": [
    "y.shape"
   ]
  },
  {
   "cell_type": "markdown",
   "id": "77ecaf15",
   "metadata": {},
   "source": [
    "# BALANCING X AND Y"
   ]
  },
  {
   "cell_type": "code",
   "execution_count": 52,
   "id": "4bbc36d5",
   "metadata": {},
   "outputs": [],
   "source": [
    "from sklearn.preprocessing import power_transform"
   ]
  },
  {
   "cell_type": "code",
   "execution_count": 53,
   "id": "4fc93c9b",
   "metadata": {},
   "outputs": [
    {
     "data": {
      "text/html": [
       "<div>\n",
       "<style scoped>\n",
       "    .dataframe tbody tr th:only-of-type {\n",
       "        vertical-align: middle;\n",
       "    }\n",
       "\n",
       "    .dataframe tbody tr th {\n",
       "        vertical-align: top;\n",
       "    }\n",
       "\n",
       "    .dataframe thead th {\n",
       "        text-align: right;\n",
       "    }\n",
       "</style>\n",
       "<table border=\"1\" class=\"dataframe\">\n",
       "  <thead>\n",
       "    <tr style=\"text-align: right;\">\n",
       "      <th></th>\n",
       "      <th>satisfaction_level</th>\n",
       "      <th>last_evaluation</th>\n",
       "      <th>number_project</th>\n",
       "      <th>average_montly_hours</th>\n",
       "      <th>time_spend_company</th>\n",
       "      <th>Work_accident</th>\n",
       "      <th>promotion_last_5years</th>\n",
       "      <th>sales</th>\n",
       "      <th>salary</th>\n",
       "    </tr>\n",
       "  </thead>\n",
       "  <tbody>\n",
       "    <tr>\n",
       "      <th>0</th>\n",
       "      <td>0.0</td>\n",
       "      <td>0.0</td>\n",
       "      <td>-1.695842</td>\n",
       "      <td>-0.875853</td>\n",
       "      <td>-0.038580</td>\n",
       "      <td>-0.423114</td>\n",
       "      <td>0.0</td>\n",
       "      <td>0.315854</td>\n",
       "      <td>-0.640705</td>\n",
       "    </tr>\n",
       "    <tr>\n",
       "      <th>1</th>\n",
       "      <td>0.0</td>\n",
       "      <td>0.0</td>\n",
       "      <td>1.028000</td>\n",
       "      <td>1.240185</td>\n",
       "      <td>1.906913</td>\n",
       "      <td>-0.423114</td>\n",
       "      <td>0.0</td>\n",
       "      <td>0.315854</td>\n",
       "      <td>1.072469</td>\n",
       "    </tr>\n",
       "    <tr>\n",
       "      <th>2</th>\n",
       "      <td>0.0</td>\n",
       "      <td>0.0</td>\n",
       "      <td>2.338080</td>\n",
       "      <td>1.427400</td>\n",
       "      <td>0.839018</td>\n",
       "      <td>-0.423114</td>\n",
       "      <td>0.0</td>\n",
       "      <td>0.315854</td>\n",
       "      <td>1.072469</td>\n",
       "    </tr>\n",
       "    <tr>\n",
       "      <th>3</th>\n",
       "      <td>0.0</td>\n",
       "      <td>0.0</td>\n",
       "      <td>1.028000</td>\n",
       "      <td>0.489263</td>\n",
       "      <td>1.451929</td>\n",
       "      <td>-0.423114</td>\n",
       "      <td>0.0</td>\n",
       "      <td>0.315854</td>\n",
       "      <td>-0.640705</td>\n",
       "    </tr>\n",
       "    <tr>\n",
       "      <th>4</th>\n",
       "      <td>0.0</td>\n",
       "      <td>0.0</td>\n",
       "      <td>-1.695842</td>\n",
       "      <td>-0.832318</td>\n",
       "      <td>-0.038580</td>\n",
       "      <td>-0.423114</td>\n",
       "      <td>0.0</td>\n",
       "      <td>0.315854</td>\n",
       "      <td>-0.640705</td>\n",
       "    </tr>\n",
       "  </tbody>\n",
       "</table>\n",
       "</div>"
      ],
      "text/plain": [
       "   satisfaction_level  last_evaluation  number_project  average_montly_hours  \\\n",
       "0                 0.0              0.0       -1.695842             -0.875853   \n",
       "1                 0.0              0.0        1.028000              1.240185   \n",
       "2                 0.0              0.0        2.338080              1.427400   \n",
       "3                 0.0              0.0        1.028000              0.489263   \n",
       "4                 0.0              0.0       -1.695842             -0.832318   \n",
       "\n",
       "   time_spend_company  Work_accident  promotion_last_5years     sales  \\\n",
       "0           -0.038580      -0.423114                    0.0  0.315854   \n",
       "1            1.906913      -0.423114                    0.0  0.315854   \n",
       "2            0.839018      -0.423114                    0.0  0.315854   \n",
       "3            1.451929      -0.423114                    0.0  0.315854   \n",
       "4           -0.038580      -0.423114                    0.0  0.315854   \n",
       "\n",
       "     salary  \n",
       "0 -0.640705  \n",
       "1  1.072469  \n",
       "2  1.072469  \n",
       "3 -0.640705  \n",
       "4 -0.640705  "
      ]
     },
     "execution_count": 53,
     "metadata": {},
     "output_type": "execute_result"
    }
   ],
   "source": [
    "newx=power_transform(x)\n",
    "dfx=pd.DataFrame(data=newx,columns=x.columns)\n",
    "dfx.head()"
   ]
  },
  {
   "cell_type": "code",
   "execution_count": 54,
   "id": "e528390e",
   "metadata": {},
   "outputs": [
    {
     "data": {
      "text/plain": [
       "(11321, 9)"
      ]
     },
     "execution_count": 54,
     "metadata": {},
     "output_type": "execute_result"
    }
   ],
   "source": [
    "dfx.shape"
   ]
  },
  {
   "cell_type": "code",
   "execution_count": 55,
   "id": "1e6ea970",
   "metadata": {},
   "outputs": [
    {
     "data": {
      "text/plain": [
       "0    9431\n",
       "1    1890\n",
       "Name: left, dtype: int64"
      ]
     },
     "execution_count": 55,
     "metadata": {},
     "output_type": "execute_result"
    }
   ],
   "source": [
    "y.value_counts()"
   ]
  },
  {
   "cell_type": "code",
   "execution_count": 56,
   "id": "4d98d0b6",
   "metadata": {},
   "outputs": [
    {
     "data": {
      "text/plain": [
       "<AxesSubplot:xlabel='left', ylabel='count'>"
      ]
     },
     "execution_count": 56,
     "metadata": {},
     "output_type": "execute_result"
    },
    {
     "data": {
      "image/png": "[encoded data removed]",
      "text/plain": [
       "<Figure size 432x288 with 1 Axes>"
      ]
     },
     "metadata": {
      "needs_background": "light"
     },
     "output_type": "display_data"
    }
   ],
   "source": [
    "sns.countplot(y)"
   ]
  },
  {
   "cell_type": "code",
   "execution_count": 57,
   "id": "7bbed56b",
   "metadata": {},
   "outputs": [],
   "source": [
    "from imblearn.over_sampling import SMOTE\n",
    "smt=SMOTE()\n",
    "xnew,ynew=smt.fit_resample(dfx,y)"
   ]
  },
  {
   "cell_type": "code",
   "execution_count": 58,
   "id": "ff076190",
   "metadata": {},
   "outputs": [
    {
     "data": {
      "text/plain": [
       "1    9431\n",
       "0    9431\n",
       "Name: left, dtype: int64"
      ]
     },
     "execution_count": 58,
     "metadata": {},
     "output_type": "execute_result"
    }
   ],
   "source": [
    "ynew.value_counts()"
   ]
  },
  {
   "cell_type": "code",
   "execution_count": 59,
   "id": "2b413241",
   "metadata": {},
   "outputs": [
    {
     "data": {
      "text/plain": [
       "<AxesSubplot:xlabel='left', ylabel='count'>"
      ]
     },
     "execution_count": 59,
     "metadata": {},
     "output_type": "execute_result"
    },
    {
     "data": {
      "image/png": "[encoded data removed]",
      "text/plain": [
       "<Figure size 432x288 with 1 Axes>"
      ]
     },
     "metadata": {
      "needs_background": "light"
     },
     "output_type": "display_data"
    }
   ],
   "source": [
    "sns.countplot(ynew)"
   ]
  },
  {
   "cell_type": "markdown",
   "id": "8d465225",
   "metadata": {},
   "source": [
    "# TRAINING AND TESTING"
   ]
  },
  {
   "cell_type": "code",
   "execution_count": 60,
   "id": "f3056ff4",
   "metadata": {},
   "outputs": [],
   "source": [
    "from sklearn.model_selection import train_test_split\n",
    "from sklearn.linear_model import LogisticRegression\n",
    "lr=LogisticRegression()\n",
    "from sklearn.metrics import accuracy_score,confusion_matrix,classification_report"
   ]
  },
  {
   "cell_type": "code",
   "execution_count": 61,
   "id": "9d4875a3",
   "metadata": {},
   "outputs": [
    {
     "name": "stdout",
     "output_type": "stream",
     "text": [
      "Accuracy_score of LogisticRegression  0.7805459846276173 at random_state  0\n",
      "Mac acc score of lr  78.05459846276173 at random_state  0\n",
      "Accuracy_score of LogisticRegression  0.7765703684071031 at random_state  1\n",
      "Mac acc score of lr  78.05459846276173 at random_state  0\n",
      "Accuracy_score of LogisticRegression  0.7723297111052213 at random_state  2\n",
      "Mac acc score of lr  78.05459846276173 at random_state  0\n",
      "Accuracy_score of LogisticRegression  0.7741849986747946 at random_state  3\n",
      "Mac acc score of lr  78.05459846276173 at random_state  0\n",
      "Accuracy_score of LogisticRegression  0.7641134375828253 at random_state  4\n",
      "Mac acc score of lr  78.05459846276173 at random_state  0\n",
      "Accuracy_score of LogisticRegression  0.7945931619401008 at random_state  5\n",
      "Mac acc score of lr  79.45931619401007 at random_state  5\n",
      "Accuracy_score of LogisticRegression  0.7731248343493241 at random_state  6\n",
      "Mac acc score of lr  79.45931619401007 at random_state  5\n",
      "Accuracy_score of LogisticRegression  0.7755102040816326 at random_state  7\n",
      "Mac acc score of lr  79.45931619401007 at random_state  5\n",
      "Accuracy_score of LogisticRegression  0.7847866419294991 at random_state  8\n",
      "Mac acc score of lr  79.45931619401007 at random_state  5\n",
      "Accuracy_score of LogisticRegression  0.7794858203021469 at random_state  9\n",
      "Mac acc score of lr  79.45931619401007 at random_state  5\n",
      "Accuracy_score of LogisticRegression  0.7747150808375298 at random_state  10\n",
      "Mac acc score of lr  79.45931619401007 at random_state  5\n",
      "Accuracy_score of LogisticRegression  0.7659687251523987 at random_state  11\n",
      "Mac acc score of lr  79.45931619401007 at random_state  5\n",
      "Accuracy_score of LogisticRegression  0.7765703684071031 at random_state  12\n",
      "Mac acc score of lr  79.45931619401007 at random_state  5\n",
      "Accuracy_score of LogisticRegression  0.7816061489530878 at random_state  13\n",
      "Mac acc score of lr  79.45931619401007 at random_state  5\n",
      "Accuracy_score of LogisticRegression  0.7707394646170156 at random_state  14\n",
      "Mac acc score of lr  79.45931619401007 at random_state  5\n",
      "Accuracy_score of LogisticRegression  0.783461436522661 at random_state  15\n",
      "Mac acc score of lr  79.45931619401007 at random_state  5\n",
      "Accuracy_score of LogisticRegression  0.7800159024648821 at random_state  16\n",
      "Mac acc score of lr  79.45931619401007 at random_state  5\n",
      "Accuracy_score of LogisticRegression  0.7863768884177047 at random_state  17\n",
      "Mac acc score of lr  79.45931619401007 at random_state  5\n",
      "Accuracy_score of LogisticRegression  0.7749801219188974 at random_state  18\n",
      "Mac acc score of lr  79.45931619401007 at random_state  5\n",
      "Accuracy_score of LogisticRegression  0.7763053273257355 at random_state  19\n",
      "Mac acc score of lr  79.45931619401007 at random_state  5\n",
      "Accuracy_score of LogisticRegression  0.7659687251523987 at random_state  20\n",
      "Mac acc score of lr  79.45931619401007 at random_state  5\n",
      "Accuracy_score of LogisticRegression  0.7792207792207793 at random_state  21\n",
      "Mac acc score of lr  79.45931619401007 at random_state  5\n",
      "Accuracy_score of LogisticRegression  0.7723297111052213 at random_state  22\n",
      "Mac acc score of lr  79.45931619401007 at random_state  5\n",
      "Accuracy_score of LogisticRegression  0.7717996289424861 at random_state  23\n",
      "Mac acc score of lr  79.45931619401007 at random_state  5\n",
      "Accuracy_score of LogisticRegression  0.7794858203021469 at random_state  24\n",
      "Mac acc score of lr  79.45931619401007 at random_state  5\n",
      "Accuracy_score of LogisticRegression  0.7664988073151339 at random_state  25\n",
      "Mac acc score of lr  79.45931619401007 at random_state  5\n",
      "Accuracy_score of LogisticRegression  0.7717996289424861 at random_state  26\n",
      "Mac acc score of lr  79.45931619401007 at random_state  5\n",
      "Accuracy_score of LogisticRegression  0.7813411078717201 at random_state  27\n",
      "Mac acc score of lr  79.45931619401007 at random_state  5\n",
      "Accuracy_score of LogisticRegression  0.7686191359660748 at random_state  28\n",
      "Mac acc score of lr  79.45931619401007 at random_state  5\n",
      "Accuracy_score of LogisticRegression  0.7651736019082958 at random_state  29\n",
      "Mac acc score of lr  79.45931619401007 at random_state  5\n",
      "Accuracy_score of LogisticRegression  0.7805459846276173 at random_state  30\n",
      "Mac acc score of lr  79.45931619401007 at random_state  5\n",
      "Accuracy_score of LogisticRegression  0.7649085608269282 at random_state  31\n",
      "Mac acc score of lr  79.45931619401007 at random_state  5\n",
      "Accuracy_score of LogisticRegression  0.7802809435462497 at random_state  32\n",
      "Mac acc score of lr  79.45931619401007 at random_state  5\n",
      "Accuracy_score of LogisticRegression  0.7720646700238537 at random_state  33\n",
      "Mac acc score of lr  79.45931619401007 at random_state  5\n",
      "Accuracy_score of LogisticRegression  0.7797508613835145 at random_state  34\n",
      "Mac acc score of lr  79.45931619401007 at random_state  5\n",
      "Accuracy_score of LogisticRegression  0.7680890538033395 at random_state  35\n",
      "Mac acc score of lr  79.45931619401007 at random_state  5\n",
      "Accuracy_score of LogisticRegression  0.7736549165120594 at random_state  36\n",
      "Mac acc score of lr  79.45931619401007 at random_state  5\n",
      "Accuracy_score of LogisticRegression  0.7776305327325735 at random_state  37\n",
      "Mac acc score of lr  79.45931619401007 at random_state  5\n",
      "Accuracy_score of LogisticRegression  0.7720646700238537 at random_state  38\n",
      "Mac acc score of lr  79.45931619401007 at random_state  5\n",
      "Accuracy_score of LogisticRegression  0.778690697058044 at random_state  39\n",
      "Mac acc score of lr  79.45931619401007 at random_state  5\n",
      "Accuracy_score of LogisticRegression  0.7680890538033395 at random_state  40\n",
      "Mac acc score of lr  79.45931619401007 at random_state  5\n",
      "Accuracy_score of LogisticRegression  0.7699443413729128 at random_state  41\n",
      "Mac acc score of lr  79.45931619401007 at random_state  5\n",
      "Accuracy_score of LogisticRegression  0.7842565597667639 at random_state  42\n",
      "Mac acc score of lr  79.45931619401007 at random_state  5\n",
      "Accuracy_score of LogisticRegression  0.796448449509674 at random_state  43\n",
      "Mac acc score of lr  79.6448449509674 at random_state  43\n",
      "Accuracy_score of LogisticRegression  0.7810760667903525 at random_state  44\n",
      "Mac acc score of lr  79.6448449509674 at random_state  43\n",
      "Accuracy_score of LogisticRegression  0.783461436522661 at random_state  45\n",
      "Mac acc score of lr  79.6448449509674 at random_state  43\n",
      "Accuracy_score of LogisticRegression  0.7855817651736019 at random_state  46\n",
      "Mac acc score of lr  79.6448449509674 at random_state  43\n",
      "Accuracy_score of LogisticRegression  0.7763053273257355 at random_state  47\n",
      "Mac acc score of lr  79.6448449509674 at random_state  43\n",
      "Accuracy_score of LogisticRegression  0.7808110257089849 at random_state  48\n",
      "Mac acc score of lr  79.6448449509674 at random_state  43\n",
      "Accuracy_score of LogisticRegression  0.7686191359660748 at random_state  49\n",
      "Mac acc score of lr  79.6448449509674 at random_state  43\n",
      "Accuracy_score of LogisticRegression  0.7797508613835145 at random_state  50\n",
      "Mac acc score of lr  79.6448449509674 at random_state  43\n",
      "Accuracy_score of LogisticRegression  0.782136231115823 at random_state  51\n",
      "Mac acc score of lr  79.6448449509674 at random_state  43\n",
      "Accuracy_score of LogisticRegression  0.7749801219188974 at random_state  52\n",
      "Mac acc score of lr  79.6448449509674 at random_state  43\n",
      "Accuracy_score of LogisticRegression  0.7757752451630002 at random_state  53\n",
      "Mac acc score of lr  79.6448449509674 at random_state  43\n",
      "Accuracy_score of LogisticRegression  0.7847866419294991 at random_state  54\n",
      "Mac acc score of lr  79.6448449509674 at random_state  43\n",
      "Accuracy_score of LogisticRegression  0.7651736019082958 at random_state  55\n",
      "Mac acc score of lr  79.6448449509674 at random_state  43\n",
      "Accuracy_score of LogisticRegression  0.7789557381394117 at random_state  56\n",
      "Mac acc score of lr  79.6448449509674 at random_state  43\n",
      "Accuracy_score of LogisticRegression  0.7736549165120594 at random_state  57\n",
      "Mac acc score of lr  79.6448449509674 at random_state  43\n",
      "Accuracy_score of LogisticRegression  0.7675589716406043 at random_state  58\n",
      "Mac acc score of lr  79.6448449509674 at random_state  43\n",
      "Accuracy_score of LogisticRegression  0.7588126159554731 at random_state  59\n",
      "Mac acc score of lr  79.6448449509674 at random_state  43\n",
      "Accuracy_score of LogisticRegression  0.7675589716406043 at random_state  60\n",
      "Mac acc score of lr  79.6448449509674 at random_state  43\n",
      "Accuracy_score of LogisticRegression  0.7808110257089849 at random_state  61\n",
      "Mac acc score of lr  79.6448449509674 at random_state  43\n",
      "Accuracy_score of LogisticRegression  0.7654386429896634 at random_state  62\n",
      "Mac acc score of lr  79.6448449509674 at random_state  43\n",
      "Accuracy_score of LogisticRegression  0.7763053273257355 at random_state  63\n",
      "Mac acc score of lr  79.6448449509674 at random_state  43\n",
      "Accuracy_score of LogisticRegression  0.7747150808375298 at random_state  64\n",
      "Mac acc score of lr  79.6448449509674 at random_state  43\n",
      "Accuracy_score of LogisticRegression  0.7731248343493241 at random_state  65\n",
      "Mac acc score of lr  79.6448449509674 at random_state  43\n",
      "Accuracy_score of LogisticRegression  0.7853167240922343 at random_state  66\n",
      "Mac acc score of lr  79.6448449509674 at random_state  43\n",
      "Accuracy_score of LogisticRegression  0.7792207792207793 at random_state  67\n",
      "Mac acc score of lr  79.6448449509674 at random_state  43\n",
      "Accuracy_score of LogisticRegression  0.7900874635568513 at random_state  68\n",
      "Mac acc score of lr  79.6448449509674 at random_state  43\n",
      "Accuracy_score of LogisticRegression  0.7853167240922343 at random_state  69\n",
      "Mac acc score of lr  79.6448449509674 at random_state  43\n",
      "Accuracy_score of LogisticRegression  0.775245163000265 at random_state  70\n",
      "Mac acc score of lr  79.6448449509674 at random_state  43\n",
      "Accuracy_score of LogisticRegression  0.7802809435462497 at random_state  71\n",
      "Mac acc score of lr  79.6448449509674 at random_state  43\n",
      "Accuracy_score of LogisticRegression  0.778690697058044 at random_state  72\n",
      "Mac acc score of lr  79.6448449509674 at random_state  43\n",
      "Accuracy_score of LogisticRegression  0.7773654916512059 at random_state  73\n",
      "Mac acc score of lr  79.6448449509674 at random_state  43\n",
      "Accuracy_score of LogisticRegression  0.773919957593427 at random_state  74\n",
      "Mac acc score of lr  79.6448449509674 at random_state  43\n",
      "Accuracy_score of LogisticRegression  0.7818711900344554 at random_state  75\n",
      "Mac acc score of lr  79.6448449509674 at random_state  43\n",
      "Accuracy_score of LogisticRegression  0.7911476278823217 at random_state  76\n",
      "Mac acc score of lr  79.6448449509674 at random_state  43\n",
      "Accuracy_score of LogisticRegression  0.7659687251523987 at random_state  77\n",
      "Mac acc score of lr  79.6448449509674 at random_state  43\n",
      "Accuracy_score of LogisticRegression  0.7749801219188974 at random_state  78\n",
      "Mac acc score of lr  79.6448449509674 at random_state  43\n",
      "Accuracy_score of LogisticRegression  0.7675589716406043 at random_state  79\n",
      "Mac acc score of lr  79.6448449509674 at random_state  43\n",
      "Accuracy_score of LogisticRegression  0.7763053273257355 at random_state  80\n",
      "Mac acc score of lr  79.6448449509674 at random_state  43\n",
      "Accuracy_score of LogisticRegression  0.7765703684071031 at random_state  81\n",
      "Mac acc score of lr  79.6448449509674 at random_state  43\n",
      "Accuracy_score of LogisticRegression  0.7863768884177047 at random_state  82\n",
      "Mac acc score of lr  79.6448449509674 at random_state  43\n",
      "Accuracy_score of LogisticRegression  0.7789557381394117 at random_state  83\n",
      "Mac acc score of lr  79.6448449509674 at random_state  43\n",
      "Accuracy_score of LogisticRegression  0.7781606148953087 at random_state  84\n",
      "Mac acc score of lr  79.6448449509674 at random_state  43\n",
      "Accuracy_score of LogisticRegression  0.7699443413729128 at random_state  85\n",
      "Mac acc score of lr  79.6448449509674 at random_state  43\n",
      "Accuracy_score of LogisticRegression  0.7688841770474424 at random_state  86\n",
      "Mac acc score of lr  79.6448449509674 at random_state  43\n",
      "Accuracy_score of LogisticRegression  0.7773654916512059 at random_state  87\n",
      "Mac acc score of lr  79.6448449509674 at random_state  43\n",
      "Accuracy_score of LogisticRegression  0.7757752451630002 at random_state  88\n",
      "Mac acc score of lr  79.6448449509674 at random_state  43\n",
      "Accuracy_score of LogisticRegression  0.7755102040816326 at random_state  89\n",
      "Mac acc score of lr  79.6448449509674 at random_state  43\n",
      "Accuracy_score of LogisticRegression  0.7744500397561622 at random_state  90\n",
      "Mac acc score of lr  79.6448449509674 at random_state  43\n",
      "Accuracy_score of LogisticRegression  0.7763053273257355 at random_state  91\n",
      "Mac acc score of lr  79.6448449509674 at random_state  43\n",
      "Accuracy_score of LogisticRegression  0.7771004505698383 at random_state  92\n",
      "Mac acc score of lr  79.6448449509674 at random_state  43\n",
      "Accuracy_score of LogisticRegression  0.7736549165120594 at random_state  93\n",
      "Mac acc score of lr  79.6448449509674 at random_state  43\n",
      "Accuracy_score of LogisticRegression  0.7805459846276173 at random_state  94\n",
      "Mac acc score of lr  79.6448449509674 at random_state  43\n",
      "Accuracy_score of LogisticRegression  0.7725947521865889 at random_state  95\n",
      "Mac acc score of lr  79.6448449509674 at random_state  43\n",
      "Accuracy_score of LogisticRegression  0.7792207792207793 at random_state  96\n",
      "Mac acc score of lr  79.6448449509674 at random_state  43\n",
      "Accuracy_score of LogisticRegression  0.7784256559766763 at random_state  97\n",
      "Mac acc score of lr  79.6448449509674 at random_state  43\n",
      "Accuracy_score of LogisticRegression  0.7800159024648821 at random_state  98\n",
      "Mac acc score of lr  79.6448449509674 at random_state  43\n",
      "Accuracy_score of LogisticRegression  0.7778955738139411 at random_state  99\n",
      "Mac acc score of lr  79.6448449509674 at random_state  43\n",
      "Accuracy_score of LogisticRegression  0.7763053273257355 at random_state  100\n",
      "Mac acc score of lr  79.6448449509674 at random_state  43\n",
      "Accuracy_score of LogisticRegression  0.7824012721971906 at random_state  101\n",
      "Mac acc score of lr  79.6448449509674 at random_state  43\n",
      "Accuracy_score of LogisticRegression  0.7781606148953087 at random_state  102\n",
      "Mac acc score of lr  79.6448449509674 at random_state  43\n",
      "Accuracy_score of LogisticRegression  0.7818711900344554 at random_state  103\n",
      "Mac acc score of lr  79.6448449509674 at random_state  43\n",
      "Accuracy_score of LogisticRegression  0.7765703684071031 at random_state  104\n",
      "Mac acc score of lr  79.6448449509674 at random_state  43\n",
      "Accuracy_score of LogisticRegression  0.7747150808375298 at random_state  105\n",
      "Mac acc score of lr  79.6448449509674 at random_state  43\n",
      "Accuracy_score of LogisticRegression  0.7800159024648821 at random_state  106\n",
      "Mac acc score of lr  79.6448449509674 at random_state  43\n",
      "Accuracy_score of LogisticRegression  0.7871720116618076 at random_state  107\n",
      "Mac acc score of lr  79.6448449509674 at random_state  43\n",
      "Accuracy_score of LogisticRegression  0.7810760667903525 at random_state  108\n",
      "Mac acc score of lr  79.6448449509674 at random_state  43\n",
      "Accuracy_score of LogisticRegression  0.7680890538033395 at random_state  109\n",
      "Mac acc score of lr  79.6448449509674 at random_state  43\n",
      "Accuracy_score of LogisticRegression  0.7702093824542804 at random_state  110\n",
      "Mac acc score of lr  79.6448449509674 at random_state  43\n",
      "Accuracy_score of LogisticRegression  0.7789557381394117 at random_state  111\n",
      "Mac acc score of lr  79.6448449509674 at random_state  43\n",
      "Accuracy_score of LogisticRegression  0.7805459846276173 at random_state  112\n",
      "Mac acc score of lr  79.6448449509674 at random_state  43\n",
      "Accuracy_score of LogisticRegression  0.7871720116618076 at random_state  113\n",
      "Mac acc score of lr  79.6448449509674 at random_state  43\n",
      "Accuracy_score of LogisticRegression  0.7858468062549695 at random_state  114\n",
      "Mac acc score of lr  79.6448449509674 at random_state  43\n",
      "Accuracy_score of LogisticRegression  0.7736549165120594 at random_state  115\n",
      "Mac acc score of lr  79.6448449509674 at random_state  43\n",
      "Accuracy_score of LogisticRegression  0.775245163000265 at random_state  116\n",
      "Mac acc score of lr  79.6448449509674 at random_state  43\n",
      "Accuracy_score of LogisticRegression  0.7744500397561622 at random_state  117\n",
      "Mac acc score of lr  79.6448449509674 at random_state  43\n",
      "Accuracy_score of LogisticRegression  0.7728597932679565 at random_state  118\n",
      "Mac acc score of lr  79.6448449509674 at random_state  43\n",
      "Accuracy_score of LogisticRegression  0.7847866419294991 at random_state  119\n",
      "Mac acc score of lr  79.6448449509674 at random_state  43\n",
      "Accuracy_score of LogisticRegression  0.7572223694672674 at random_state  120\n",
      "Mac acc score of lr  79.6448449509674 at random_state  43\n",
      "Accuracy_score of LogisticRegression  0.788232175987278 at random_state  121\n",
      "Mac acc score of lr  79.6448449509674 at random_state  43\n",
      "Accuracy_score of LogisticRegression  0.7710045056983833 at random_state  122\n",
      "Mac acc score of lr  79.6448449509674 at random_state  43\n",
      "Accuracy_score of LogisticRegression  0.7733898754306917 at random_state  123\n",
      "Mac acc score of lr  79.6448449509674 at random_state  43\n",
      "Accuracy_score of LogisticRegression  0.775245163000265 at random_state  124\n",
      "Mac acc score of lr  79.6448449509674 at random_state  43\n",
      "Accuracy_score of LogisticRegression  0.7842565597667639 at random_state  125\n",
      "Mac acc score of lr  79.6448449509674 at random_state  43\n",
      "Accuracy_score of LogisticRegression  0.7725947521865889 at random_state  126\n",
      "Mac acc score of lr  79.6448449509674 at random_state  43\n",
      "Accuracy_score of LogisticRegression  0.7781606148953087 at random_state  127\n",
      "Mac acc score of lr  79.6448449509674 at random_state  43\n",
      "Accuracy_score of LogisticRegression  0.770474423535648 at random_state  128\n",
      "Mac acc score of lr  79.6448449509674 at random_state  43\n",
      "Accuracy_score of LogisticRegression  0.7717996289424861 at random_state  129\n",
      "Mac acc score of lr  79.6448449509674 at random_state  43\n",
      "Accuracy_score of LogisticRegression  0.7696793002915452 at random_state  130\n",
      "Mac acc score of lr  79.6448449509674 at random_state  43\n",
      "Accuracy_score of LogisticRegression  0.7771004505698383 at random_state  131\n",
      "Mac acc score of lr  79.6448449509674 at random_state  43\n",
      "Accuracy_score of LogisticRegression  0.7741849986747946 at random_state  132\n",
      "Mac acc score of lr  79.6448449509674 at random_state  43\n",
      "Accuracy_score of LogisticRegression  0.7776305327325735 at random_state  133\n",
      "Mac acc score of lr  79.6448449509674 at random_state  43\n",
      "Accuracy_score of LogisticRegression  0.7688841770474424 at random_state  134\n",
      "Mac acc score of lr  79.6448449509674 at random_state  43\n",
      "Accuracy_score of LogisticRegression  0.7810760667903525 at random_state  135\n",
      "Mac acc score of lr  79.6448449509674 at random_state  43\n",
      "Accuracy_score of LogisticRegression  0.7773654916512059 at random_state  136\n",
      "Mac acc score of lr  79.6448449509674 at random_state  43\n",
      "Accuracy_score of LogisticRegression  0.778690697058044 at random_state  137\n",
      "Mac acc score of lr  79.6448449509674 at random_state  43\n",
      "Accuracy_score of LogisticRegression  0.78690697058044 at random_state  138\n",
      "Mac acc score of lr  79.6448449509674 at random_state  43\n",
      "Accuracy_score of LogisticRegression  0.7744500397561622 at random_state  139\n",
      "Mac acc score of lr  79.6448449509674 at random_state  43\n",
      "Accuracy_score of LogisticRegression  0.7702093824542804 at random_state  140\n",
      "Mac acc score of lr  79.6448449509674 at random_state  43\n",
      "Accuracy_score of LogisticRegression  0.7879671349059104 at random_state  141\n",
      "Mac acc score of lr  79.6448449509674 at random_state  43\n",
      "Accuracy_score of LogisticRegression  0.7659687251523987 at random_state  142\n",
      "Mac acc score of lr  79.6448449509674 at random_state  43\n",
      "Accuracy_score of LogisticRegression  0.7641134375828253 at random_state  143\n",
      "Mac acc score of lr  79.6448449509674 at random_state  43\n",
      "Accuracy_score of LogisticRegression  0.7710045056983833 at random_state  144\n",
      "Mac acc score of lr  79.6448449509674 at random_state  43\n",
      "Accuracy_score of LogisticRegression  0.770474423535648 at random_state  145\n",
      "Mac acc score of lr  79.6448449509674 at random_state  43\n",
      "Accuracy_score of LogisticRegression  0.7741849986747946 at random_state  146\n",
      "Mac acc score of lr  79.6448449509674 at random_state  43\n",
      "Accuracy_score of LogisticRegression  0.7728597932679565 at random_state  147\n",
      "Mac acc score of lr  79.6448449509674 at random_state  43\n",
      "Accuracy_score of LogisticRegression  0.7702093824542804 at random_state  148\n",
      "Mac acc score of lr  79.6448449509674 at random_state  43\n",
      "Accuracy_score of LogisticRegression  0.7853167240922343 at random_state  149\n",
      "Mac acc score of lr  79.6448449509674 at random_state  43\n",
      "Accuracy_score of LogisticRegression  0.7813411078717201 at random_state  150\n",
      "Mac acc score of lr  79.6448449509674 at random_state  43\n",
      "Accuracy_score of LogisticRegression  0.7733898754306917 at random_state  151\n",
      "Mac acc score of lr  79.6448449509674 at random_state  43\n",
      "Accuracy_score of LogisticRegression  0.7707394646170156 at random_state  152\n",
      "Mac acc score of lr  79.6448449509674 at random_state  43\n",
      "Accuracy_score of LogisticRegression  0.7725947521865889 at random_state  153\n",
      "Mac acc score of lr  79.6448449509674 at random_state  43\n",
      "Accuracy_score of LogisticRegression  0.7670288894778691 at random_state  154\n",
      "Mac acc score of lr  79.6448449509674 at random_state  43\n",
      "Accuracy_score of LogisticRegression  0.7720646700238537 at random_state  155\n",
      "Mac acc score of lr  79.6448449509674 at random_state  43\n",
      "Accuracy_score of LogisticRegression  0.76914921812881 at random_state  156\n",
      "Mac acc score of lr  79.6448449509674 at random_state  43\n",
      "Accuracy_score of LogisticRegression  0.7818711900344554 at random_state  157\n",
      "Mac acc score of lr  79.6448449509674 at random_state  43\n",
      "Accuracy_score of LogisticRegression  0.7776305327325735 at random_state  158\n",
      "Mac acc score of lr  79.6448449509674 at random_state  43\n",
      "Accuracy_score of LogisticRegression  0.7757752451630002 at random_state  159\n",
      "Mac acc score of lr  79.6448449509674 at random_state  43\n",
      "Accuracy_score of LogisticRegression  0.7776305327325735 at random_state  160\n",
      "Mac acc score of lr  79.6448449509674 at random_state  43\n",
      "Accuracy_score of LogisticRegression  0.7683540948847072 at random_state  161\n",
      "Mac acc score of lr  79.6448449509674 at random_state  43\n",
      "Accuracy_score of LogisticRegression  0.7818711900344554 at random_state  162\n",
      "Mac acc score of lr  79.6448449509674 at random_state  43\n",
      "Accuracy_score of LogisticRegression  0.7651736019082958 at random_state  163\n",
      "Mac acc score of lr  79.6448449509674 at random_state  43\n",
      "Accuracy_score of LogisticRegression  0.783461436522661 at random_state  164\n",
      "Mac acc score of lr  79.6448449509674 at random_state  43\n",
      "Accuracy_score of LogisticRegression  0.7662337662337663 at random_state  165\n",
      "Mac acc score of lr  79.6448449509674 at random_state  43\n",
      "Accuracy_score of LogisticRegression  0.7816061489530878 at random_state  166\n",
      "Mac acc score of lr  79.6448449509674 at random_state  43\n",
      "Accuracy_score of LogisticRegression  0.7611979856877816 at random_state  167\n",
      "Mac acc score of lr  79.6448449509674 at random_state  43\n",
      "Accuracy_score of LogisticRegression  0.7749801219188974 at random_state  168\n",
      "Mac acc score of lr  79.6448449509674 at random_state  43\n",
      "Accuracy_score of LogisticRegression  0.7680890538033395 at random_state  169\n",
      "Mac acc score of lr  79.6448449509674 at random_state  43\n",
      "Accuracy_score of LogisticRegression  0.7892923403127485 at random_state  170\n",
      "Mac acc score of lr  79.6448449509674 at random_state  43\n",
      "Accuracy_score of LogisticRegression  0.7898224224754837 at random_state  171\n",
      "Mac acc score of lr  79.6448449509674 at random_state  43\n",
      "Accuracy_score of LogisticRegression  0.7824012721971906 at random_state  172\n",
      "Mac acc score of lr  79.6448449509674 at random_state  43\n",
      "Accuracy_score of LogisticRegression  0.7797508613835145 at random_state  173\n",
      "Mac acc score of lr  79.6448449509674 at random_state  43\n",
      "Accuracy_score of LogisticRegression  0.7842565597667639 at random_state  174\n",
      "Mac acc score of lr  79.6448449509674 at random_state  43\n",
      "Accuracy_score of LogisticRegression  0.7744500397561622 at random_state  175\n",
      "Mac acc score of lr  79.6448449509674 at random_state  43\n",
      "Accuracy_score of LogisticRegression  0.7741849986747946 at random_state  176\n",
      "Mac acc score of lr  79.6448449509674 at random_state  43\n",
      "Accuracy_score of LogisticRegression  0.7765703684071031 at random_state  177\n",
      "Mac acc score of lr  79.6448449509674 at random_state  43\n",
      "Accuracy_score of LogisticRegression  0.7744500397561622 at random_state  178\n",
      "Mac acc score of lr  79.6448449509674 at random_state  43\n",
      "Accuracy_score of LogisticRegression  0.7675589716406043 at random_state  179\n",
      "Mac acc score of lr  79.6448449509674 at random_state  43\n",
      "Accuracy_score of LogisticRegression  0.7768354094884707 at random_state  180\n",
      "Mac acc score of lr  79.6448449509674 at random_state  43\n",
      "Accuracy_score of LogisticRegression  0.7725947521865889 at random_state  181\n",
      "Mac acc score of lr  79.6448449509674 at random_state  43\n",
      "Accuracy_score of LogisticRegression  0.7776305327325735 at random_state  182\n",
      "Mac acc score of lr  79.6448449509674 at random_state  43\n",
      "Accuracy_score of LogisticRegression  0.7797508613835145 at random_state  183\n",
      "Mac acc score of lr  79.6448449509674 at random_state  43\n",
      "Accuracy_score of LogisticRegression  0.7797508613835145 at random_state  184\n",
      "Mac acc score of lr  79.6448449509674 at random_state  43\n",
      "Accuracy_score of LogisticRegression  0.7702093824542804 at random_state  185\n",
      "Mac acc score of lr  79.6448449509674 at random_state  43\n",
      "Accuracy_score of LogisticRegression  0.7757752451630002 at random_state  186\n",
      "Mac acc score of lr  79.6448449509674 at random_state  43\n",
      "Accuracy_score of LogisticRegression  0.7725947521865889 at random_state  187\n",
      "Mac acc score of lr  79.6448449509674 at random_state  43\n",
      "Accuracy_score of LogisticRegression  0.7725947521865889 at random_state  188\n",
      "Mac acc score of lr  79.6448449509674 at random_state  43\n",
      "Accuracy_score of LogisticRegression  0.7824012721971906 at random_state  189\n",
      "Mac acc score of lr  79.6448449509674 at random_state  43\n",
      "Accuracy_score of LogisticRegression  0.7768354094884707 at random_state  190\n",
      "Mac acc score of lr  79.6448449509674 at random_state  43\n",
      "Accuracy_score of LogisticRegression  0.775245163000265 at random_state  191\n",
      "Mac acc score of lr  79.6448449509674 at random_state  43\n",
      "Accuracy_score of LogisticRegression  0.7816061489530878 at random_state  192\n",
      "Mac acc score of lr  79.6448449509674 at random_state  43\n",
      "Accuracy_score of LogisticRegression  0.7757752451630002 at random_state  193\n",
      "Mac acc score of lr  79.6448449509674 at random_state  43\n",
      "Accuracy_score of LogisticRegression  0.7733898754306917 at random_state  194\n",
      "Mac acc score of lr  79.6448449509674 at random_state  43\n",
      "Accuracy_score of LogisticRegression  0.770474423535648 at random_state  195\n",
      "Mac acc score of lr  79.6448449509674 at random_state  43\n",
      "Accuracy_score of LogisticRegression  0.7808110257089849 at random_state  196\n",
      "Mac acc score of lr  79.6448449509674 at random_state  43\n",
      "Accuracy_score of LogisticRegression  0.782136231115823 at random_state  197\n",
      "Mac acc score of lr  79.6448449509674 at random_state  43\n",
      "Accuracy_score of LogisticRegression  0.7792207792207793 at random_state  198\n",
      "Mac acc score of lr  79.6448449509674 at random_state  43\n",
      "Accuracy_score of LogisticRegression  0.7768354094884707 at random_state  199\n",
      "Mac acc score of lr  79.6448449509674 at random_state  43\n",
      "Accuracy_score of LogisticRegression  0.7741849986747946 at random_state  200\n",
      "Mac acc score of lr  79.6448449509674 at random_state  43\n",
      "Accuracy_score of LogisticRegression  0.7710045056983833 at random_state  201\n",
      "Mac acc score of lr  79.6448449509674 at random_state  43\n",
      "Accuracy_score of LogisticRegression  0.788232175987278 at random_state  202\n",
      "Mac acc score of lr  79.6448449509674 at random_state  43\n",
      "Accuracy_score of LogisticRegression  0.7847866419294991 at random_state  203\n",
      "Mac acc score of lr  79.6448449509674 at random_state  43\n",
      "Accuracy_score of LogisticRegression  0.7749801219188974 at random_state  204\n",
      "Mac acc score of lr  79.6448449509674 at random_state  43\n",
      "Accuracy_score of LogisticRegression  0.7635833554200901 at random_state  205\n",
      "Mac acc score of lr  79.6448449509674 at random_state  43\n",
      "Accuracy_score of LogisticRegression  0.7781606148953087 at random_state  206\n",
      "Mac acc score of lr  79.6448449509674 at random_state  43\n",
      "Accuracy_score of LogisticRegression  0.7710045056983833 at random_state  207\n",
      "Mac acc score of lr  79.6448449509674 at random_state  43\n",
      "Accuracy_score of LogisticRegression  0.7831963954412934 at random_state  208\n",
      "Mac acc score of lr  79.6448449509674 at random_state  43\n",
      "Accuracy_score of LogisticRegression  0.7816061489530878 at random_state  209\n",
      "Mac acc score of lr  79.6448449509674 at random_state  43\n",
      "Accuracy_score of LogisticRegression  0.7810760667903525 at random_state  210\n",
      "Mac acc score of lr  79.6448449509674 at random_state  43\n",
      "Accuracy_score of LogisticRegression  0.7789557381394117 at random_state  211\n",
      "Mac acc score of lr  79.6448449509674 at random_state  43\n",
      "Accuracy_score of LogisticRegression  0.770474423535648 at random_state  212\n",
      "Mac acc score of lr  79.6448449509674 at random_state  43\n",
      "Accuracy_score of LogisticRegression  0.7784256559766763 at random_state  213\n",
      "Mac acc score of lr  79.6448449509674 at random_state  43\n",
      "Accuracy_score of LogisticRegression  0.7831963954412934 at random_state  214\n",
      "Mac acc score of lr  79.6448449509674 at random_state  43\n",
      "Accuracy_score of LogisticRegression  0.7778955738139411 at random_state  215\n",
      "Mac acc score of lr  79.6448449509674 at random_state  43\n",
      "Accuracy_score of LogisticRegression  0.7771004505698383 at random_state  216\n",
      "Mac acc score of lr  79.6448449509674 at random_state  43\n",
      "Accuracy_score of LogisticRegression  0.7744500397561622 at random_state  217\n",
      "Mac acc score of lr  79.6448449509674 at random_state  43\n",
      "Accuracy_score of LogisticRegression  0.7808110257089849 at random_state  218\n",
      "Mac acc score of lr  79.6448449509674 at random_state  43\n",
      "Accuracy_score of LogisticRegression  0.7866419294990723 at random_state  219\n",
      "Mac acc score of lr  79.6448449509674 at random_state  43\n",
      "Accuracy_score of LogisticRegression  0.7778955738139411 at random_state  220\n",
      "Mac acc score of lr  79.6448449509674 at random_state  43\n",
      "Accuracy_score of LogisticRegression  0.7839915186853962 at random_state  221\n",
      "Mac acc score of lr  79.6448449509674 at random_state  43\n",
      "Accuracy_score of LogisticRegression  0.7797508613835145 at random_state  222\n",
      "Mac acc score of lr  79.6448449509674 at random_state  43\n",
      "Accuracy_score of LogisticRegression  0.7688841770474424 at random_state  223\n",
      "Mac acc score of lr  79.6448449509674 at random_state  43\n",
      "Accuracy_score of LogisticRegression  0.7805459846276173 at random_state  224\n",
      "Mac acc score of lr  79.6448449509674 at random_state  43\n",
      "Accuracy_score of LogisticRegression  0.7895573813941161 at random_state  225\n",
      "Mac acc score of lr  79.6448449509674 at random_state  43\n",
      "Accuracy_score of LogisticRegression  0.7818711900344554 at random_state  226\n",
      "Mac acc score of lr  79.6448449509674 at random_state  43\n",
      "Accuracy_score of LogisticRegression  0.7813411078717201 at random_state  227\n",
      "Mac acc score of lr  79.6448449509674 at random_state  43\n",
      "Accuracy_score of LogisticRegression  0.7810760667903525 at random_state  228\n",
      "Mac acc score of lr  79.6448449509674 at random_state  43\n",
      "Accuracy_score of LogisticRegression  0.7813411078717201 at random_state  229\n",
      "Mac acc score of lr  79.6448449509674 at random_state  43\n",
      "Accuracy_score of LogisticRegression  0.7850516830108667 at random_state  230\n",
      "Mac acc score of lr  79.6448449509674 at random_state  43\n",
      "Accuracy_score of LogisticRegression  0.7702093824542804 at random_state  231\n",
      "Mac acc score of lr  79.6448449509674 at random_state  43\n",
      "Accuracy_score of LogisticRegression  0.7760402862443678 at random_state  232\n",
      "Mac acc score of lr  79.6448449509674 at random_state  43\n",
      "Accuracy_score of LogisticRegression  0.773919957593427 at random_state  233\n",
      "Mac acc score of lr  79.6448449509674 at random_state  43\n",
      "Accuracy_score of LogisticRegression  0.7794858203021469 at random_state  234\n",
      "Mac acc score of lr  79.6448449509674 at random_state  43\n",
      "Accuracy_score of LogisticRegression  0.7813411078717201 at random_state  235\n",
      "Mac acc score of lr  79.6448449509674 at random_state  43\n",
      "Accuracy_score of LogisticRegression  0.7781606148953087 at random_state  236\n",
      "Mac acc score of lr  79.6448449509674 at random_state  43\n",
      "Accuracy_score of LogisticRegression  0.7845216008481315 at random_state  237\n",
      "Mac acc score of lr  79.6448449509674 at random_state  43\n",
      "Accuracy_score of LogisticRegression  0.7808110257089849 at random_state  238\n",
      "Mac acc score of lr  79.6448449509674 at random_state  43\n",
      "Accuracy_score of LogisticRegression  0.7794858203021469 at random_state  239\n",
      "Mac acc score of lr  79.6448449509674 at random_state  43\n",
      "Accuracy_score of LogisticRegression  0.7776305327325735 at random_state  240\n",
      "Mac acc score of lr  79.6448449509674 at random_state  43\n",
      "Accuracy_score of LogisticRegression  0.7773654916512059 at random_state  241\n",
      "Mac acc score of lr  79.6448449509674 at random_state  43\n",
      "Accuracy_score of LogisticRegression  0.764378478664193 at random_state  242\n",
      "Mac acc score of lr  79.6448449509674 at random_state  43\n",
      "Accuracy_score of LogisticRegression  0.7776305327325735 at random_state  243\n",
      "Mac acc score of lr  79.6448449509674 at random_state  43\n",
      "Accuracy_score of LogisticRegression  0.7715345878611185 at random_state  244\n",
      "Mac acc score of lr  79.6448449509674 at random_state  43\n",
      "Accuracy_score of LogisticRegression  0.7797508613835145 at random_state  245\n",
      "Mac acc score of lr  79.6448449509674 at random_state  43\n",
      "Accuracy_score of LogisticRegression  0.7874370527431752 at random_state  246\n",
      "Mac acc score of lr  79.6448449509674 at random_state  43\n",
      "Accuracy_score of LogisticRegression  0.7699443413729128 at random_state  247\n",
      "Mac acc score of lr  79.6448449509674 at random_state  43\n",
      "Accuracy_score of LogisticRegression  0.7797508613835145 at random_state  248\n",
      "Mac acc score of lr  79.6448449509674 at random_state  43\n",
      "Accuracy_score of LogisticRegression  0.7829313543599258 at random_state  249\n",
      "Mac acc score of lr  79.6448449509674 at random_state  43\n",
      "Accuracy_score of LogisticRegression  0.7723297111052213 at random_state  250\n",
      "Mac acc score of lr  79.6448449509674 at random_state  43\n",
      "Accuracy_score of LogisticRegression  0.7715345878611185 at random_state  251\n",
      "Mac acc score of lr  79.6448449509674 at random_state  43\n",
      "Accuracy_score of LogisticRegression  0.7776305327325735 at random_state  252\n",
      "Mac acc score of lr  79.6448449509674 at random_state  43\n",
      "Accuracy_score of LogisticRegression  0.7768354094884707 at random_state  253\n",
      "Mac acc score of lr  79.6448449509674 at random_state  43\n",
      "Accuracy_score of LogisticRegression  0.7765703684071031 at random_state  254\n",
      "Mac acc score of lr  79.6448449509674 at random_state  43\n",
      "Accuracy_score of LogisticRegression  0.7771004505698383 at random_state  255\n",
      "Mac acc score of lr  79.6448449509674 at random_state  43\n",
      "Accuracy_score of LogisticRegression  0.7760402862443678 at random_state  256\n",
      "Mac acc score of lr  79.6448449509674 at random_state  43\n",
      "Accuracy_score of LogisticRegression  0.7733898754306917 at random_state  257\n",
      "Mac acc score of lr  79.6448449509674 at random_state  43\n",
      "Accuracy_score of LogisticRegression  0.7794858203021469 at random_state  258\n",
      "Mac acc score of lr  79.6448449509674 at random_state  43\n",
      "Accuracy_score of LogisticRegression  0.7781606148953087 at random_state  259\n",
      "Mac acc score of lr  79.6448449509674 at random_state  43\n",
      "Accuracy_score of LogisticRegression  0.7768354094884707 at random_state  260\n",
      "Mac acc score of lr  79.6448449509674 at random_state  43\n",
      "Accuracy_score of LogisticRegression  0.7771004505698383 at random_state  261\n",
      "Mac acc score of lr  79.6448449509674 at random_state  43\n",
      "Accuracy_score of LogisticRegression  0.7831963954412934 at random_state  262\n",
      "Mac acc score of lr  79.6448449509674 at random_state  43\n",
      "Accuracy_score of LogisticRegression  0.7755102040816326 at random_state  263\n",
      "Mac acc score of lr  79.6448449509674 at random_state  43\n",
      "Accuracy_score of LogisticRegression  0.7884972170686456 at random_state  264\n",
      "Mac acc score of lr  79.6448449509674 at random_state  43\n",
      "Accuracy_score of LogisticRegression  0.7662337662337663 at random_state  265\n",
      "Mac acc score of lr  79.6448449509674 at random_state  43\n",
      "Accuracy_score of LogisticRegression  0.7768354094884707 at random_state  266\n",
      "Mac acc score of lr  79.6448449509674 at random_state  43\n",
      "Accuracy_score of LogisticRegression  0.7858468062549695 at random_state  267\n",
      "Mac acc score of lr  79.6448449509674 at random_state  43\n",
      "Accuracy_score of LogisticRegression  0.7717996289424861 at random_state  268\n",
      "Mac acc score of lr  79.6448449509674 at random_state  43\n",
      "Accuracy_score of LogisticRegression  0.7606679035250464 at random_state  269\n",
      "Mac acc score of lr  79.6448449509674 at random_state  43\n",
      "Accuracy_score of LogisticRegression  0.7810760667903525 at random_state  270\n",
      "Mac acc score of lr  79.6448449509674 at random_state  43\n",
      "Accuracy_score of LogisticRegression  0.7797508613835145 at random_state  271\n",
      "Mac acc score of lr  79.6448449509674 at random_state  43\n",
      "Accuracy_score of LogisticRegression  0.7672939305592367 at random_state  272\n",
      "Mac acc score of lr  79.6448449509674 at random_state  43\n",
      "Accuracy_score of LogisticRegression  0.7784256559766763 at random_state  273\n",
      "Mac acc score of lr  79.6448449509674 at random_state  43\n",
      "Accuracy_score of LogisticRegression  0.7741849986747946 at random_state  274\n",
      "Mac acc score of lr  79.6448449509674 at random_state  43\n",
      "Accuracy_score of LogisticRegression  0.7837264776040286 at random_state  275\n",
      "Mac acc score of lr  79.6448449509674 at random_state  43\n",
      "Accuracy_score of LogisticRegression  0.7712695467797509 at random_state  276\n",
      "Mac acc score of lr  79.6448449509674 at random_state  43\n",
      "Accuracy_score of LogisticRegression  0.7781606148953087 at random_state  277\n",
      "Mac acc score of lr  79.6448449509674 at random_state  43\n",
      "Accuracy_score of LogisticRegression  0.7710045056983833 at random_state  278\n",
      "Mac acc score of lr  79.6448449509674 at random_state  43\n",
      "Accuracy_score of LogisticRegression  0.7829313543599258 at random_state  279\n",
      "Mac acc score of lr  79.6448449509674 at random_state  43\n",
      "Accuracy_score of LogisticRegression  0.7797508613835145 at random_state  280\n",
      "Mac acc score of lr  79.6448449509674 at random_state  43\n",
      "Accuracy_score of LogisticRegression  0.7710045056983833 at random_state  281\n",
      "Mac acc score of lr  79.6448449509674 at random_state  43\n",
      "Accuracy_score of LogisticRegression  0.7749801219188974 at random_state  282\n",
      "Mac acc score of lr  79.6448449509674 at random_state  43\n",
      "Accuracy_score of LogisticRegression  0.7736549165120594 at random_state  283\n",
      "Mac acc score of lr  79.6448449509674 at random_state  43\n",
      "Accuracy_score of LogisticRegression  0.7598727802809435 at random_state  284\n",
      "Mac acc score of lr  79.6448449509674 at random_state  43\n",
      "Accuracy_score of LogisticRegression  0.7771004505698383 at random_state  285\n",
      "Mac acc score of lr  79.6448449509674 at random_state  43\n",
      "Accuracy_score of LogisticRegression  0.7720646700238537 at random_state  286\n",
      "Mac acc score of lr  79.6448449509674 at random_state  43\n",
      "Accuracy_score of LogisticRegression  0.7680890538033395 at random_state  287\n",
      "Mac acc score of lr  79.6448449509674 at random_state  43\n",
      "Accuracy_score of LogisticRegression  0.7760402862443678 at random_state  288\n",
      "Mac acc score of lr  79.6448449509674 at random_state  43\n",
      "Accuracy_score of LogisticRegression  0.7771004505698383 at random_state  289\n",
      "Mac acc score of lr  79.6448449509674 at random_state  43\n",
      "Accuracy_score of LogisticRegression  0.773919957593427 at random_state  290\n",
      "Mac acc score of lr  79.6448449509674 at random_state  43\n",
      "Accuracy_score of LogisticRegression  0.7715345878611185 at random_state  291\n",
      "Mac acc score of lr  79.6448449509674 at random_state  43\n",
      "Accuracy_score of LogisticRegression  0.7778955738139411 at random_state  292\n",
      "Mac acc score of lr  79.6448449509674 at random_state  43\n",
      "Accuracy_score of LogisticRegression  0.7892923403127485 at random_state  293\n",
      "Mac acc score of lr  79.6448449509674 at random_state  43\n",
      "Accuracy_score of LogisticRegression  0.7710045056983833 at random_state  294\n",
      "Mac acc score of lr  79.6448449509674 at random_state  43\n",
      "Accuracy_score of LogisticRegression  0.7898224224754837 at random_state  295\n",
      "Mac acc score of lr  79.6448449509674 at random_state  43\n",
      "Accuracy_score of LogisticRegression  0.7839915186853962 at random_state  296\n",
      "Mac acc score of lr  79.6448449509674 at random_state  43\n",
      "Accuracy_score of LogisticRegression  0.7747150808375298 at random_state  297\n",
      "Mac acc score of lr  79.6448449509674 at random_state  43\n",
      "Accuracy_score of LogisticRegression  0.7808110257089849 at random_state  298\n",
      "Mac acc score of lr  79.6448449509674 at random_state  43\n",
      "Accuracy_score of LogisticRegression  0.7763053273257355 at random_state  299\n",
      "Mac acc score of lr  79.6448449509674 at random_state  43\n",
      "Accuracy_score of LogisticRegression  0.7763053273257355 at random_state  300\n",
      "Mac acc score of lr  79.6448449509674 at random_state  43\n",
      "Accuracy_score of LogisticRegression  0.7619931089318844 at random_state  301\n",
      "Mac acc score of lr  79.6448449509674 at random_state  43\n",
      "Accuracy_score of LogisticRegression  0.7805459846276173 at random_state  302\n",
      "Mac acc score of lr  79.6448449509674 at random_state  43\n",
      "Accuracy_score of LogisticRegression  0.7842565597667639 at random_state  303\n",
      "Mac acc score of lr  79.6448449509674 at random_state  43\n",
      "Accuracy_score of LogisticRegression  0.7717996289424861 at random_state  304\n",
      "Mac acc score of lr  79.6448449509674 at random_state  43\n",
      "Accuracy_score of LogisticRegression  0.7853167240922343 at random_state  305\n",
      "Mac acc score of lr  79.6448449509674 at random_state  43\n",
      "Accuracy_score of LogisticRegression  0.7792207792207793 at random_state  306\n",
      "Mac acc score of lr  79.6448449509674 at random_state  43\n",
      "Accuracy_score of LogisticRegression  0.7829313543599258 at random_state  307\n",
      "Mac acc score of lr  79.6448449509674 at random_state  43\n",
      "Accuracy_score of LogisticRegression  0.7816061489530878 at random_state  308\n",
      "Mac acc score of lr  79.6448449509674 at random_state  43\n",
      "Accuracy_score of LogisticRegression  0.783461436522661 at random_state  309\n",
      "Mac acc score of lr  79.6448449509674 at random_state  43\n",
      "Accuracy_score of LogisticRegression  0.7863768884177047 at random_state  310\n",
      "Mac acc score of lr  79.6448449509674 at random_state  43\n",
      "Accuracy_score of LogisticRegression  0.7741849986747946 at random_state  311\n",
      "Mac acc score of lr  79.6448449509674 at random_state  43\n",
      "Accuracy_score of LogisticRegression  0.7755102040816326 at random_state  312\n",
      "Mac acc score of lr  79.6448449509674 at random_state  43\n",
      "Accuracy_score of LogisticRegression  0.7707394646170156 at random_state  313\n",
      "Mac acc score of lr  79.6448449509674 at random_state  43\n",
      "Accuracy_score of LogisticRegression  0.7763053273257355 at random_state  314\n",
      "Mac acc score of lr  79.6448449509674 at random_state  43\n",
      "Accuracy_score of LogisticRegression  0.7808110257089849 at random_state  315\n",
      "Mac acc score of lr  79.6448449509674 at random_state  43\n",
      "Accuracy_score of LogisticRegression  0.7778955738139411 at random_state  316\n",
      "Mac acc score of lr  79.6448449509674 at random_state  43\n",
      "Accuracy_score of LogisticRegression  0.7845216008481315 at random_state  317\n",
      "Mac acc score of lr  79.6448449509674 at random_state  43\n",
      "Accuracy_score of LogisticRegression  0.7871720116618076 at random_state  318\n",
      "Mac acc score of lr  79.6448449509674 at random_state  43\n",
      "Accuracy_score of LogisticRegression  0.7763053273257355 at random_state  319\n",
      "Mac acc score of lr  79.6448449509674 at random_state  43\n",
      "Accuracy_score of LogisticRegression  0.7805459846276173 at random_state  320\n",
      "Mac acc score of lr  79.6448449509674 at random_state  43\n",
      "Accuracy_score of LogisticRegression  0.7808110257089849 at random_state  321\n",
      "Mac acc score of lr  79.6448449509674 at random_state  43\n",
      "Accuracy_score of LogisticRegression  0.7898224224754837 at random_state  322\n",
      "Mac acc score of lr  79.6448449509674 at random_state  43\n",
      "Accuracy_score of LogisticRegression  0.7863768884177047 at random_state  323\n",
      "Mac acc score of lr  79.6448449509674 at random_state  43\n",
      "Accuracy_score of LogisticRegression  0.7678240127219719 at random_state  324\n",
      "Mac acc score of lr  79.6448449509674 at random_state  43\n",
      "Accuracy_score of LogisticRegression  0.7884972170686456 at random_state  325\n",
      "Mac acc score of lr  79.6448449509674 at random_state  43\n",
      "Accuracy_score of LogisticRegression  0.7744500397561622 at random_state  326\n",
      "Mac acc score of lr  79.6448449509674 at random_state  43\n",
      "Accuracy_score of LogisticRegression  0.7664988073151339 at random_state  327\n",
      "Mac acc score of lr  79.6448449509674 at random_state  43\n",
      "Accuracy_score of LogisticRegression  0.773919957593427 at random_state  328\n",
      "Mac acc score of lr  79.6448449509674 at random_state  43\n",
      "Accuracy_score of LogisticRegression  0.7638483965014577 at random_state  329\n",
      "Mac acc score of lr  79.6448449509674 at random_state  43\n",
      "Accuracy_score of LogisticRegression  0.7641134375828253 at random_state  330\n",
      "Mac acc score of lr  79.6448449509674 at random_state  43\n",
      "Accuracy_score of LogisticRegression  0.7816061489530878 at random_state  331\n",
      "Mac acc score of lr  79.6448449509674 at random_state  43\n",
      "Accuracy_score of LogisticRegression  0.7778955738139411 at random_state  332\n",
      "Mac acc score of lr  79.6448449509674 at random_state  43\n",
      "Accuracy_score of LogisticRegression  0.7707394646170156 at random_state  333\n",
      "Mac acc score of lr  79.6448449509674 at random_state  43\n",
      "Accuracy_score of LogisticRegression  0.7710045056983833 at random_state  334\n",
      "Mac acc score of lr  79.6448449509674 at random_state  43\n",
      "Accuracy_score of LogisticRegression  0.7667638483965015 at random_state  335\n",
      "Mac acc score of lr  79.6448449509674 at random_state  43\n",
      "Accuracy_score of LogisticRegression  0.7744500397561622 at random_state  336\n",
      "Mac acc score of lr  79.6448449509674 at random_state  43\n",
      "Accuracy_score of LogisticRegression  0.7715345878611185 at random_state  337\n",
      "Mac acc score of lr  79.6448449509674 at random_state  43\n",
      "Accuracy_score of LogisticRegression  0.7768354094884707 at random_state  338\n",
      "Mac acc score of lr  79.6448449509674 at random_state  43\n",
      "Accuracy_score of LogisticRegression  0.7855817651736019 at random_state  339\n",
      "Mac acc score of lr  79.6448449509674 at random_state  43\n",
      "Accuracy_score of LogisticRegression  0.770474423535648 at random_state  340\n",
      "Mac acc score of lr  79.6448449509674 at random_state  43\n",
      "Accuracy_score of LogisticRegression  0.7781606148953087 at random_state  341\n",
      "Mac acc score of lr  79.6448449509674 at random_state  43\n",
      "Accuracy_score of LogisticRegression  0.7696793002915452 at random_state  342\n",
      "Mac acc score of lr  79.6448449509674 at random_state  43\n",
      "Accuracy_score of LogisticRegression  0.7778955738139411 at random_state  343\n",
      "Mac acc score of lr  79.6448449509674 at random_state  43\n",
      "Accuracy_score of LogisticRegression  0.7776305327325735 at random_state  344\n",
      "Mac acc score of lr  79.6448449509674 at random_state  43\n",
      "Accuracy_score of LogisticRegression  0.7543069175722237 at random_state  345\n",
      "Mac acc score of lr  79.6448449509674 at random_state  43\n",
      "Accuracy_score of LogisticRegression  0.7800159024648821 at random_state  346\n",
      "Mac acc score of lr  79.6448449509674 at random_state  43\n",
      "Accuracy_score of LogisticRegression  0.7641134375828253 at random_state  347\n",
      "Mac acc score of lr  79.6448449509674 at random_state  43\n",
      "Accuracy_score of LogisticRegression  0.7813411078717201 at random_state  348\n",
      "Mac acc score of lr  79.6448449509674 at random_state  43\n",
      "Accuracy_score of LogisticRegression  0.7755102040816326 at random_state  349\n",
      "Mac acc score of lr  79.6448449509674 at random_state  43\n",
      "Accuracy_score of LogisticRegression  0.7853167240922343 at random_state  350\n",
      "Mac acc score of lr  79.6448449509674 at random_state  43\n",
      "Accuracy_score of LogisticRegression  0.7763053273257355 at random_state  351\n",
      "Mac acc score of lr  79.6448449509674 at random_state  43\n",
      "Accuracy_score of LogisticRegression  0.7654386429896634 at random_state  352\n",
      "Mac acc score of lr  79.6448449509674 at random_state  43\n",
      "Accuracy_score of LogisticRegression  0.7744500397561622 at random_state  353\n",
      "Mac acc score of lr  79.6448449509674 at random_state  43\n",
      "Accuracy_score of LogisticRegression  0.7755102040816326 at random_state  354\n",
      "Mac acc score of lr  79.6448449509674 at random_state  43\n",
      "Accuracy_score of LogisticRegression  0.778690697058044 at random_state  355\n",
      "Mac acc score of lr  79.6448449509674 at random_state  43\n",
      "Accuracy_score of LogisticRegression  0.7789557381394117 at random_state  356\n",
      "Mac acc score of lr  79.6448449509674 at random_state  43\n",
      "Accuracy_score of LogisticRegression  0.7707394646170156 at random_state  357\n",
      "Mac acc score of lr  79.6448449509674 at random_state  43\n",
      "Accuracy_score of LogisticRegression  0.7702093824542804 at random_state  358\n",
      "Mac acc score of lr  79.6448449509674 at random_state  43\n",
      "Accuracy_score of LogisticRegression  0.7853167240922343 at random_state  359\n",
      "Mac acc score of lr  79.6448449509674 at random_state  43\n",
      "Accuracy_score of LogisticRegression  0.7749801219188974 at random_state  360\n",
      "Mac acc score of lr  79.6448449509674 at random_state  43\n",
      "Accuracy_score of LogisticRegression  0.7808110257089849 at random_state  361\n",
      "Mac acc score of lr  79.6448449509674 at random_state  43\n",
      "Accuracy_score of LogisticRegression  0.7712695467797509 at random_state  362\n",
      "Mac acc score of lr  79.6448449509674 at random_state  43\n",
      "Accuracy_score of LogisticRegression  0.7789557381394117 at random_state  363\n",
      "Mac acc score of lr  79.6448449509674 at random_state  43\n",
      "Accuracy_score of LogisticRegression  0.7771004505698383 at random_state  364\n",
      "Mac acc score of lr  79.6448449509674 at random_state  43\n",
      "Accuracy_score of LogisticRegression  0.782136231115823 at random_state  365\n",
      "Mac acc score of lr  79.6448449509674 at random_state  43\n",
      "Accuracy_score of LogisticRegression  0.7638483965014577 at random_state  366\n",
      "Mac acc score of lr  79.6448449509674 at random_state  43\n",
      "Accuracy_score of LogisticRegression  0.7707394646170156 at random_state  367\n",
      "Mac acc score of lr  79.6448449509674 at random_state  43\n",
      "Accuracy_score of LogisticRegression  0.7736549165120594 at random_state  368\n",
      "Mac acc score of lr  79.6448449509674 at random_state  43\n",
      "Accuracy_score of LogisticRegression  0.7842565597667639 at random_state  369\n",
      "Mac acc score of lr  79.6448449509674 at random_state  43\n",
      "Accuracy_score of LogisticRegression  0.7850516830108667 at random_state  370\n",
      "Mac acc score of lr  79.6448449509674 at random_state  43\n",
      "Accuracy_score of LogisticRegression  0.7630532732573548 at random_state  371\n",
      "Mac acc score of lr  79.6448449509674 at random_state  43\n",
      "Accuracy_score of LogisticRegression  0.7646435197455606 at random_state  372\n",
      "Mac acc score of lr  79.6448449509674 at random_state  43\n",
      "Accuracy_score of LogisticRegression  0.7845216008481315 at random_state  373\n",
      "Mac acc score of lr  79.6448449509674 at random_state  43\n",
      "Accuracy_score of LogisticRegression  0.7818711900344554 at random_state  374\n",
      "Mac acc score of lr  79.6448449509674 at random_state  43\n",
      "Accuracy_score of LogisticRegression  0.7768354094884707 at random_state  375\n",
      "Mac acc score of lr  79.6448449509674 at random_state  43\n",
      "Accuracy_score of LogisticRegression  0.778690697058044 at random_state  376\n",
      "Mac acc score of lr  79.6448449509674 at random_state  43\n",
      "Accuracy_score of LogisticRegression  0.765703684071031 at random_state  377\n",
      "Mac acc score of lr  79.6448449509674 at random_state  43\n",
      "Accuracy_score of LogisticRegression  0.7771004505698383 at random_state  378\n",
      "Mac acc score of lr  79.6448449509674 at random_state  43\n",
      "Accuracy_score of LogisticRegression  0.7710045056983833 at random_state  379\n",
      "Mac acc score of lr  79.6448449509674 at random_state  43\n",
      "Accuracy_score of LogisticRegression  0.7794858203021469 at random_state  380\n",
      "Mac acc score of lr  79.6448449509674 at random_state  43\n",
      "Accuracy_score of LogisticRegression  0.7831963954412934 at random_state  381\n",
      "Mac acc score of lr  79.6448449509674 at random_state  43\n",
      "Accuracy_score of LogisticRegression  0.7696793002915452 at random_state  382\n",
      "Mac acc score of lr  79.6448449509674 at random_state  43\n",
      "Accuracy_score of LogisticRegression  0.7683540948847072 at random_state  383\n",
      "Mac acc score of lr  79.6448449509674 at random_state  43\n",
      "Accuracy_score of LogisticRegression  0.7755102040816326 at random_state  384\n",
      "Mac acc score of lr  79.6448449509674 at random_state  43\n",
      "Accuracy_score of LogisticRegression  0.7686191359660748 at random_state  385\n",
      "Mac acc score of lr  79.6448449509674 at random_state  43\n",
      "Accuracy_score of LogisticRegression  0.7741849986747946 at random_state  386\n",
      "Mac acc score of lr  79.6448449509674 at random_state  43\n",
      "Accuracy_score of LogisticRegression  0.7731248343493241 at random_state  387\n",
      "Mac acc score of lr  79.6448449509674 at random_state  43\n",
      "Accuracy_score of LogisticRegression  0.7858468062549695 at random_state  388\n",
      "Mac acc score of lr  79.6448449509674 at random_state  43\n",
      "Accuracy_score of LogisticRegression  0.7797508613835145 at random_state  389\n",
      "Mac acc score of lr  79.6448449509674 at random_state  43\n",
      "Accuracy_score of LogisticRegression  0.7813411078717201 at random_state  390\n",
      "Mac acc score of lr  79.6448449509674 at random_state  43\n",
      "Accuracy_score of LogisticRegression  0.7659687251523987 at random_state  391\n",
      "Mac acc score of lr  79.6448449509674 at random_state  43\n",
      "Accuracy_score of LogisticRegression  0.7919427511264246 at random_state  392\n",
      "Mac acc score of lr  79.6448449509674 at random_state  43\n",
      "Accuracy_score of LogisticRegression  0.7707394646170156 at random_state  393\n",
      "Mac acc score of lr  79.6448449509674 at random_state  43\n",
      "Accuracy_score of LogisticRegression  0.7686191359660748 at random_state  394\n",
      "Mac acc score of lr  79.6448449509674 at random_state  43\n",
      "Accuracy_score of LogisticRegression  0.7794858203021469 at random_state  395\n",
      "Mac acc score of lr  79.6448449509674 at random_state  43\n",
      "Accuracy_score of LogisticRegression  0.7728597932679565 at random_state  396\n",
      "Mac acc score of lr  79.6448449509674 at random_state  43\n",
      "Accuracy_score of LogisticRegression  0.775245163000265 at random_state  397\n",
      "Mac acc score of lr  79.6448449509674 at random_state  43\n",
      "Accuracy_score of LogisticRegression  0.7731248343493241 at random_state  398\n",
      "Mac acc score of lr  79.6448449509674 at random_state  43\n",
      "Accuracy_score of LogisticRegression  0.7611979856877816 at random_state  399\n",
      "Mac acc score of lr  79.6448449509674 at random_state  43\n",
      "Accuracy_score of LogisticRegression  0.7773654916512059 at random_state  400\n",
      "Mac acc score of lr  79.6448449509674 at random_state  43\n",
      "Accuracy_score of LogisticRegression  0.7755102040816326 at random_state  401\n",
      "Mac acc score of lr  79.6448449509674 at random_state  43\n",
      "Accuracy_score of LogisticRegression  0.7720646700238537 at random_state  402\n",
      "Mac acc score of lr  79.6448449509674 at random_state  43\n",
      "Accuracy_score of LogisticRegression  0.7771004505698383 at random_state  403\n",
      "Mac acc score of lr  79.6448449509674 at random_state  43\n",
      "Accuracy_score of LogisticRegression  0.7808110257089849 at random_state  404\n",
      "Mac acc score of lr  79.6448449509674 at random_state  43\n",
      "Accuracy_score of LogisticRegression  0.7749801219188974 at random_state  405\n",
      "Mac acc score of lr  79.6448449509674 at random_state  43\n",
      "Accuracy_score of LogisticRegression  0.7765703684071031 at random_state  406\n",
      "Mac acc score of lr  79.6448449509674 at random_state  43\n",
      "Accuracy_score of LogisticRegression  0.7741849986747946 at random_state  407\n",
      "Mac acc score of lr  79.6448449509674 at random_state  43\n",
      "Accuracy_score of LogisticRegression  0.7728597932679565 at random_state  408\n",
      "Mac acc score of lr  79.6448449509674 at random_state  43\n",
      "Accuracy_score of LogisticRegression  0.7802809435462497 at random_state  409\n",
      "Mac acc score of lr  79.6448449509674 at random_state  43\n",
      "Accuracy_score of LogisticRegression  0.7763053273257355 at random_state  410\n",
      "Mac acc score of lr  79.6448449509674 at random_state  43\n",
      "Accuracy_score of LogisticRegression  0.7757752451630002 at random_state  411\n",
      "Mac acc score of lr  79.6448449509674 at random_state  43\n",
      "Accuracy_score of LogisticRegression  0.7755102040816326 at random_state  412\n",
      "Mac acc score of lr  79.6448449509674 at random_state  43\n",
      "Accuracy_score of LogisticRegression  0.7810760667903525 at random_state  413\n",
      "Mac acc score of lr  79.6448449509674 at random_state  43\n",
      "Accuracy_score of LogisticRegression  0.7771004505698383 at random_state  414\n",
      "Mac acc score of lr  79.6448449509674 at random_state  43\n",
      "Accuracy_score of LogisticRegression  0.773919957593427 at random_state  415\n",
      "Mac acc score of lr  79.6448449509674 at random_state  43\n",
      "Accuracy_score of LogisticRegression  0.7861118473363371 at random_state  416\n",
      "Mac acc score of lr  79.6448449509674 at random_state  43\n",
      "Accuracy_score of LogisticRegression  0.7733898754306917 at random_state  417\n",
      "Mac acc score of lr  79.6448449509674 at random_state  43\n",
      "Accuracy_score of LogisticRegression  0.7585475748741055 at random_state  418\n",
      "Mac acc score of lr  79.6448449509674 at random_state  43\n",
      "Accuracy_score of LogisticRegression  0.778690697058044 at random_state  419\n",
      "Mac acc score of lr  79.6448449509674 at random_state  43\n",
      "Accuracy_score of LogisticRegression  0.7778955738139411 at random_state  420\n",
      "Mac acc score of lr  79.6448449509674 at random_state  43\n",
      "Accuracy_score of LogisticRegression  0.76914921812881 at random_state  421\n",
      "Mac acc score of lr  79.6448449509674 at random_state  43\n",
      "Accuracy_score of LogisticRegression  0.7831963954412934 at random_state  422\n",
      "Mac acc score of lr  79.6448449509674 at random_state  43\n",
      "Accuracy_score of LogisticRegression  0.778690697058044 at random_state  423\n",
      "Mac acc score of lr  79.6448449509674 at random_state  43\n",
      "Accuracy_score of LogisticRegression  0.775245163000265 at random_state  424\n",
      "Mac acc score of lr  79.6448449509674 at random_state  43\n",
      "Accuracy_score of LogisticRegression  0.7813411078717201 at random_state  425\n",
      "Mac acc score of lr  79.6448449509674 at random_state  43\n",
      "Accuracy_score of LogisticRegression  0.7747150808375298 at random_state  426\n",
      "Mac acc score of lr  79.6448449509674 at random_state  43\n",
      "Accuracy_score of LogisticRegression  0.7731248343493241 at random_state  427\n",
      "Mac acc score of lr  79.6448449509674 at random_state  43\n",
      "Accuracy_score of LogisticRegression  0.7853167240922343 at random_state  428\n",
      "Mac acc score of lr  79.6448449509674 at random_state  43\n",
      "Accuracy_score of LogisticRegression  0.7765703684071031 at random_state  429\n",
      "Mac acc score of lr  79.6448449509674 at random_state  43\n",
      "Accuracy_score of LogisticRegression  0.7858468062549695 at random_state  430\n",
      "Mac acc score of lr  79.6448449509674 at random_state  43\n",
      "Accuracy_score of LogisticRegression  0.778690697058044 at random_state  431\n",
      "Mac acc score of lr  79.6448449509674 at random_state  43\n",
      "Accuracy_score of LogisticRegression  0.7733898754306917 at random_state  432\n",
      "Mac acc score of lr  79.6448449509674 at random_state  43\n",
      "Accuracy_score of LogisticRegression  0.7792207792207793 at random_state  433\n",
      "Mac acc score of lr  79.6448449509674 at random_state  43\n",
      "Accuracy_score of LogisticRegression  0.775245163000265 at random_state  434\n",
      "Mac acc score of lr  79.6448449509674 at random_state  43\n",
      "Accuracy_score of LogisticRegression  0.770474423535648 at random_state  435\n",
      "Mac acc score of lr  79.6448449509674 at random_state  43\n",
      "Accuracy_score of LogisticRegression  0.7659687251523987 at random_state  436\n",
      "Mac acc score of lr  79.6448449509674 at random_state  43\n",
      "Accuracy_score of LogisticRegression  0.782136231115823 at random_state  437\n",
      "Mac acc score of lr  79.6448449509674 at random_state  43\n",
      "Accuracy_score of LogisticRegression  0.7781606148953087 at random_state  438\n",
      "Mac acc score of lr  79.6448449509674 at random_state  43\n",
      "Accuracy_score of LogisticRegression  0.7778955738139411 at random_state  439\n",
      "Mac acc score of lr  79.6448449509674 at random_state  43\n",
      "Accuracy_score of LogisticRegression  0.7866419294990723 at random_state  440\n",
      "Mac acc score of lr  79.6448449509674 at random_state  43\n",
      "Accuracy_score of LogisticRegression  0.7733898754306917 at random_state  441\n",
      "Mac acc score of lr  79.6448449509674 at random_state  43\n",
      "Accuracy_score of LogisticRegression  0.7768354094884707 at random_state  442\n",
      "Mac acc score of lr  79.6448449509674 at random_state  43\n",
      "Accuracy_score of LogisticRegression  0.7707394646170156 at random_state  443\n",
      "Mac acc score of lr  79.6448449509674 at random_state  43\n",
      "Accuracy_score of LogisticRegression  0.7773654916512059 at random_state  444\n",
      "Mac acc score of lr  79.6448449509674 at random_state  43\n",
      "Accuracy_score of LogisticRegression  0.7707394646170156 at random_state  445\n",
      "Mac acc score of lr  79.6448449509674 at random_state  43\n",
      "Accuracy_score of LogisticRegression  0.7842565597667639 at random_state  446\n",
      "Mac acc score of lr  79.6448449509674 at random_state  43\n",
      "Accuracy_score of LogisticRegression  0.7590776570368407 at random_state  447\n",
      "Mac acc score of lr  79.6448449509674 at random_state  43\n",
      "Accuracy_score of LogisticRegression  0.7916777100450569 at random_state  448\n",
      "Mac acc score of lr  79.6448449509674 at random_state  43\n",
      "Accuracy_score of LogisticRegression  0.7725947521865889 at random_state  449\n",
      "Mac acc score of lr  79.6448449509674 at random_state  43\n",
      "Accuracy_score of LogisticRegression  0.7808110257089849 at random_state  450\n",
      "Mac acc score of lr  79.6448449509674 at random_state  43\n",
      "Accuracy_score of LogisticRegression  0.7686191359660748 at random_state  451\n",
      "Mac acc score of lr  79.6448449509674 at random_state  43\n",
      "Accuracy_score of LogisticRegression  0.7858468062549695 at random_state  452\n",
      "Mac acc score of lr  79.6448449509674 at random_state  43\n",
      "Accuracy_score of LogisticRegression  0.7789557381394117 at random_state  453\n",
      "Mac acc score of lr  79.6448449509674 at random_state  43\n",
      "Accuracy_score of LogisticRegression  0.7672939305592367 at random_state  454\n",
      "Mac acc score of lr  79.6448449509674 at random_state  43\n",
      "Accuracy_score of LogisticRegression  0.7839915186853962 at random_state  455\n",
      "Mac acc score of lr  79.6448449509674 at random_state  43\n",
      "Accuracy_score of LogisticRegression  0.7789557381394117 at random_state  456\n",
      "Mac acc score of lr  79.6448449509674 at random_state  43\n",
      "Accuracy_score of LogisticRegression  0.7831963954412934 at random_state  457\n",
      "Mac acc score of lr  79.6448449509674 at random_state  43\n",
      "Accuracy_score of LogisticRegression  0.7776305327325735 at random_state  458\n",
      "Mac acc score of lr  79.6448449509674 at random_state  43\n",
      "Accuracy_score of LogisticRegression  0.7723297111052213 at random_state  459\n",
      "Mac acc score of lr  79.6448449509674 at random_state  43\n",
      "Accuracy_score of LogisticRegression  0.7702093824542804 at random_state  460\n",
      "Mac acc score of lr  79.6448449509674 at random_state  43\n",
      "Accuracy_score of LogisticRegression  0.7765703684071031 at random_state  461\n",
      "Mac acc score of lr  79.6448449509674 at random_state  43\n",
      "Accuracy_score of LogisticRegression  0.7760402862443678 at random_state  462\n",
      "Mac acc score of lr  79.6448449509674 at random_state  43\n",
      "Accuracy_score of LogisticRegression  0.7741849986747946 at random_state  463\n",
      "Mac acc score of lr  79.6448449509674 at random_state  43\n",
      "Accuracy_score of LogisticRegression  0.7712695467797509 at random_state  464\n",
      "Mac acc score of lr  79.6448449509674 at random_state  43\n",
      "Accuracy_score of LogisticRegression  0.7816061489530878 at random_state  465\n",
      "Mac acc score of lr  79.6448449509674 at random_state  43\n",
      "Accuracy_score of LogisticRegression  0.7765703684071031 at random_state  466\n",
      "Mac acc score of lr  79.6448449509674 at random_state  43\n",
      "Accuracy_score of LogisticRegression  0.7810760667903525 at random_state  467\n",
      "Mac acc score of lr  79.6448449509674 at random_state  43\n",
      "Accuracy_score of LogisticRegression  0.7808110257089849 at random_state  468\n",
      "Mac acc score of lr  79.6448449509674 at random_state  43\n",
      "Accuracy_score of LogisticRegression  0.7712695467797509 at random_state  469\n",
      "Mac acc score of lr  79.6448449509674 at random_state  43\n",
      "Accuracy_score of LogisticRegression  0.7736549165120594 at random_state  470\n",
      "Mac acc score of lr  79.6448449509674 at random_state  43\n",
      "Accuracy_score of LogisticRegression  0.7797508613835145 at random_state  471\n",
      "Mac acc score of lr  79.6448449509674 at random_state  43\n",
      "Accuracy_score of LogisticRegression  0.7683540948847072 at random_state  472\n",
      "Mac acc score of lr  79.6448449509674 at random_state  43\n",
      "Accuracy_score of LogisticRegression  0.7813411078717201 at random_state  473\n",
      "Mac acc score of lr  79.6448449509674 at random_state  43\n",
      "Accuracy_score of LogisticRegression  0.7789557381394117 at random_state  474\n",
      "Mac acc score of lr  79.6448449509674 at random_state  43\n",
      "Accuracy_score of LogisticRegression  0.78690697058044 at random_state  475\n",
      "Mac acc score of lr  79.6448449509674 at random_state  43\n",
      "Accuracy_score of LogisticRegression  0.7771004505698383 at random_state  476\n",
      "Mac acc score of lr  79.6448449509674 at random_state  43\n",
      "Accuracy_score of LogisticRegression  0.773919957593427 at random_state  477\n",
      "Mac acc score of lr  79.6448449509674 at random_state  43\n",
      "Accuracy_score of LogisticRegression  0.7808110257089849 at random_state  478\n",
      "Mac acc score of lr  79.6448449509674 at random_state  43\n",
      "Accuracy_score of LogisticRegression  0.7749801219188974 at random_state  479\n",
      "Mac acc score of lr  79.6448449509674 at random_state  43\n",
      "Accuracy_score of LogisticRegression  0.7810760667903525 at random_state  480\n",
      "Mac acc score of lr  79.6448449509674 at random_state  43\n",
      "Accuracy_score of LogisticRegression  0.782136231115823 at random_state  481\n",
      "Mac acc score of lr  79.6448449509674 at random_state  43\n",
      "Accuracy_score of LogisticRegression  0.7747150808375298 at random_state  482\n",
      "Mac acc score of lr  79.6448449509674 at random_state  43\n",
      "Accuracy_score of LogisticRegression  0.7850516830108667 at random_state  483\n",
      "Mac acc score of lr  79.6448449509674 at random_state  43\n",
      "Accuracy_score of LogisticRegression  0.7855817651736019 at random_state  484\n",
      "Mac acc score of lr  79.6448449509674 at random_state  43\n",
      "Accuracy_score of LogisticRegression  0.7768354094884707 at random_state  485\n",
      "Mac acc score of lr  79.6448449509674 at random_state  43\n",
      "Accuracy_score of LogisticRegression  0.7744500397561622 at random_state  486\n",
      "Mac acc score of lr  79.6448449509674 at random_state  43\n",
      "Accuracy_score of LogisticRegression  0.7805459846276173 at random_state  487\n",
      "Mac acc score of lr  79.6448449509674 at random_state  43\n",
      "Accuracy_score of LogisticRegression  0.775245163000265 at random_state  488\n",
      "Mac acc score of lr  79.6448449509674 at random_state  43\n",
      "Accuracy_score of LogisticRegression  0.7892923403127485 at random_state  489\n",
      "Mac acc score of lr  79.6448449509674 at random_state  43\n",
      "Accuracy_score of LogisticRegression  0.7797508613835145 at random_state  490\n",
      "Mac acc score of lr  79.6448449509674 at random_state  43\n",
      "Accuracy_score of LogisticRegression  0.773919957593427 at random_state  491\n",
      "Mac acc score of lr  79.6448449509674 at random_state  43\n",
      "Accuracy_score of LogisticRegression  0.7839915186853962 at random_state  492\n",
      "Mac acc score of lr  79.6448449509674 at random_state  43\n",
      "Accuracy_score of LogisticRegression  0.7651736019082958 at random_state  493\n",
      "Mac acc score of lr  79.6448449509674 at random_state  43\n",
      "Accuracy_score of LogisticRegression  0.7792207792207793 at random_state  494\n",
      "Mac acc score of lr  79.6448449509674 at random_state  43\n",
      "Accuracy_score of LogisticRegression  0.7853167240922343 at random_state  495\n",
      "Mac acc score of lr  79.6448449509674 at random_state  43\n",
      "Accuracy_score of LogisticRegression  0.7993639014047177 at random_state  496\n",
      "Mac acc score of lr  79.93639014047177 at random_state  496\n",
      "Accuracy_score of LogisticRegression  0.7731248343493241 at random_state  497\n",
      "Mac acc score of lr  79.93639014047177 at random_state  496\n",
      "Accuracy_score of LogisticRegression  0.78690697058044 at random_state  498\n",
      "Mac acc score of lr  79.93639014047177 at random_state  496\n",
      "Accuracy_score of LogisticRegression  0.7725947521865889 at random_state  499\n",
      "Mac acc score of lr  79.93639014047177 at random_state  496\n",
      "Accuracy_score of LogisticRegression  0.7638483965014577 at random_state  500\n",
      "Mac acc score of lr  79.93639014047177 at random_state  496\n",
      "Accuracy_score of LogisticRegression  0.7771004505698383 at random_state  501\n",
      "Mac acc score of lr  79.93639014047177 at random_state  496\n",
      "Accuracy_score of LogisticRegression  0.7744500397561622 at random_state  502\n",
      "Mac acc score of lr  79.93639014047177 at random_state  496\n",
      "Accuracy_score of LogisticRegression  0.7672939305592367 at random_state  503\n",
      "Mac acc score of lr  79.93639014047177 at random_state  496\n",
      "Accuracy_score of LogisticRegression  0.7725947521865889 at random_state  504\n",
      "Mac acc score of lr  79.93639014047177 at random_state  496\n",
      "Accuracy_score of LogisticRegression  0.7736549165120594 at random_state  505\n",
      "Mac acc score of lr  79.93639014047177 at random_state  496\n",
      "Accuracy_score of LogisticRegression  0.7837264776040286 at random_state  506\n",
      "Mac acc score of lr  79.93639014047177 at random_state  496\n",
      "Accuracy_score of LogisticRegression  0.7829313543599258 at random_state  507\n",
      "Mac acc score of lr  79.93639014047177 at random_state  496\n",
      "Accuracy_score of LogisticRegression  0.7627882321759872 at random_state  508\n",
      "Mac acc score of lr  79.93639014047177 at random_state  496\n",
      "Accuracy_score of LogisticRegression  0.7845216008481315 at random_state  509\n",
      "Mac acc score of lr  79.93639014047177 at random_state  496\n",
      "Accuracy_score of LogisticRegression  0.7792207792207793 at random_state  510\n",
      "Mac acc score of lr  79.93639014047177 at random_state  496\n",
      "Accuracy_score of LogisticRegression  0.7731248343493241 at random_state  511\n",
      "Mac acc score of lr  79.93639014047177 at random_state  496\n",
      "Accuracy_score of LogisticRegression  0.788232175987278 at random_state  512\n",
      "Mac acc score of lr  79.93639014047177 at random_state  496\n",
      "Accuracy_score of LogisticRegression  0.7699443413729128 at random_state  513\n",
      "Mac acc score of lr  79.93639014047177 at random_state  496\n",
      "Accuracy_score of LogisticRegression  0.7800159024648821 at random_state  514\n",
      "Mac acc score of lr  79.93639014047177 at random_state  496\n",
      "Accuracy_score of LogisticRegression  0.7707394646170156 at random_state  515\n",
      "Mac acc score of lr  79.93639014047177 at random_state  496\n",
      "Accuracy_score of LogisticRegression  0.7837264776040286 at random_state  516\n",
      "Mac acc score of lr  79.93639014047177 at random_state  496\n",
      "Accuracy_score of LogisticRegression  0.7794858203021469 at random_state  517\n",
      "Mac acc score of lr  79.93639014047177 at random_state  496\n",
      "Accuracy_score of LogisticRegression  0.7755102040816326 at random_state  518\n",
      "Mac acc score of lr  79.93639014047177 at random_state  496\n",
      "Accuracy_score of LogisticRegression  0.7662337662337663 at random_state  519\n",
      "Mac acc score of lr  79.93639014047177 at random_state  496\n",
      "Accuracy_score of LogisticRegression  0.7731248343493241 at random_state  520\n",
      "Mac acc score of lr  79.93639014047177 at random_state  496\n",
      "Accuracy_score of LogisticRegression  0.7741849986747946 at random_state  521\n",
      "Mac acc score of lr  79.93639014047177 at random_state  496\n",
      "Accuracy_score of LogisticRegression  0.778690697058044 at random_state  522\n",
      "Mac acc score of lr  79.93639014047177 at random_state  496\n",
      "Accuracy_score of LogisticRegression  0.7861118473363371 at random_state  523\n",
      "Mac acc score of lr  79.93639014047177 at random_state  496\n",
      "Accuracy_score of LogisticRegression  0.7694142592101776 at random_state  524\n",
      "Mac acc score of lr  79.93639014047177 at random_state  496\n",
      "Accuracy_score of LogisticRegression  0.7710045056983833 at random_state  525\n",
      "Mac acc score of lr  79.93639014047177 at random_state  496\n",
      "Accuracy_score of LogisticRegression  0.7839915186853962 at random_state  526\n",
      "Mac acc score of lr  79.93639014047177 at random_state  496\n",
      "Accuracy_score of LogisticRegression  0.7797508613835145 at random_state  527\n",
      "Mac acc score of lr  79.93639014047177 at random_state  496\n",
      "Accuracy_score of LogisticRegression  0.7895573813941161 at random_state  528\n",
      "Mac acc score of lr  79.93639014047177 at random_state  496\n",
      "Accuracy_score of LogisticRegression  0.7808110257089849 at random_state  529\n",
      "Mac acc score of lr  79.93639014047177 at random_state  496\n",
      "Accuracy_score of LogisticRegression  0.7736549165120594 at random_state  530\n",
      "Mac acc score of lr  79.93639014047177 at random_state  496\n",
      "Accuracy_score of LogisticRegression  0.7765703684071031 at random_state  531\n",
      "Mac acc score of lr  79.93639014047177 at random_state  496\n",
      "Accuracy_score of LogisticRegression  0.7731248343493241 at random_state  532\n",
      "Mac acc score of lr  79.93639014047177 at random_state  496\n",
      "Accuracy_score of LogisticRegression  0.7731248343493241 at random_state  533\n",
      "Mac acc score of lr  79.93639014047177 at random_state  496\n",
      "Accuracy_score of LogisticRegression  0.7741849986747946 at random_state  534\n",
      "Mac acc score of lr  79.93639014047177 at random_state  496\n",
      "Accuracy_score of LogisticRegression  0.773919957593427 at random_state  535\n",
      "Mac acc score of lr  79.93639014047177 at random_state  496\n",
      "Accuracy_score of LogisticRegression  0.7858468062549695 at random_state  536\n",
      "Mac acc score of lr  79.93639014047177 at random_state  496\n",
      "Accuracy_score of LogisticRegression  0.76914921812881 at random_state  537\n",
      "Mac acc score of lr  79.93639014047177 at random_state  496\n",
      "Accuracy_score of LogisticRegression  0.7654386429896634 at random_state  538\n",
      "Mac acc score of lr  79.93639014047177 at random_state  496\n",
      "Accuracy_score of LogisticRegression  0.7877020938245428 at random_state  539\n",
      "Mac acc score of lr  79.93639014047177 at random_state  496\n",
      "Accuracy_score of LogisticRegression  0.7733898754306917 at random_state  540\n",
      "Mac acc score of lr  79.93639014047177 at random_state  496\n",
      "Accuracy_score of LogisticRegression  0.7829313543599258 at random_state  541\n",
      "Mac acc score of lr  79.93639014047177 at random_state  496\n",
      "Accuracy_score of LogisticRegression  0.7768354094884707 at random_state  542\n",
      "Mac acc score of lr  79.93639014047177 at random_state  496\n",
      "Accuracy_score of LogisticRegression  0.7818711900344554 at random_state  543\n",
      "Mac acc score of lr  79.93639014047177 at random_state  496\n",
      "Accuracy_score of LogisticRegression  0.7654386429896634 at random_state  544\n",
      "Mac acc score of lr  79.93639014047177 at random_state  496\n",
      "Accuracy_score of LogisticRegression  0.770474423535648 at random_state  545\n",
      "Mac acc score of lr  79.93639014047177 at random_state  496\n",
      "Accuracy_score of LogisticRegression  0.7789557381394117 at random_state  546\n",
      "Mac acc score of lr  79.93639014047177 at random_state  496\n",
      "Accuracy_score of LogisticRegression  0.7747150808375298 at random_state  547\n",
      "Mac acc score of lr  79.93639014047177 at random_state  496\n",
      "Accuracy_score of LogisticRegression  0.7747150808375298 at random_state  548\n",
      "Mac acc score of lr  79.93639014047177 at random_state  496\n",
      "Accuracy_score of LogisticRegression  0.7850516830108667 at random_state  549\n",
      "Mac acc score of lr  79.93639014047177 at random_state  496\n",
      "Accuracy_score of LogisticRegression  0.7797508613835145 at random_state  550\n",
      "Mac acc score of lr  79.93639014047177 at random_state  496\n",
      "Accuracy_score of LogisticRegression  0.7683540948847072 at random_state  551\n",
      "Mac acc score of lr  79.93639014047177 at random_state  496\n",
      "Accuracy_score of LogisticRegression  0.7810760667903525 at random_state  552\n",
      "Mac acc score of lr  79.93639014047177 at random_state  496\n",
      "Accuracy_score of LogisticRegression  0.7778955738139411 at random_state  553\n",
      "Mac acc score of lr  79.93639014047177 at random_state  496\n",
      "Accuracy_score of LogisticRegression  0.7768354094884707 at random_state  554\n",
      "Mac acc score of lr  79.93639014047177 at random_state  496\n",
      "Accuracy_score of LogisticRegression  0.7712695467797509 at random_state  555\n",
      "Mac acc score of lr  79.93639014047177 at random_state  496\n",
      "Accuracy_score of LogisticRegression  0.7757752451630002 at random_state  556\n",
      "Mac acc score of lr  79.93639014047177 at random_state  496\n",
      "Accuracy_score of LogisticRegression  0.7619931089318844 at random_state  557\n",
      "Mac acc score of lr  79.93639014047177 at random_state  496\n",
      "Accuracy_score of LogisticRegression  0.7741849986747946 at random_state  558\n",
      "Mac acc score of lr  79.93639014047177 at random_state  496\n",
      "Accuracy_score of LogisticRegression  0.7792207792207793 at random_state  559\n",
      "Mac acc score of lr  79.93639014047177 at random_state  496\n",
      "Accuracy_score of LogisticRegression  0.7768354094884707 at random_state  560\n",
      "Mac acc score of lr  79.93639014047177 at random_state  496\n",
      "Accuracy_score of LogisticRegression  0.7784256559766763 at random_state  561\n",
      "Mac acc score of lr  79.93639014047177 at random_state  496\n",
      "Accuracy_score of LogisticRegression  0.7771004505698383 at random_state  562\n",
      "Mac acc score of lr  79.93639014047177 at random_state  496\n",
      "Accuracy_score of LogisticRegression  0.7696793002915452 at random_state  563\n",
      "Mac acc score of lr  79.93639014047177 at random_state  496\n",
      "Accuracy_score of LogisticRegression  0.7627882321759872 at random_state  564\n",
      "Mac acc score of lr  79.93639014047177 at random_state  496\n",
      "Accuracy_score of LogisticRegression  0.7763053273257355 at random_state  565\n",
      "Mac acc score of lr  79.93639014047177 at random_state  496\n",
      "Accuracy_score of LogisticRegression  0.7855817651736019 at random_state  566\n",
      "Mac acc score of lr  79.93639014047177 at random_state  496\n",
      "Accuracy_score of LogisticRegression  0.773919957593427 at random_state  567\n",
      "Mac acc score of lr  79.93639014047177 at random_state  496\n",
      "Accuracy_score of LogisticRegression  0.7662337662337663 at random_state  568\n",
      "Mac acc score of lr  79.93639014047177 at random_state  496\n",
      "Accuracy_score of LogisticRegression  0.7747150808375298 at random_state  569\n",
      "Mac acc score of lr  79.93639014047177 at random_state  496\n",
      "Accuracy_score of LogisticRegression  0.7747150808375298 at random_state  570\n",
      "Mac acc score of lr  79.93639014047177 at random_state  496\n",
      "Accuracy_score of LogisticRegression  0.7728597932679565 at random_state  571\n",
      "Mac acc score of lr  79.93639014047177 at random_state  496\n",
      "Accuracy_score of LogisticRegression  0.7765703684071031 at random_state  572\n",
      "Mac acc score of lr  79.93639014047177 at random_state  496\n",
      "Accuracy_score of LogisticRegression  0.7816061489530878 at random_state  573\n",
      "Mac acc score of lr  79.93639014047177 at random_state  496\n",
      "Accuracy_score of LogisticRegression  0.7845216008481315 at random_state  574\n",
      "Mac acc score of lr  79.93639014047177 at random_state  496\n",
      "Accuracy_score of LogisticRegression  0.773919957593427 at random_state  575\n",
      "Mac acc score of lr  79.93639014047177 at random_state  496\n",
      "Accuracy_score of LogisticRegression  0.7916777100450569 at random_state  576\n",
      "Mac acc score of lr  79.93639014047177 at random_state  496\n",
      "Accuracy_score of LogisticRegression  0.7850516830108667 at random_state  577\n",
      "Mac acc score of lr  79.93639014047177 at random_state  496\n",
      "Accuracy_score of LogisticRegression  0.7789557381394117 at random_state  578\n",
      "Mac acc score of lr  79.93639014047177 at random_state  496\n",
      "Accuracy_score of LogisticRegression  0.7757752451630002 at random_state  579\n",
      "Mac acc score of lr  79.93639014047177 at random_state  496\n",
      "Accuracy_score of LogisticRegression  0.7683540948847072 at random_state  580\n",
      "Mac acc score of lr  79.93639014047177 at random_state  496\n",
      "Accuracy_score of LogisticRegression  0.7792207792207793 at random_state  581\n",
      "Mac acc score of lr  79.93639014047177 at random_state  496\n",
      "Accuracy_score of LogisticRegression  0.7781606148953087 at random_state  582\n",
      "Mac acc score of lr  79.93639014047177 at random_state  496\n",
      "Accuracy_score of LogisticRegression  0.7773654916512059 at random_state  583\n",
      "Mac acc score of lr  79.93639014047177 at random_state  496\n",
      "Accuracy_score of LogisticRegression  0.7800159024648821 at random_state  584\n",
      "Mac acc score of lr  79.93639014047177 at random_state  496\n",
      "Accuracy_score of LogisticRegression  0.7831963954412934 at random_state  585\n",
      "Mac acc score of lr  79.93639014047177 at random_state  496\n",
      "Accuracy_score of LogisticRegression  0.7792207792207793 at random_state  586\n",
      "Mac acc score of lr  79.93639014047177 at random_state  496\n",
      "Accuracy_score of LogisticRegression  0.7659687251523987 at random_state  587\n",
      "Mac acc score of lr  79.93639014047177 at random_state  496\n",
      "Accuracy_score of LogisticRegression  0.7808110257089849 at random_state  588\n",
      "Mac acc score of lr  79.93639014047177 at random_state  496\n",
      "Accuracy_score of LogisticRegression  0.7654386429896634 at random_state  589\n",
      "Mac acc score of lr  79.93639014047177 at random_state  496\n",
      "Accuracy_score of LogisticRegression  0.7670288894778691 at random_state  590\n",
      "Mac acc score of lr  79.93639014047177 at random_state  496\n",
      "Accuracy_score of LogisticRegression  0.7683540948847072 at random_state  591\n",
      "Mac acc score of lr  79.93639014047177 at random_state  496\n",
      "Accuracy_score of LogisticRegression  0.7763053273257355 at random_state  592\n",
      "Mac acc score of lr  79.93639014047177 at random_state  496\n",
      "Accuracy_score of LogisticRegression  0.7850516830108667 at random_state  593\n",
      "Mac acc score of lr  79.93639014047177 at random_state  496\n",
      "Accuracy_score of LogisticRegression  0.7776305327325735 at random_state  594\n",
      "Mac acc score of lr  79.93639014047177 at random_state  496\n",
      "Accuracy_score of LogisticRegression  0.7720646700238537 at random_state  595\n",
      "Mac acc score of lr  79.93639014047177 at random_state  496\n",
      "Accuracy_score of LogisticRegression  0.7675589716406043 at random_state  596\n",
      "Mac acc score of lr  79.93639014047177 at random_state  496\n",
      "Accuracy_score of LogisticRegression  0.7763053273257355 at random_state  597\n",
      "Mac acc score of lr  79.93639014047177 at random_state  496\n",
      "Accuracy_score of LogisticRegression  0.7831963954412934 at random_state  598\n",
      "Mac acc score of lr  79.93639014047177 at random_state  496\n",
      "Accuracy_score of LogisticRegression  0.7802809435462497 at random_state  599\n",
      "Mac acc score of lr  79.93639014047177 at random_state  496\n",
      "Accuracy_score of LogisticRegression  0.7686191359660748 at random_state  600\n",
      "Mac acc score of lr  79.93639014047177 at random_state  496\n",
      "Accuracy_score of LogisticRegression  0.7710045056983833 at random_state  601\n",
      "Mac acc score of lr  79.93639014047177 at random_state  496\n",
      "Accuracy_score of LogisticRegression  0.7792207792207793 at random_state  602\n",
      "Mac acc score of lr  79.93639014047177 at random_state  496\n",
      "Accuracy_score of LogisticRegression  0.7797508613835145 at random_state  603\n",
      "Mac acc score of lr  79.93639014047177 at random_state  496\n",
      "Accuracy_score of LogisticRegression  0.7710045056983833 at random_state  604\n",
      "Mac acc score of lr  79.93639014047177 at random_state  496\n",
      "Accuracy_score of LogisticRegression  0.7707394646170156 at random_state  605\n",
      "Mac acc score of lr  79.93639014047177 at random_state  496\n",
      "Accuracy_score of LogisticRegression  0.7829313543599258 at random_state  606\n",
      "Mac acc score of lr  79.93639014047177 at random_state  496\n",
      "Accuracy_score of LogisticRegression  0.7686191359660748 at random_state  607\n",
      "Mac acc score of lr  79.93639014047177 at random_state  496\n",
      "Accuracy_score of LogisticRegression  0.7810760667903525 at random_state  608\n",
      "Mac acc score of lr  79.93639014047177 at random_state  496\n",
      "Accuracy_score of LogisticRegression  0.7765703684071031 at random_state  609\n",
      "Mac acc score of lr  79.93639014047177 at random_state  496\n",
      "Accuracy_score of LogisticRegression  0.7699443413729128 at random_state  610\n",
      "Mac acc score of lr  79.93639014047177 at random_state  496\n",
      "Accuracy_score of LogisticRegression  0.7805459846276173 at random_state  611\n",
      "Mac acc score of lr  79.93639014047177 at random_state  496\n",
      "Accuracy_score of LogisticRegression  0.7773654916512059 at random_state  612\n",
      "Mac acc score of lr  79.93639014047177 at random_state  496\n",
      "Accuracy_score of LogisticRegression  0.7699443413729128 at random_state  613\n",
      "Mac acc score of lr  79.93639014047177 at random_state  496\n",
      "Accuracy_score of LogisticRegression  0.7678240127219719 at random_state  614\n",
      "Mac acc score of lr  79.93639014047177 at random_state  496\n",
      "Accuracy_score of LogisticRegression  0.7725947521865889 at random_state  615\n",
      "Mac acc score of lr  79.93639014047177 at random_state  496\n",
      "Accuracy_score of LogisticRegression  0.7908825868009541 at random_state  616\n",
      "Mac acc score of lr  79.93639014047177 at random_state  496\n",
      "Accuracy_score of LogisticRegression  0.7794858203021469 at random_state  617\n",
      "Mac acc score of lr  79.93639014047177 at random_state  496\n",
      "Accuracy_score of LogisticRegression  0.7789557381394117 at random_state  618\n",
      "Mac acc score of lr  79.93639014047177 at random_state  496\n",
      "Accuracy_score of LogisticRegression  0.7749801219188974 at random_state  619\n",
      "Mac acc score of lr  79.93639014047177 at random_state  496\n",
      "Accuracy_score of LogisticRegression  0.7802809435462497 at random_state  620\n",
      "Mac acc score of lr  79.93639014047177 at random_state  496\n",
      "Accuracy_score of LogisticRegression  0.7863768884177047 at random_state  621\n",
      "Mac acc score of lr  79.93639014047177 at random_state  496\n",
      "Accuracy_score of LogisticRegression  0.7694142592101776 at random_state  622\n",
      "Mac acc score of lr  79.93639014047177 at random_state  496\n",
      "Accuracy_score of LogisticRegression  0.7678240127219719 at random_state  623\n",
      "Mac acc score of lr  79.93639014047177 at random_state  496\n",
      "Accuracy_score of LogisticRegression  0.7635833554200901 at random_state  624\n",
      "Mac acc score of lr  79.93639014047177 at random_state  496\n",
      "Accuracy_score of LogisticRegression  0.7863768884177047 at random_state  625\n",
      "Mac acc score of lr  79.93639014047177 at random_state  496\n",
      "Accuracy_score of LogisticRegression  0.7688841770474424 at random_state  626\n",
      "Mac acc score of lr  79.93639014047177 at random_state  496\n",
      "Accuracy_score of LogisticRegression  0.7686191359660748 at random_state  627\n",
      "Mac acc score of lr  79.93639014047177 at random_state  496\n",
      "Accuracy_score of LogisticRegression  0.7614630267691492 at random_state  628\n",
      "Mac acc score of lr  79.93639014047177 at random_state  496\n",
      "Accuracy_score of LogisticRegression  0.7717996289424861 at random_state  629\n",
      "Mac acc score of lr  79.93639014047177 at random_state  496\n",
      "Accuracy_score of LogisticRegression  0.7805459846276173 at random_state  630\n",
      "Mac acc score of lr  79.93639014047177 at random_state  496\n",
      "Accuracy_score of LogisticRegression  0.7850516830108667 at random_state  631\n",
      "Mac acc score of lr  79.93639014047177 at random_state  496\n",
      "Accuracy_score of LogisticRegression  0.7773654916512059 at random_state  632\n",
      "Mac acc score of lr  79.93639014047177 at random_state  496\n",
      "Accuracy_score of LogisticRegression  0.7710045056983833 at random_state  633\n",
      "Mac acc score of lr  79.93639014047177 at random_state  496\n",
      "Accuracy_score of LogisticRegression  0.7680890538033395 at random_state  634\n",
      "Mac acc score of lr  79.93639014047177 at random_state  496\n",
      "Accuracy_score of LogisticRegression  0.7744500397561622 at random_state  635\n",
      "Mac acc score of lr  79.93639014047177 at random_state  496\n",
      "Accuracy_score of LogisticRegression  0.7831963954412934 at random_state  636\n",
      "Mac acc score of lr  79.93639014047177 at random_state  496\n",
      "Accuracy_score of LogisticRegression  0.76914921812881 at random_state  637\n",
      "Mac acc score of lr  79.93639014047177 at random_state  496\n",
      "Accuracy_score of LogisticRegression  0.7829313543599258 at random_state  638\n",
      "Mac acc score of lr  79.93639014047177 at random_state  496\n",
      "Accuracy_score of LogisticRegression  0.76914921812881 at random_state  639\n",
      "Mac acc score of lr  79.93639014047177 at random_state  496\n",
      "Accuracy_score of LogisticRegression  0.7816061489530878 at random_state  640\n",
      "Mac acc score of lr  79.93639014047177 at random_state  496\n",
      "Accuracy_score of LogisticRegression  0.775245163000265 at random_state  641\n",
      "Mac acc score of lr  79.93639014047177 at random_state  496\n",
      "Accuracy_score of LogisticRegression  0.7548369997349589 at random_state  642\n",
      "Mac acc score of lr  79.93639014047177 at random_state  496\n",
      "Accuracy_score of LogisticRegression  0.7710045056983833 at random_state  643\n",
      "Mac acc score of lr  79.93639014047177 at random_state  496\n",
      "Accuracy_score of LogisticRegression  0.7763053273257355 at random_state  644\n",
      "Mac acc score of lr  79.93639014047177 at random_state  496\n",
      "Accuracy_score of LogisticRegression  0.7831963954412934 at random_state  645\n",
      "Mac acc score of lr  79.93639014047177 at random_state  496\n",
      "Accuracy_score of LogisticRegression  0.7837264776040286 at random_state  646\n",
      "Mac acc score of lr  79.93639014047177 at random_state  496\n",
      "Accuracy_score of LogisticRegression  0.7765703684071031 at random_state  647\n",
      "Mac acc score of lr  79.93639014047177 at random_state  496\n",
      "Accuracy_score of LogisticRegression  0.7778955738139411 at random_state  648\n",
      "Mac acc score of lr  79.93639014047177 at random_state  496\n",
      "Accuracy_score of LogisticRegression  0.7720646700238537 at random_state  649\n",
      "Mac acc score of lr  79.93639014047177 at random_state  496\n",
      "Accuracy_score of LogisticRegression  0.773919957593427 at random_state  650\n",
      "Mac acc score of lr  79.93639014047177 at random_state  496\n",
      "Accuracy_score of LogisticRegression  0.7768354094884707 at random_state  651\n",
      "Mac acc score of lr  79.93639014047177 at random_state  496\n",
      "Accuracy_score of LogisticRegression  0.7763053273257355 at random_state  652\n",
      "Mac acc score of lr  79.93639014047177 at random_state  496\n",
      "Accuracy_score of LogisticRegression  0.783461436522661 at random_state  653\n",
      "Mac acc score of lr  79.93639014047177 at random_state  496\n",
      "Accuracy_score of LogisticRegression  0.7736549165120594 at random_state  654\n",
      "Mac acc score of lr  79.93639014047177 at random_state  496\n",
      "Accuracy_score of LogisticRegression  0.773919957593427 at random_state  655\n",
      "Mac acc score of lr  79.93639014047177 at random_state  496\n",
      "Accuracy_score of LogisticRegression  0.7792207792207793 at random_state  656\n",
      "Mac acc score of lr  79.93639014047177 at random_state  496\n",
      "Accuracy_score of LogisticRegression  0.7564272462231646 at random_state  657\n",
      "Mac acc score of lr  79.93639014047177 at random_state  496\n",
      "Accuracy_score of LogisticRegression  0.7845216008481315 at random_state  658\n",
      "Mac acc score of lr  79.93639014047177 at random_state  496\n",
      "Accuracy_score of LogisticRegression  0.788232175987278 at random_state  659\n",
      "Mac acc score of lr  79.93639014047177 at random_state  496\n",
      "Accuracy_score of LogisticRegression  0.7755102040816326 at random_state  660\n",
      "Mac acc score of lr  79.93639014047177 at random_state  496\n",
      "Accuracy_score of LogisticRegression  0.770474423535648 at random_state  661\n",
      "Mac acc score of lr  79.93639014047177 at random_state  496\n",
      "Accuracy_score of LogisticRegression  0.7792207792207793 at random_state  662\n",
      "Mac acc score of lr  79.93639014047177 at random_state  496\n",
      "Accuracy_score of LogisticRegression  0.7670288894778691 at random_state  663\n",
      "Mac acc score of lr  79.93639014047177 at random_state  496\n",
      "Accuracy_score of LogisticRegression  0.7808110257089849 at random_state  664\n",
      "Mac acc score of lr  79.93639014047177 at random_state  496\n",
      "Accuracy_score of LogisticRegression  0.7720646700238537 at random_state  665\n",
      "Mac acc score of lr  79.93639014047177 at random_state  496\n",
      "Accuracy_score of LogisticRegression  0.7935329976146303 at random_state  666\n",
      "Mac acc score of lr  79.93639014047177 at random_state  496\n",
      "Accuracy_score of LogisticRegression  0.7863768884177047 at random_state  667\n",
      "Mac acc score of lr  79.93639014047177 at random_state  496\n",
      "Accuracy_score of LogisticRegression  0.7683540948847072 at random_state  668\n",
      "Mac acc score of lr  79.93639014047177 at random_state  496\n",
      "Accuracy_score of LogisticRegression  0.7717996289424861 at random_state  669\n",
      "Mac acc score of lr  79.93639014047177 at random_state  496\n",
      "Accuracy_score of LogisticRegression  0.7717996289424861 at random_state  670\n",
      "Mac acc score of lr  79.93639014047177 at random_state  496\n",
      "Accuracy_score of LogisticRegression  0.7633183143387225 at random_state  671\n",
      "Mac acc score of lr  79.93639014047177 at random_state  496\n",
      "Accuracy_score of LogisticRegression  0.7824012721971906 at random_state  672\n",
      "Mac acc score of lr  79.93639014047177 at random_state  496\n",
      "Accuracy_score of LogisticRegression  0.7829313543599258 at random_state  673\n",
      "Mac acc score of lr  79.93639014047177 at random_state  496\n",
      "Accuracy_score of LogisticRegression  0.7826663132785582 at random_state  674\n",
      "Mac acc score of lr  79.93639014047177 at random_state  496\n",
      "Accuracy_score of LogisticRegression  0.7768354094884707 at random_state  675\n",
      "Mac acc score of lr  79.93639014047177 at random_state  496\n",
      "Accuracy_score of LogisticRegression  0.7802809435462497 at random_state  676\n",
      "Mac acc score of lr  79.93639014047177 at random_state  496\n",
      "Accuracy_score of LogisticRegression  0.7741849986747946 at random_state  677\n",
      "Mac acc score of lr  79.93639014047177 at random_state  496\n",
      "Accuracy_score of LogisticRegression  0.7755102040816326 at random_state  678\n",
      "Mac acc score of lr  79.93639014047177 at random_state  496\n",
      "Accuracy_score of LogisticRegression  0.7818711900344554 at random_state  679\n",
      "Mac acc score of lr  79.93639014047177 at random_state  496\n",
      "Accuracy_score of LogisticRegression  0.7686191359660748 at random_state  680\n",
      "Mac acc score of lr  79.93639014047177 at random_state  496\n",
      "Accuracy_score of LogisticRegression  0.770474423535648 at random_state  681\n",
      "Mac acc score of lr  79.93639014047177 at random_state  496\n",
      "Accuracy_score of LogisticRegression  0.7625231910946196 at random_state  682\n",
      "Mac acc score of lr  79.93639014047177 at random_state  496\n",
      "Accuracy_score of LogisticRegression  0.7670288894778691 at random_state  683\n",
      "Mac acc score of lr  79.93639014047177 at random_state  496\n",
      "Accuracy_score of LogisticRegression  0.7842565597667639 at random_state  684\n",
      "Mac acc score of lr  79.93639014047177 at random_state  496\n",
      "Accuracy_score of LogisticRegression  0.7715345878611185 at random_state  685\n",
      "Mac acc score of lr  79.93639014047177 at random_state  496\n",
      "Accuracy_score of LogisticRegression  0.7784256559766763 at random_state  686\n",
      "Mac acc score of lr  79.93639014047177 at random_state  496\n",
      "Accuracy_score of LogisticRegression  0.7733898754306917 at random_state  687\n",
      "Mac acc score of lr  79.93639014047177 at random_state  496\n",
      "Accuracy_score of LogisticRegression  0.783461436522661 at random_state  688\n",
      "Mac acc score of lr  79.93639014047177 at random_state  496\n",
      "Accuracy_score of LogisticRegression  0.7861118473363371 at random_state  689\n",
      "Mac acc score of lr  79.93639014047177 at random_state  496\n",
      "Accuracy_score of LogisticRegression  0.7781606148953087 at random_state  690\n",
      "Mac acc score of lr  79.93639014047177 at random_state  496\n",
      "Accuracy_score of LogisticRegression  0.7898224224754837 at random_state  691\n",
      "Mac acc score of lr  79.93639014047177 at random_state  496\n",
      "Accuracy_score of LogisticRegression  0.7802809435462497 at random_state  692\n",
      "Mac acc score of lr  79.93639014047177 at random_state  496\n",
      "Accuracy_score of LogisticRegression  0.7874370527431752 at random_state  693\n",
      "Mac acc score of lr  79.93639014047177 at random_state  496\n",
      "Accuracy_score of LogisticRegression  0.7733898754306917 at random_state  694\n",
      "Mac acc score of lr  79.93639014047177 at random_state  496\n",
      "Accuracy_score of LogisticRegression  0.7736549165120594 at random_state  695\n",
      "Mac acc score of lr  79.93639014047177 at random_state  496\n",
      "Accuracy_score of LogisticRegression  0.7672939305592367 at random_state  696\n",
      "Mac acc score of lr  79.93639014047177 at random_state  496\n",
      "Accuracy_score of LogisticRegression  0.7699443413729128 at random_state  697\n",
      "Mac acc score of lr  79.93639014047177 at random_state  496\n",
      "Accuracy_score of LogisticRegression  0.7765703684071031 at random_state  698\n",
      "Mac acc score of lr  79.93639014047177 at random_state  496\n",
      "Accuracy_score of LogisticRegression  0.7805459846276173 at random_state  699\n",
      "Mac acc score of lr  79.93639014047177 at random_state  496\n",
      "Accuracy_score of LogisticRegression  0.7837264776040286 at random_state  700\n",
      "Mac acc score of lr  79.93639014047177 at random_state  496\n",
      "Accuracy_score of LogisticRegression  0.7755102040816326 at random_state  701\n",
      "Mac acc score of lr  79.93639014047177 at random_state  496\n",
      "Accuracy_score of LogisticRegression  0.7824012721971906 at random_state  702\n",
      "Mac acc score of lr  79.93639014047177 at random_state  496\n",
      "Accuracy_score of LogisticRegression  0.7831963954412934 at random_state  703\n",
      "Mac acc score of lr  79.93639014047177 at random_state  496\n",
      "Accuracy_score of LogisticRegression  0.7824012721971906 at random_state  704\n",
      "Mac acc score of lr  79.93639014047177 at random_state  496\n",
      "Accuracy_score of LogisticRegression  0.7773654916512059 at random_state  705\n",
      "Mac acc score of lr  79.93639014047177 at random_state  496\n",
      "Accuracy_score of LogisticRegression  0.76914921812881 at random_state  706\n",
      "Mac acc score of lr  79.93639014047177 at random_state  496\n",
      "Accuracy_score of LogisticRegression  0.7683540948847072 at random_state  707\n",
      "Mac acc score of lr  79.93639014047177 at random_state  496\n",
      "Accuracy_score of LogisticRegression  0.7810760667903525 at random_state  708\n",
      "Mac acc score of lr  79.93639014047177 at random_state  496\n",
      "Accuracy_score of LogisticRegression  0.7725947521865889 at random_state  709\n",
      "Mac acc score of lr  79.93639014047177 at random_state  496\n",
      "Accuracy_score of LogisticRegression  0.7765703684071031 at random_state  710\n",
      "Mac acc score of lr  79.93639014047177 at random_state  496\n",
      "Accuracy_score of LogisticRegression  0.7649085608269282 at random_state  711\n",
      "Mac acc score of lr  79.93639014047177 at random_state  496\n",
      "Accuracy_score of LogisticRegression  0.7741849986747946 at random_state  712\n",
      "Mac acc score of lr  79.93639014047177 at random_state  496\n",
      "Accuracy_score of LogisticRegression  0.7675589716406043 at random_state  713\n",
      "Mac acc score of lr  79.93639014047177 at random_state  496\n",
      "Accuracy_score of LogisticRegression  0.7805459846276173 at random_state  714\n",
      "Mac acc score of lr  79.93639014047177 at random_state  496\n",
      "Accuracy_score of LogisticRegression  0.7619931089318844 at random_state  715\n",
      "Mac acc score of lr  79.93639014047177 at random_state  496\n",
      "Accuracy_score of LogisticRegression  0.7853167240922343 at random_state  716\n",
      "Mac acc score of lr  79.93639014047177 at random_state  496\n",
      "Accuracy_score of LogisticRegression  0.783461436522661 at random_state  717\n",
      "Mac acc score of lr  79.93639014047177 at random_state  496\n",
      "Accuracy_score of LogisticRegression  0.7789557381394117 at random_state  718\n",
      "Mac acc score of lr  79.93639014047177 at random_state  496\n",
      "Accuracy_score of LogisticRegression  0.7794858203021469 at random_state  719\n",
      "Mac acc score of lr  79.93639014047177 at random_state  496\n",
      "Accuracy_score of LogisticRegression  0.7710045056983833 at random_state  720\n",
      "Mac acc score of lr  79.93639014047177 at random_state  496\n",
      "Accuracy_score of LogisticRegression  0.7741849986747946 at random_state  721\n",
      "Mac acc score of lr  79.93639014047177 at random_state  496\n",
      "Accuracy_score of LogisticRegression  0.7824012721971906 at random_state  722\n",
      "Mac acc score of lr  79.93639014047177 at random_state  496\n",
      "Accuracy_score of LogisticRegression  0.7659687251523987 at random_state  723\n",
      "Mac acc score of lr  79.93639014047177 at random_state  496\n",
      "Accuracy_score of LogisticRegression  0.7797508613835145 at random_state  724\n",
      "Mac acc score of lr  79.93639014047177 at random_state  496\n",
      "Accuracy_score of LogisticRegression  0.7749801219188974 at random_state  725\n",
      "Mac acc score of lr  79.93639014047177 at random_state  496\n",
      "Accuracy_score of LogisticRegression  0.7776305327325735 at random_state  726\n",
      "Mac acc score of lr  79.93639014047177 at random_state  496\n",
      "Accuracy_score of LogisticRegression  0.7829313543599258 at random_state  727\n",
      "Mac acc score of lr  79.93639014047177 at random_state  496\n",
      "Accuracy_score of LogisticRegression  0.7861118473363371 at random_state  728\n",
      "Mac acc score of lr  79.93639014047177 at random_state  496\n",
      "Accuracy_score of LogisticRegression  0.7747150808375298 at random_state  729\n",
      "Mac acc score of lr  79.93639014047177 at random_state  496\n",
      "Accuracy_score of LogisticRegression  0.7808110257089849 at random_state  730\n",
      "Mac acc score of lr  79.93639014047177 at random_state  496\n",
      "Accuracy_score of LogisticRegression  0.7664988073151339 at random_state  731\n",
      "Mac acc score of lr  79.93639014047177 at random_state  496\n",
      "Accuracy_score of LogisticRegression  0.7654386429896634 at random_state  732\n",
      "Mac acc score of lr  79.93639014047177 at random_state  496\n",
      "Accuracy_score of LogisticRegression  0.7659687251523987 at random_state  733\n",
      "Mac acc score of lr  79.93639014047177 at random_state  496\n",
      "Accuracy_score of LogisticRegression  0.7847866419294991 at random_state  734\n",
      "Mac acc score of lr  79.93639014047177 at random_state  496\n",
      "Accuracy_score of LogisticRegression  0.7789557381394117 at random_state  735\n",
      "Mac acc score of lr  79.93639014047177 at random_state  496\n",
      "Accuracy_score of LogisticRegression  0.7678240127219719 at random_state  736\n",
      "Mac acc score of lr  79.93639014047177 at random_state  496\n",
      "Accuracy_score of LogisticRegression  0.7755102040816326 at random_state  737\n",
      "Mac acc score of lr  79.93639014047177 at random_state  496\n",
      "Accuracy_score of LogisticRegression  0.773919957593427 at random_state  738\n",
      "Mac acc score of lr  79.93639014047177 at random_state  496\n",
      "Accuracy_score of LogisticRegression  0.7760402862443678 at random_state  739\n",
      "Mac acc score of lr  79.93639014047177 at random_state  496\n",
      "Accuracy_score of LogisticRegression  0.7858468062549695 at random_state  740\n",
      "Mac acc score of lr  79.93639014047177 at random_state  496\n",
      "Accuracy_score of LogisticRegression  0.7768354094884707 at random_state  741\n",
      "Mac acc score of lr  79.93639014047177 at random_state  496\n",
      "Accuracy_score of LogisticRegression  0.7675589716406043 at random_state  742\n",
      "Mac acc score of lr  79.93639014047177 at random_state  496\n",
      "Accuracy_score of LogisticRegression  0.7736549165120594 at random_state  743\n",
      "Mac acc score of lr  79.93639014047177 at random_state  496\n",
      "Accuracy_score of LogisticRegression  0.7808110257089849 at random_state  744\n",
      "Mac acc score of lr  79.93639014047177 at random_state  496\n",
      "Accuracy_score of LogisticRegression  0.7773654916512059 at random_state  745\n",
      "Mac acc score of lr  79.93639014047177 at random_state  496\n",
      "Accuracy_score of LogisticRegression  0.7839915186853962 at random_state  746\n",
      "Mac acc score of lr  79.93639014047177 at random_state  496\n",
      "Accuracy_score of LogisticRegression  0.7667638483965015 at random_state  747\n",
      "Mac acc score of lr  79.93639014047177 at random_state  496\n",
      "Accuracy_score of LogisticRegression  0.7688841770474424 at random_state  748\n",
      "Mac acc score of lr  79.93639014047177 at random_state  496\n",
      "Accuracy_score of LogisticRegression  0.7712695467797509 at random_state  749\n",
      "Mac acc score of lr  79.93639014047177 at random_state  496\n",
      "Accuracy_score of LogisticRegression  0.7808110257089849 at random_state  750\n",
      "Mac acc score of lr  79.93639014047177 at random_state  496\n",
      "Accuracy_score of LogisticRegression  0.7773654916512059 at random_state  751\n",
      "Mac acc score of lr  79.93639014047177 at random_state  496\n",
      "Accuracy_score of LogisticRegression  0.7725947521865889 at random_state  752\n",
      "Mac acc score of lr  79.93639014047177 at random_state  496\n",
      "Accuracy_score of LogisticRegression  0.7747150808375298 at random_state  753\n",
      "Mac acc score of lr  79.93639014047177 at random_state  496\n",
      "Accuracy_score of LogisticRegression  0.7688841770474424 at random_state  754\n",
      "Mac acc score of lr  79.93639014047177 at random_state  496\n",
      "Accuracy_score of LogisticRegression  0.7842565597667639 at random_state  755\n",
      "Mac acc score of lr  79.93639014047177 at random_state  496\n",
      "Accuracy_score of LogisticRegression  0.762258150013252 at random_state  756\n",
      "Mac acc score of lr  79.93639014047177 at random_state  496\n",
      "Accuracy_score of LogisticRegression  0.778690697058044 at random_state  757\n",
      "Mac acc score of lr  79.93639014047177 at random_state  496\n",
      "Accuracy_score of LogisticRegression  0.78690697058044 at random_state  758\n",
      "Mac acc score of lr  79.93639014047177 at random_state  496\n",
      "Accuracy_score of LogisticRegression  0.7649085608269282 at random_state  759\n",
      "Mac acc score of lr  79.93639014047177 at random_state  496\n",
      "Accuracy_score of LogisticRegression  0.7776305327325735 at random_state  760\n",
      "Mac acc score of lr  79.93639014047177 at random_state  496\n",
      "Accuracy_score of LogisticRegression  0.7839915186853962 at random_state  761\n",
      "Mac acc score of lr  79.93639014047177 at random_state  496\n",
      "Accuracy_score of LogisticRegression  0.7802809435462497 at random_state  762\n",
      "Mac acc score of lr  79.93639014047177 at random_state  496\n",
      "Accuracy_score of LogisticRegression  0.7707394646170156 at random_state  763\n",
      "Mac acc score of lr  79.93639014047177 at random_state  496\n",
      "Accuracy_score of LogisticRegression  0.7717996289424861 at random_state  764\n",
      "Mac acc score of lr  79.93639014047177 at random_state  496\n",
      "Accuracy_score of LogisticRegression  0.7863768884177047 at random_state  765\n",
      "Mac acc score of lr  79.93639014047177 at random_state  496\n",
      "Accuracy_score of LogisticRegression  0.7794858203021469 at random_state  766\n",
      "Mac acc score of lr  79.93639014047177 at random_state  496\n",
      "Accuracy_score of LogisticRegression  0.782136231115823 at random_state  767\n",
      "Mac acc score of lr  79.93639014047177 at random_state  496\n",
      "Accuracy_score of LogisticRegression  0.7810760667903525 at random_state  768\n",
      "Mac acc score of lr  79.93639014047177 at random_state  496\n",
      "Accuracy_score of LogisticRegression  0.773919957593427 at random_state  769\n",
      "Mac acc score of lr  79.93639014047177 at random_state  496\n",
      "Accuracy_score of LogisticRegression  0.7763053273257355 at random_state  770\n",
      "Mac acc score of lr  79.93639014047177 at random_state  496\n",
      "Accuracy_score of LogisticRegression  0.7678240127219719 at random_state  771\n",
      "Mac acc score of lr  79.93639014047177 at random_state  496\n",
      "Accuracy_score of LogisticRegression  0.770474423535648 at random_state  772\n",
      "Mac acc score of lr  79.93639014047177 at random_state  496\n",
      "Accuracy_score of LogisticRegression  0.7749801219188974 at random_state  773\n",
      "Mac acc score of lr  79.93639014047177 at random_state  496\n",
      "Accuracy_score of LogisticRegression  0.7768354094884707 at random_state  774\n",
      "Mac acc score of lr  79.93639014047177 at random_state  496\n",
      "Accuracy_score of LogisticRegression  0.7749801219188974 at random_state  775\n",
      "Mac acc score of lr  79.93639014047177 at random_state  496\n",
      "Accuracy_score of LogisticRegression  0.7879671349059104 at random_state  776\n",
      "Mac acc score of lr  79.93639014047177 at random_state  496\n",
      "Accuracy_score of LogisticRegression  0.764378478664193 at random_state  777\n",
      "Mac acc score of lr  79.93639014047177 at random_state  496\n",
      "Accuracy_score of LogisticRegression  0.7733898754306917 at random_state  778\n",
      "Mac acc score of lr  79.93639014047177 at random_state  496\n",
      "Accuracy_score of LogisticRegression  0.7635833554200901 at random_state  779\n",
      "Mac acc score of lr  79.93639014047177 at random_state  496\n",
      "Accuracy_score of LogisticRegression  0.783461436522661 at random_state  780\n",
      "Mac acc score of lr  79.93639014047177 at random_state  496\n",
      "Accuracy_score of LogisticRegression  0.7755102040816326 at random_state  781\n",
      "Mac acc score of lr  79.93639014047177 at random_state  496\n",
      "Accuracy_score of LogisticRegression  0.7712695467797509 at random_state  782\n",
      "Mac acc score of lr  79.93639014047177 at random_state  496\n",
      "Accuracy_score of LogisticRegression  0.7871720116618076 at random_state  783\n",
      "Mac acc score of lr  79.93639014047177 at random_state  496\n",
      "Accuracy_score of LogisticRegression  0.7749801219188974 at random_state  784\n",
      "Mac acc score of lr  79.93639014047177 at random_state  496\n",
      "Accuracy_score of LogisticRegression  0.7635833554200901 at random_state  785\n",
      "Mac acc score of lr  79.93639014047177 at random_state  496\n",
      "Accuracy_score of LogisticRegression  0.7781606148953087 at random_state  786\n",
      "Mac acc score of lr  79.93639014047177 at random_state  496\n",
      "Accuracy_score of LogisticRegression  0.7871720116618076 at random_state  787\n",
      "Mac acc score of lr  79.93639014047177 at random_state  496\n",
      "Accuracy_score of LogisticRegression  0.7725947521865889 at random_state  788\n",
      "Mac acc score of lr  79.93639014047177 at random_state  496\n",
      "Accuracy_score of LogisticRegression  0.773919957593427 at random_state  789\n",
      "Mac acc score of lr  79.93639014047177 at random_state  496\n",
      "Accuracy_score of LogisticRegression  0.7816061489530878 at random_state  790\n",
      "Mac acc score of lr  79.93639014047177 at random_state  496\n",
      "Accuracy_score of LogisticRegression  0.775245163000265 at random_state  791\n",
      "Mac acc score of lr  79.93639014047177 at random_state  496\n",
      "Accuracy_score of LogisticRegression  0.7760402862443678 at random_state  792\n",
      "Mac acc score of lr  79.93639014047177 at random_state  496\n",
      "Accuracy_score of LogisticRegression  0.7792207792207793 at random_state  793\n",
      "Mac acc score of lr  79.93639014047177 at random_state  496\n",
      "Accuracy_score of LogisticRegression  0.7776305327325735 at random_state  794\n",
      "Mac acc score of lr  79.93639014047177 at random_state  496\n",
      "Accuracy_score of LogisticRegression  0.7627882321759872 at random_state  795\n",
      "Mac acc score of lr  79.93639014047177 at random_state  496\n",
      "Accuracy_score of LogisticRegression  0.788232175987278 at random_state  796\n",
      "Mac acc score of lr  79.93639014047177 at random_state  496\n",
      "Accuracy_score of LogisticRegression  0.7842565597667639 at random_state  797\n",
      "Mac acc score of lr  79.93639014047177 at random_state  496\n",
      "Accuracy_score of LogisticRegression  0.757487410548635 at random_state  798\n",
      "Mac acc score of lr  79.93639014047177 at random_state  496\n",
      "Accuracy_score of LogisticRegression  0.7778955738139411 at random_state  799\n",
      "Mac acc score of lr  79.93639014047177 at random_state  496\n",
      "Accuracy_score of LogisticRegression  0.7662337662337663 at random_state  800\n",
      "Mac acc score of lr  79.93639014047177 at random_state  496\n",
      "Accuracy_score of LogisticRegression  0.762258150013252 at random_state  801\n",
      "Mac acc score of lr  79.93639014047177 at random_state  496\n",
      "Accuracy_score of LogisticRegression  0.7720646700238537 at random_state  802\n",
      "Mac acc score of lr  79.93639014047177 at random_state  496\n",
      "Accuracy_score of LogisticRegression  0.7638483965014577 at random_state  803\n",
      "Mac acc score of lr  79.93639014047177 at random_state  496\n",
      "Accuracy_score of LogisticRegression  0.7731248343493241 at random_state  804\n",
      "Mac acc score of lr  79.93639014047177 at random_state  496\n",
      "Accuracy_score of LogisticRegression  0.7680890538033395 at random_state  805\n",
      "Mac acc score of lr  79.93639014047177 at random_state  496\n",
      "Accuracy_score of LogisticRegression  0.76914921812881 at random_state  806\n",
      "Mac acc score of lr  79.93639014047177 at random_state  496\n",
      "Accuracy_score of LogisticRegression  0.7903525046382189 at random_state  807\n",
      "Mac acc score of lr  79.93639014047177 at random_state  496\n",
      "Accuracy_score of LogisticRegression  0.7723297111052213 at random_state  808\n",
      "Mac acc score of lr  79.93639014047177 at random_state  496\n",
      "Accuracy_score of LogisticRegression  0.7638483965014577 at random_state  809\n",
      "Mac acc score of lr  79.93639014047177 at random_state  496\n",
      "Accuracy_score of LogisticRegression  0.7808110257089849 at random_state  810\n",
      "Mac acc score of lr  79.93639014047177 at random_state  496\n",
      "Accuracy_score of LogisticRegression  0.7773654916512059 at random_state  811\n",
      "Mac acc score of lr  79.93639014047177 at random_state  496\n",
      "Accuracy_score of LogisticRegression  0.7733898754306917 at random_state  812\n",
      "Mac acc score of lr  79.93639014047177 at random_state  496\n",
      "Accuracy_score of LogisticRegression  0.7773654916512059 at random_state  813\n",
      "Mac acc score of lr  79.93639014047177 at random_state  496\n",
      "Accuracy_score of LogisticRegression  0.7829313543599258 at random_state  814\n",
      "Mac acc score of lr  79.93639014047177 at random_state  496\n",
      "Accuracy_score of LogisticRegression  0.7720646700238537 at random_state  815\n",
      "Mac acc score of lr  79.93639014047177 at random_state  496\n",
      "Accuracy_score of LogisticRegression  0.7710045056983833 at random_state  816\n",
      "Mac acc score of lr  79.93639014047177 at random_state  496\n",
      "Accuracy_score of LogisticRegression  0.7784256559766763 at random_state  817\n",
      "Mac acc score of lr  79.93639014047177 at random_state  496\n",
      "Accuracy_score of LogisticRegression  0.7839915186853962 at random_state  818\n",
      "Mac acc score of lr  79.93639014047177 at random_state  496\n",
      "Accuracy_score of LogisticRegression  0.7792207792207793 at random_state  819\n",
      "Mac acc score of lr  79.93639014047177 at random_state  496\n",
      "Accuracy_score of LogisticRegression  0.7702093824542804 at random_state  820\n",
      "Mac acc score of lr  79.93639014047177 at random_state  496\n",
      "Accuracy_score of LogisticRegression  0.7808110257089849 at random_state  821\n",
      "Mac acc score of lr  79.93639014047177 at random_state  496\n",
      "Accuracy_score of LogisticRegression  0.7744500397561622 at random_state  822\n",
      "Mac acc score of lr  79.93639014047177 at random_state  496\n",
      "Accuracy_score of LogisticRegression  0.7720646700238537 at random_state  823\n",
      "Mac acc score of lr  79.93639014047177 at random_state  496\n",
      "Accuracy_score of LogisticRegression  0.7824012721971906 at random_state  824\n",
      "Mac acc score of lr  79.93639014047177 at random_state  496\n",
      "Accuracy_score of LogisticRegression  0.7715345878611185 at random_state  825\n",
      "Mac acc score of lr  79.93639014047177 at random_state  496\n",
      "Accuracy_score of LogisticRegression  0.7710045056983833 at random_state  826\n",
      "Mac acc score of lr  79.93639014047177 at random_state  496\n",
      "Accuracy_score of LogisticRegression  0.7845216008481315 at random_state  827\n",
      "Mac acc score of lr  79.93639014047177 at random_state  496\n",
      "Accuracy_score of LogisticRegression  0.7696793002915452 at random_state  828\n",
      "Mac acc score of lr  79.93639014047177 at random_state  496\n",
      "Accuracy_score of LogisticRegression  0.778690697058044 at random_state  829\n",
      "Mac acc score of lr  79.93639014047177 at random_state  496\n",
      "Accuracy_score of LogisticRegression  0.7747150808375298 at random_state  830\n",
      "Mac acc score of lr  79.93639014047177 at random_state  496\n",
      "Accuracy_score of LogisticRegression  0.7895573813941161 at random_state  831\n",
      "Mac acc score of lr  79.93639014047177 at random_state  496\n",
      "Accuracy_score of LogisticRegression  0.7699443413729128 at random_state  832\n",
      "Mac acc score of lr  79.93639014047177 at random_state  496\n",
      "Accuracy_score of LogisticRegression  0.7710045056983833 at random_state  833\n",
      "Mac acc score of lr  79.93639014047177 at random_state  496\n",
      "Accuracy_score of LogisticRegression  0.773919957593427 at random_state  834\n",
      "Mac acc score of lr  79.93639014047177 at random_state  496\n",
      "Accuracy_score of LogisticRegression  0.7781606148953087 at random_state  835\n",
      "Mac acc score of lr  79.93639014047177 at random_state  496\n",
      "Accuracy_score of LogisticRegression  0.7839915186853962 at random_state  836\n",
      "Mac acc score of lr  79.93639014047177 at random_state  496\n",
      "Accuracy_score of LogisticRegression  0.7688841770474424 at random_state  837\n",
      "Mac acc score of lr  79.93639014047177 at random_state  496\n",
      "Accuracy_score of LogisticRegression  0.7744500397561622 at random_state  838\n",
      "Mac acc score of lr  79.93639014047177 at random_state  496\n",
      "Accuracy_score of LogisticRegression  0.7861118473363371 at random_state  839\n",
      "Mac acc score of lr  79.93639014047177 at random_state  496\n",
      "Accuracy_score of LogisticRegression  0.7672939305592367 at random_state  840\n",
      "Mac acc score of lr  79.93639014047177 at random_state  496\n",
      "Accuracy_score of LogisticRegression  0.7792207792207793 at random_state  841\n",
      "Mac acc score of lr  79.93639014047177 at random_state  496\n",
      "Accuracy_score of LogisticRegression  0.7797508613835145 at random_state  842\n",
      "Mac acc score of lr  79.93639014047177 at random_state  496\n",
      "Accuracy_score of LogisticRegression  0.770474423535648 at random_state  843\n",
      "Mac acc score of lr  79.93639014047177 at random_state  496\n",
      "Accuracy_score of LogisticRegression  0.7805459846276173 at random_state  844\n",
      "Mac acc score of lr  79.93639014047177 at random_state  496\n",
      "Accuracy_score of LogisticRegression  0.775245163000265 at random_state  845\n",
      "Mac acc score of lr  79.93639014047177 at random_state  496\n",
      "Accuracy_score of LogisticRegression  0.7731248343493241 at random_state  846\n",
      "Mac acc score of lr  79.93639014047177 at random_state  496\n",
      "Accuracy_score of LogisticRegression  0.7659687251523987 at random_state  847\n",
      "Mac acc score of lr  79.93639014047177 at random_state  496\n",
      "Accuracy_score of LogisticRegression  0.775245163000265 at random_state  848\n",
      "Mac acc score of lr  79.93639014047177 at random_state  496\n",
      "Accuracy_score of LogisticRegression  0.7800159024648821 at random_state  849\n",
      "Mac acc score of lr  79.93639014047177 at random_state  496\n",
      "Accuracy_score of LogisticRegression  0.7768354094884707 at random_state  850\n",
      "Mac acc score of lr  79.93639014047177 at random_state  496\n",
      "Accuracy_score of LogisticRegression  0.7654386429896634 at random_state  851\n",
      "Mac acc score of lr  79.93639014047177 at random_state  496\n",
      "Accuracy_score of LogisticRegression  0.7580174927113703 at random_state  852\n",
      "Mac acc score of lr  79.93639014047177 at random_state  496\n",
      "Accuracy_score of LogisticRegression  0.7800159024648821 at random_state  853\n",
      "Mac acc score of lr  79.93639014047177 at random_state  496\n",
      "Accuracy_score of LogisticRegression  0.765703684071031 at random_state  854\n",
      "Mac acc score of lr  79.93639014047177 at random_state  496\n",
      "Accuracy_score of LogisticRegression  0.7619931089318844 at random_state  855\n",
      "Mac acc score of lr  79.93639014047177 at random_state  496\n",
      "Accuracy_score of LogisticRegression  0.7720646700238537 at random_state  856\n",
      "Mac acc score of lr  79.93639014047177 at random_state  496\n",
      "Accuracy_score of LogisticRegression  0.7877020938245428 at random_state  857\n",
      "Mac acc score of lr  79.93639014047177 at random_state  496\n",
      "Accuracy_score of LogisticRegression  0.7710045056983833 at random_state  858\n",
      "Mac acc score of lr  79.93639014047177 at random_state  496\n",
      "Accuracy_score of LogisticRegression  0.7651736019082958 at random_state  859\n",
      "Mac acc score of lr  79.93639014047177 at random_state  496\n",
      "Accuracy_score of LogisticRegression  0.770474423535648 at random_state  860\n",
      "Mac acc score of lr  79.93639014047177 at random_state  496\n",
      "Accuracy_score of LogisticRegression  0.7781606148953087 at random_state  861\n",
      "Mac acc score of lr  79.93639014047177 at random_state  496\n",
      "Accuracy_score of LogisticRegression  0.765703684071031 at random_state  862\n",
      "Mac acc score of lr  79.93639014047177 at random_state  496\n",
      "Accuracy_score of LogisticRegression  0.7853167240922343 at random_state  863\n",
      "Mac acc score of lr  79.93639014047177 at random_state  496\n",
      "Accuracy_score of LogisticRegression  0.7810760667903525 at random_state  864\n",
      "Mac acc score of lr  79.93639014047177 at random_state  496\n",
      "Accuracy_score of LogisticRegression  0.7699443413729128 at random_state  865\n",
      "Mac acc score of lr  79.93639014047177 at random_state  496\n",
      "Accuracy_score of LogisticRegression  0.7800159024648821 at random_state  866\n",
      "Mac acc score of lr  79.93639014047177 at random_state  496\n",
      "Accuracy_score of LogisticRegression  0.7696793002915452 at random_state  867\n",
      "Mac acc score of lr  79.93639014047177 at random_state  496\n",
      "Accuracy_score of LogisticRegression  0.7683540948847072 at random_state  868\n",
      "Mac acc score of lr  79.93639014047177 at random_state  496\n",
      "Accuracy_score of LogisticRegression  0.7765703684071031 at random_state  869\n",
      "Mac acc score of lr  79.93639014047177 at random_state  496\n",
      "Accuracy_score of LogisticRegression  0.7747150808375298 at random_state  870\n",
      "Mac acc score of lr  79.93639014047177 at random_state  496\n",
      "Accuracy_score of LogisticRegression  0.7768354094884707 at random_state  871\n",
      "Mac acc score of lr  79.93639014047177 at random_state  496\n",
      "Accuracy_score of LogisticRegression  0.7850516830108667 at random_state  872\n",
      "Mac acc score of lr  79.93639014047177 at random_state  496\n",
      "Accuracy_score of LogisticRegression  0.7744500397561622 at random_state  873\n",
      "Mac acc score of lr  79.93639014047177 at random_state  496\n",
      "Accuracy_score of LogisticRegression  0.7728597932679565 at random_state  874\n",
      "Mac acc score of lr  79.93639014047177 at random_state  496\n",
      "Accuracy_score of LogisticRegression  0.7863768884177047 at random_state  875\n",
      "Mac acc score of lr  79.93639014047177 at random_state  496\n",
      "Accuracy_score of LogisticRegression  0.7723297111052213 at random_state  876\n",
      "Mac acc score of lr  79.93639014047177 at random_state  496\n",
      "Accuracy_score of LogisticRegression  0.7717996289424861 at random_state  877\n",
      "Mac acc score of lr  79.93639014047177 at random_state  496\n",
      "Accuracy_score of LogisticRegression  0.7675589716406043 at random_state  878\n",
      "Mac acc score of lr  79.93639014047177 at random_state  496\n",
      "Accuracy_score of LogisticRegression  0.7778955738139411 at random_state  879\n",
      "Mac acc score of lr  79.93639014047177 at random_state  496\n",
      "Accuracy_score of LogisticRegression  0.7702093824542804 at random_state  880\n",
      "Mac acc score of lr  79.93639014047177 at random_state  496\n",
      "Accuracy_score of LogisticRegression  0.7731248343493241 at random_state  881\n",
      "Mac acc score of lr  79.93639014047177 at random_state  496\n",
      "Accuracy_score of LogisticRegression  0.7696793002915452 at random_state  882\n",
      "Mac acc score of lr  79.93639014047177 at random_state  496\n",
      "Accuracy_score of LogisticRegression  0.78690697058044 at random_state  883\n",
      "Mac acc score of lr  79.93639014047177 at random_state  496\n",
      "Accuracy_score of LogisticRegression  0.7733898754306917 at random_state  884\n",
      "Mac acc score of lr  79.93639014047177 at random_state  496\n",
      "Accuracy_score of LogisticRegression  0.7810760667903525 at random_state  885\n",
      "Mac acc score of lr  79.93639014047177 at random_state  496\n",
      "Accuracy_score of LogisticRegression  0.7773654916512059 at random_state  886\n",
      "Mac acc score of lr  79.93639014047177 at random_state  496\n",
      "Accuracy_score of LogisticRegression  0.7845216008481315 at random_state  887\n",
      "Mac acc score of lr  79.93639014047177 at random_state  496\n",
      "Accuracy_score of LogisticRegression  0.7794858203021469 at random_state  888\n",
      "Mac acc score of lr  79.93639014047177 at random_state  496\n",
      "Accuracy_score of LogisticRegression  0.7651736019082958 at random_state  889\n",
      "Mac acc score of lr  79.93639014047177 at random_state  496\n",
      "Accuracy_score of LogisticRegression  0.7760402862443678 at random_state  890\n",
      "Mac acc score of lr  79.93639014047177 at random_state  496\n",
      "Accuracy_score of LogisticRegression  0.765703684071031 at random_state  891\n",
      "Mac acc score of lr  79.93639014047177 at random_state  496\n",
      "Accuracy_score of LogisticRegression  0.778690697058044 at random_state  892\n",
      "Mac acc score of lr  79.93639014047177 at random_state  496\n",
      "Accuracy_score of LogisticRegression  0.7797508613835145 at random_state  893\n",
      "Mac acc score of lr  79.93639014047177 at random_state  496\n",
      "Accuracy_score of LogisticRegression  0.770474423535648 at random_state  894\n",
      "Mac acc score of lr  79.93639014047177 at random_state  496\n",
      "Accuracy_score of LogisticRegression  0.7728597932679565 at random_state  895\n",
      "Mac acc score of lr  79.93639014047177 at random_state  496\n",
      "Accuracy_score of LogisticRegression  0.7736549165120594 at random_state  896\n",
      "Mac acc score of lr  79.93639014047177 at random_state  496\n",
      "Accuracy_score of LogisticRegression  0.7598727802809435 at random_state  897\n",
      "Mac acc score of lr  79.93639014047177 at random_state  496\n",
      "Accuracy_score of LogisticRegression  0.7855817651736019 at random_state  898\n",
      "Mac acc score of lr  79.93639014047177 at random_state  496\n",
      "Accuracy_score of LogisticRegression  0.7773654916512059 at random_state  899\n",
      "Mac acc score of lr  79.93639014047177 at random_state  496\n",
      "Accuracy_score of LogisticRegression  0.7863768884177047 at random_state  900\n",
      "Mac acc score of lr  79.93639014047177 at random_state  496\n",
      "Accuracy_score of LogisticRegression  0.7664988073151339 at random_state  901\n",
      "Mac acc score of lr  79.93639014047177 at random_state  496\n",
      "Accuracy_score of LogisticRegression  0.7781606148953087 at random_state  902\n",
      "Mac acc score of lr  79.93639014047177 at random_state  496\n",
      "Accuracy_score of LogisticRegression  0.7686191359660748 at random_state  903\n",
      "Mac acc score of lr  79.93639014047177 at random_state  496\n",
      "Accuracy_score of LogisticRegression  0.7749801219188974 at random_state  904\n",
      "Mac acc score of lr  79.93639014047177 at random_state  496\n",
      "Accuracy_score of LogisticRegression  0.782136231115823 at random_state  905\n",
      "Mac acc score of lr  79.93639014047177 at random_state  496\n",
      "Accuracy_score of LogisticRegression  0.7789557381394117 at random_state  906\n",
      "Mac acc score of lr  79.93639014047177 at random_state  496\n",
      "Accuracy_score of LogisticRegression  0.7842565597667639 at random_state  907\n",
      "Mac acc score of lr  79.93639014047177 at random_state  496\n",
      "Accuracy_score of LogisticRegression  0.7771004505698383 at random_state  908\n",
      "Mac acc score of lr  79.93639014047177 at random_state  496\n",
      "Accuracy_score of LogisticRegression  0.7720646700238537 at random_state  909\n",
      "Mac acc score of lr  79.93639014047177 at random_state  496\n",
      "Accuracy_score of LogisticRegression  0.7845216008481315 at random_state  910\n",
      "Mac acc score of lr  79.93639014047177 at random_state  496\n",
      "Accuracy_score of LogisticRegression  0.7773654916512059 at random_state  911\n",
      "Mac acc score of lr  79.93639014047177 at random_state  496\n",
      "Accuracy_score of LogisticRegression  0.7694142592101776 at random_state  912\n",
      "Mac acc score of lr  79.93639014047177 at random_state  496\n",
      "Accuracy_score of LogisticRegression  0.7826663132785582 at random_state  913\n",
      "Mac acc score of lr  79.93639014047177 at random_state  496\n",
      "Accuracy_score of LogisticRegression  0.7606679035250464 at random_state  914\n",
      "Mac acc score of lr  79.93639014047177 at random_state  496\n",
      "Accuracy_score of LogisticRegression  0.7802809435462497 at random_state  915\n",
      "Mac acc score of lr  79.93639014047177 at random_state  496\n",
      "Accuracy_score of LogisticRegression  0.7778955738139411 at random_state  916\n",
      "Mac acc score of lr  79.93639014047177 at random_state  496\n",
      "Accuracy_score of LogisticRegression  0.7757752451630002 at random_state  917\n",
      "Mac acc score of lr  79.93639014047177 at random_state  496\n",
      "Accuracy_score of LogisticRegression  0.7715345878611185 at random_state  918\n",
      "Mac acc score of lr  79.93639014047177 at random_state  496\n",
      "Accuracy_score of LogisticRegression  0.7879671349059104 at random_state  919\n",
      "Mac acc score of lr  79.93639014047177 at random_state  496\n",
      "Accuracy_score of LogisticRegression  0.778690697058044 at random_state  920\n",
      "Mac acc score of lr  79.93639014047177 at random_state  496\n",
      "Accuracy_score of LogisticRegression  0.7829313543599258 at random_state  921\n",
      "Mac acc score of lr  79.93639014047177 at random_state  496\n",
      "Accuracy_score of LogisticRegression  0.770474423535648 at random_state  922\n",
      "Mac acc score of lr  79.93639014047177 at random_state  496\n",
      "Accuracy_score of LogisticRegression  0.7731248343493241 at random_state  923\n",
      "Mac acc score of lr  79.93639014047177 at random_state  496\n",
      "Accuracy_score of LogisticRegression  0.7712695467797509 at random_state  924\n",
      "Mac acc score of lr  79.93639014047177 at random_state  496\n",
      "Accuracy_score of LogisticRegression  0.7763053273257355 at random_state  925\n",
      "Mac acc score of lr  79.93639014047177 at random_state  496\n",
      "Accuracy_score of LogisticRegression  0.7728597932679565 at random_state  926\n",
      "Mac acc score of lr  79.93639014047177 at random_state  496\n",
      "Accuracy_score of LogisticRegression  0.7731248343493241 at random_state  927\n",
      "Mac acc score of lr  79.93639014047177 at random_state  496\n",
      "Accuracy_score of LogisticRegression  0.7694142592101776 at random_state  928\n",
      "Mac acc score of lr  79.93639014047177 at random_state  496\n",
      "Accuracy_score of LogisticRegression  0.7763053273257355 at random_state  929\n",
      "Mac acc score of lr  79.93639014047177 at random_state  496\n",
      "Accuracy_score of LogisticRegression  0.770474423535648 at random_state  930\n",
      "Mac acc score of lr  79.93639014047177 at random_state  496\n",
      "Accuracy_score of LogisticRegression  0.7720646700238537 at random_state  931\n",
      "Mac acc score of lr  79.93639014047177 at random_state  496\n",
      "Accuracy_score of LogisticRegression  0.7794858203021469 at random_state  932\n",
      "Mac acc score of lr  79.93639014047177 at random_state  496\n",
      "Accuracy_score of LogisticRegression  0.7855817651736019 at random_state  933\n",
      "Mac acc score of lr  79.93639014047177 at random_state  496\n",
      "Accuracy_score of LogisticRegression  0.7842565597667639 at random_state  934\n",
      "Mac acc score of lr  79.93639014047177 at random_state  496\n",
      "Accuracy_score of LogisticRegression  0.7789557381394117 at random_state  935\n",
      "Mac acc score of lr  79.93639014047177 at random_state  496\n",
      "Accuracy_score of LogisticRegression  0.7797508613835145 at random_state  936\n",
      "Mac acc score of lr  79.93639014047177 at random_state  496\n",
      "Accuracy_score of LogisticRegression  0.7760402862443678 at random_state  937\n",
      "Mac acc score of lr  79.93639014047177 at random_state  496\n",
      "Accuracy_score of LogisticRegression  0.762258150013252 at random_state  938\n",
      "Mac acc score of lr  79.93639014047177 at random_state  496\n",
      "Accuracy_score of LogisticRegression  0.7847866419294991 at random_state  939\n",
      "Mac acc score of lr  79.93639014047177 at random_state  496\n",
      "Accuracy_score of LogisticRegression  0.765703684071031 at random_state  940\n",
      "Mac acc score of lr  79.93639014047177 at random_state  496\n",
      "Accuracy_score of LogisticRegression  0.7839915186853962 at random_state  941\n",
      "Mac acc score of lr  79.93639014047177 at random_state  496\n",
      "Accuracy_score of LogisticRegression  0.7680890538033395 at random_state  942\n",
      "Mac acc score of lr  79.93639014047177 at random_state  496\n",
      "Accuracy_score of LogisticRegression  0.7776305327325735 at random_state  943\n",
      "Mac acc score of lr  79.93639014047177 at random_state  496\n",
      "Accuracy_score of LogisticRegression  0.7723297111052213 at random_state  944\n",
      "Mac acc score of lr  79.93639014047177 at random_state  496\n",
      "Accuracy_score of LogisticRegression  0.7717996289424861 at random_state  945\n",
      "Mac acc score of lr  79.93639014047177 at random_state  496\n",
      "Accuracy_score of LogisticRegression  0.7914126689636893 at random_state  946\n",
      "Mac acc score of lr  79.93639014047177 at random_state  496\n",
      "Accuracy_score of LogisticRegression  0.7816061489530878 at random_state  947\n",
      "Mac acc score of lr  79.93639014047177 at random_state  496\n",
      "Accuracy_score of LogisticRegression  0.7710045056983833 at random_state  948\n",
      "Mac acc score of lr  79.93639014047177 at random_state  496\n",
      "Accuracy_score of LogisticRegression  0.7733898754306917 at random_state  949\n",
      "Mac acc score of lr  79.93639014047177 at random_state  496\n",
      "Accuracy_score of LogisticRegression  0.7749801219188974 at random_state  950\n",
      "Mac acc score of lr  79.93639014047177 at random_state  496\n",
      "Accuracy_score of LogisticRegression  0.7771004505698383 at random_state  951\n",
      "Mac acc score of lr  79.93639014047177 at random_state  496\n",
      "Accuracy_score of LogisticRegression  0.7826663132785582 at random_state  952\n",
      "Mac acc score of lr  79.93639014047177 at random_state  496\n",
      "Accuracy_score of LogisticRegression  0.7741849986747946 at random_state  953\n",
      "Mac acc score of lr  79.93639014047177 at random_state  496\n",
      "Accuracy_score of LogisticRegression  0.773919957593427 at random_state  954\n",
      "Mac acc score of lr  79.93639014047177 at random_state  496\n",
      "Accuracy_score of LogisticRegression  0.7670288894778691 at random_state  955\n",
      "Mac acc score of lr  79.93639014047177 at random_state  496\n",
      "Accuracy_score of LogisticRegression  0.775245163000265 at random_state  956\n",
      "Mac acc score of lr  79.93639014047177 at random_state  496\n",
      "Accuracy_score of LogisticRegression  0.7768354094884707 at random_state  957\n",
      "Mac acc score of lr  79.93639014047177 at random_state  496\n",
      "Accuracy_score of LogisticRegression  0.783461436522661 at random_state  958\n",
      "Mac acc score of lr  79.93639014047177 at random_state  496\n",
      "Accuracy_score of LogisticRegression  0.7797508613835145 at random_state  959\n",
      "Mac acc score of lr  79.93639014047177 at random_state  496\n",
      "Accuracy_score of LogisticRegression  0.7757752451630002 at random_state  960\n",
      "Mac acc score of lr  79.93639014047177 at random_state  496\n",
      "Accuracy_score of LogisticRegression  0.7755102040816326 at random_state  961\n",
      "Mac acc score of lr  79.93639014047177 at random_state  496\n",
      "Accuracy_score of LogisticRegression  0.7853167240922343 at random_state  962\n",
      "Mac acc score of lr  79.93639014047177 at random_state  496\n",
      "Accuracy_score of LogisticRegression  0.7847866419294991 at random_state  963\n",
      "Mac acc score of lr  79.93639014047177 at random_state  496\n",
      "Accuracy_score of LogisticRegression  0.7797508613835145 at random_state  964\n",
      "Mac acc score of lr  79.93639014047177 at random_state  496\n",
      "Accuracy_score of LogisticRegression  0.7630532732573548 at random_state  965\n",
      "Mac acc score of lr  79.93639014047177 at random_state  496\n",
      "Accuracy_score of LogisticRegression  0.7702093824542804 at random_state  966\n",
      "Mac acc score of lr  79.93639014047177 at random_state  496\n",
      "Accuracy_score of LogisticRegression  0.7778955738139411 at random_state  967\n",
      "Mac acc score of lr  79.93639014047177 at random_state  496\n",
      "Accuracy_score of LogisticRegression  0.7858468062549695 at random_state  968\n",
      "Mac acc score of lr  79.93639014047177 at random_state  496\n",
      "Accuracy_score of LogisticRegression  0.7900874635568513 at random_state  969\n",
      "Mac acc score of lr  79.93639014047177 at random_state  496\n",
      "Accuracy_score of LogisticRegression  0.7845216008481315 at random_state  970\n",
      "Mac acc score of lr  79.93639014047177 at random_state  496\n",
      "Accuracy_score of LogisticRegression  0.7736549165120594 at random_state  971\n",
      "Mac acc score of lr  79.93639014047177 at random_state  496\n",
      "Accuracy_score of LogisticRegression  0.7741849986747946 at random_state  972\n",
      "Mac acc score of lr  79.93639014047177 at random_state  496\n",
      "Accuracy_score of LogisticRegression  0.778690697058044 at random_state  973\n",
      "Mac acc score of lr  79.93639014047177 at random_state  496\n",
      "Accuracy_score of LogisticRegression  0.7797508613835145 at random_state  974\n",
      "Mac acc score of lr  79.93639014047177 at random_state  496\n",
      "Accuracy_score of LogisticRegression  0.7837264776040286 at random_state  975\n",
      "Mac acc score of lr  79.93639014047177 at random_state  496\n",
      "Accuracy_score of LogisticRegression  0.7670288894778691 at random_state  976\n",
      "Mac acc score of lr  79.93639014047177 at random_state  496\n",
      "Accuracy_score of LogisticRegression  0.7757752451630002 at random_state  977\n",
      "Mac acc score of lr  79.93639014047177 at random_state  496\n",
      "Accuracy_score of LogisticRegression  0.7824012721971906 at random_state  978\n",
      "Mac acc score of lr  79.93639014047177 at random_state  496\n",
      "Accuracy_score of LogisticRegression  0.7596077391995759 at random_state  979\n",
      "Mac acc score of lr  79.93639014047177 at random_state  496\n",
      "Accuracy_score of LogisticRegression  0.7649085608269282 at random_state  980\n",
      "Mac acc score of lr  79.93639014047177 at random_state  496\n",
      "Accuracy_score of LogisticRegression  0.7741849986747946 at random_state  981\n",
      "Mac acc score of lr  79.93639014047177 at random_state  496\n",
      "Accuracy_score of LogisticRegression  0.7694142592101776 at random_state  982\n",
      "Mac acc score of lr  79.93639014047177 at random_state  496\n",
      "Accuracy_score of LogisticRegression  0.7802809435462497 at random_state  983\n",
      "Mac acc score of lr  79.93639014047177 at random_state  496\n",
      "Accuracy_score of LogisticRegression  0.7794858203021469 at random_state  984\n",
      "Mac acc score of lr  79.93639014047177 at random_state  496\n",
      "Accuracy_score of LogisticRegression  0.7861118473363371 at random_state  985\n",
      "Mac acc score of lr  79.93639014047177 at random_state  496\n",
      "Accuracy_score of LogisticRegression  0.7778955738139411 at random_state  986\n",
      "Mac acc score of lr  79.93639014047177 at random_state  496\n",
      "Accuracy_score of LogisticRegression  0.7710045056983833 at random_state  987\n",
      "Mac acc score of lr  79.93639014047177 at random_state  496\n",
      "Accuracy_score of LogisticRegression  0.7617280678505168 at random_state  988\n",
      "Mac acc score of lr  79.93639014047177 at random_state  496\n",
      "Accuracy_score of LogisticRegression  0.7824012721971906 at random_state  989\n",
      "Mac acc score of lr  79.93639014047177 at random_state  496\n",
      "Accuracy_score of LogisticRegression  0.773919957593427 at random_state  990\n",
      "Mac acc score of lr  79.93639014047177 at random_state  496\n",
      "Accuracy_score of LogisticRegression  0.7768354094884707 at random_state  991\n",
      "Mac acc score of lr  79.93639014047177 at random_state  496\n",
      "Accuracy_score of LogisticRegression  0.7717996289424861 at random_state  992\n",
      "Mac acc score of lr  79.93639014047177 at random_state  496\n",
      "Accuracy_score of LogisticRegression  0.7808110257089849 at random_state  993\n",
      "Mac acc score of lr  79.93639014047177 at random_state  496\n",
      "Accuracy_score of LogisticRegression  0.7773654916512059 at random_state  994\n",
      "Mac acc score of lr  79.93639014047177 at random_state  496\n",
      "Accuracy_score of LogisticRegression  0.7816061489530878 at random_state  995\n",
      "Mac acc score of lr  79.93639014047177 at random_state  496\n",
      "Accuracy_score of LogisticRegression  0.7741849986747946 at random_state  996\n",
      "Mac acc score of lr  79.93639014047177 at random_state  496\n",
      "Accuracy_score of LogisticRegression  0.7588126159554731 at random_state  997\n",
      "Mac acc score of lr  79.93639014047177 at random_state  496\n",
      "Accuracy_score of LogisticRegression  0.7850516830108667 at random_state  998\n",
      "Mac acc score of lr  79.93639014047177 at random_state  496\n",
      "Accuracy_score of LogisticRegression  0.765703684071031 at random_state  999\n",
      "Mac acc score of lr  79.93639014047177 at random_state  496\n"
     ]
    }
   ],
   "source": [
    "maxAcc=0\n",
    "maxRS=0\n",
    "for i in range(0,1000):\n",
    "    x_train,x_test,y_train,y_test=train_test_split(xnew,ynew,test_size=0.20,random_state=i)\n",
    "    lr.fit(x_train,y_train)\n",
    "    predlr=lr.predict(x_test)\n",
    "    score=accuracy_score(y_test,predlr)\n",
    "    print('Accuracy_score of LogisticRegression ' ,score, 'at random_state ' ,i)\n",
    "    if score > maxAcc:\n",
    "        maxAcc=score\n",
    "        maxRS=i\n",
    "    print('Mac acc score of lr ' ,maxAcc*100, 'at random_state ' ,maxRS) "
   ]
  },
  {
   "cell_type": "code",
   "execution_count": 62,
   "id": "7149da22",
   "metadata": {},
   "outputs": [
    {
     "name": "stdout",
     "output_type": "stream",
     "text": [
      "Accuracy_score of LogisticRegression  79.93639014047177\n",
      "[[1313  237]\n",
      " [ 520 1703]]\n",
      "              precision    recall  f1-score   support\n",
      "\n",
      "           0       0.72      0.85      0.78      1550\n",
      "           1       0.88      0.77      0.82      2223\n",
      "\n",
      "    accuracy                           0.80      3773\n",
      "   macro avg       0.80      0.81      0.80      3773\n",
      "weighted avg       0.81      0.80      0.80      3773\n",
      "\n"
     ]
    }
   ],
   "source": [
    "x_train,x_test,y_train,y_test=train_test_split(xnew,ynew,test_size=0.20,random_state=496)\n",
    "lr.fit(x_train,y_train)\n",
    "predlr=lr.predict(x_test)\n",
    "score=accuracy_score(predlr,y_test)\n",
    "print('Accuracy_score of LogisticRegression ' ,score*100)\n",
    "print(confusion_matrix(predlr,y_test))\n",
    "print(classification_report(predlr,y_test))"
   ]
  },
  {
   "cell_type": "markdown",
   "id": "df36dc11",
   "metadata": {},
   "source": [
    "# TUNING OF LOGISTICREGRESSION"
   ]
  },
  {
   "cell_type": "code",
   "execution_count": 63,
   "id": "bd98db8e",
   "metadata": {},
   "outputs": [],
   "source": [
    "from sklearn.model_selection import GridSearchCV"
   ]
  },
  {
   "cell_type": "code",
   "execution_count": 64,
   "id": "3dd6707d",
   "metadata": {},
   "outputs": [
    {
     "data": {
      "text/html": [
       "<style>#sk-container-id-1 {color: black;background-color: white;}#sk-container-id-1 pre{padding: 0;}#sk-container-id-1 div.sk-toggleable {background-color: white;}#sk-container-id-1 label.sk-toggleable__label {cursor: pointer;display: block;width: 100%;margin-bottom: 0;padding: 0.3em;box-sizing: border-box;text-align: center;}#sk-container-id-1 label.sk-toggleable__label-arrow:before {content: \"▸\";float: left;margin-right: 0.25em;color: #696969;}#sk-container-id-1 label.sk-toggleable__label-arrow:hover:before {color: black;}#sk-container-id-1 div.sk-estimator:hover label.sk-toggleable__label-arrow:before {color: black;}#sk-container-id-1 div.sk-toggleable__content {max-height: 0;max-width: 0;overflow: hidden;text-align: left;background-color: #f0f8ff;}#sk-container-id-1 div.sk-toggleable__content pre {margin: 0.2em;color: black;border-radius: 0.25em;background-color: #f0f8ff;}#sk-container-id-1 input.sk-toggleable__control:checked~div.sk-toggleable__content {max-height: 200px;max-width: 100%;overflow: auto;}#sk-container-id-1 input.sk-toggleable__control:checked~label.sk-toggleable__label-arrow:before {content: \"▾\";}#sk-container-id-1 div.sk-estimator input.sk-toggleable__control:checked~label.sk-toggleable__label {background-color: #d4ebff;}#sk-container-id-1 div.sk-label input.sk-toggleable__control:checked~label.sk-toggleable__label {background-color: #d4ebff;}#sk-container-id-1 input.sk-hidden--visually {border: 0;clip: rect(1px 1px 1px 1px);clip: rect(1px, 1px, 1px, 1px);height: 1px;margin: -1px;overflow: hidden;padding: 0;position: absolute;width: 1px;}#sk-container-id-1 div.sk-estimator {font-family: monospace;background-color: #f0f8ff;border: 1px dotted black;border-radius: 0.25em;box-sizing: border-box;margin-bottom: 0.5em;}#sk-container-id-1 div.sk-estimator:hover {background-color: #d4ebff;}#sk-container-id-1 div.sk-parallel-item::after {content: \"\";width: 100%;border-bottom: 1px solid gray;flex-grow: 1;}#sk-container-id-1 div.sk-label:hover label.sk-toggleable__label {background-color: #d4ebff;}#sk-container-id-1 div.sk-serial::before {content: \"\";position: absolute;border-left: 1px solid gray;box-sizing: border-box;top: 0;bottom: 0;left: 50%;z-index: 0;}#sk-container-id-1 div.sk-serial {display: flex;flex-direction: column;align-items: center;background-color: white;padding-right: 0.2em;padding-left: 0.2em;position: relative;}#sk-container-id-1 div.sk-item {position: relative;z-index: 1;}#sk-container-id-1 div.sk-parallel {display: flex;align-items: stretch;justify-content: center;background-color: white;position: relative;}#sk-container-id-1 div.sk-item::before, #sk-container-id-1 div.sk-parallel-item::before {content: \"\";position: absolute;border-left: 1px solid gray;box-sizing: border-box;top: 0;bottom: 0;left: 50%;z-index: -1;}#sk-container-id-1 div.sk-parallel-item {display: flex;flex-direction: column;z-index: 1;position: relative;background-color: white;}#sk-container-id-1 div.sk-parallel-item:first-child::after {align-self: flex-end;width: 50%;}#sk-container-id-1 div.sk-parallel-item:last-child::after {align-self: flex-start;width: 50%;}#sk-container-id-1 div.sk-parallel-item:only-child::after {width: 0;}#sk-container-id-1 div.sk-dashed-wrapped {border: 1px dashed gray;margin: 0 0.4em 0.5em 0.4em;box-sizing: border-box;padding-bottom: 0.4em;background-color: white;}#sk-container-id-1 div.sk-label label {font-family: monospace;font-weight: bold;display: inline-block;line-height: 1.2em;}#sk-container-id-1 div.sk-label-container {text-align: center;}#sk-container-id-1 div.sk-container {/* jupyter's `normalize.less` sets `[hidden] { display: none; }` but bootstrap.min.css set `[hidden] { display: none !important; }` so we also need the `!important` here to be able to override the default hidden behavior on the sphinx rendered scikit-learn.org. See: https://github.com/scikit-learn/scikit-learn/issues/21755 */display: inline-block !important;position: relative;}#sk-container-id-1 div.sk-text-repr-fallback {display: none;}</style><div id=\"sk-container-id-1\" class=\"sk-top-container\"><div class=\"sk-text-repr-fallback\"><pre>GridSearchCV(estimator=LogisticRegression(),\n",
       "             param_grid={&#x27;C&#x27;: [100, 10, 1, 0.1, 0.01]})</pre><b>In a Jupyter environment, please rerun this cell to show the HTML representation or trust the notebook. <br />On GitHub, the HTML representation is unable to render, please try loading this page with nbviewer.org.</b></div><div class=\"sk-container\" hidden><div class=\"sk-item sk-dashed-wrapped\"><div class=\"sk-label-container\"><div class=\"sk-label sk-toggleable\"><input class=\"sk-toggleable__control sk-hidden--visually\" id=\"sk-estimator-id-1\" type=\"checkbox\" ><label for=\"sk-estimator-id-1\" class=\"sk-toggleable__label sk-toggleable__label-arrow\">GridSearchCV</label><div class=\"sk-toggleable__content\"><pre>GridSearchCV(estimator=LogisticRegression(),\n",
       "             param_grid={&#x27;C&#x27;: [100, 10, 1, 0.1, 0.01]})</pre></div></div></div><div class=\"sk-parallel\"><div class=\"sk-parallel-item\"><div class=\"sk-item\"><div class=\"sk-label-container\"><div class=\"sk-label sk-toggleable\"><input class=\"sk-toggleable__control sk-hidden--visually\" id=\"sk-estimator-id-2\" type=\"checkbox\" ><label for=\"sk-estimator-id-2\" class=\"sk-toggleable__label sk-toggleable__label-arrow\">estimator: LogisticRegression</label><div class=\"sk-toggleable__content\"><pre>LogisticRegression()</pre></div></div></div><div class=\"sk-serial\"><div class=\"sk-item\"><div class=\"sk-estimator sk-toggleable\"><input class=\"sk-toggleable__control sk-hidden--visually\" id=\"sk-estimator-id-3\" type=\"checkbox\" ><label for=\"sk-estimator-id-3\" class=\"sk-toggleable__label sk-toggleable__label-arrow\">LogisticRegression</label><div class=\"sk-toggleable__content\"><pre>LogisticRegression()</pre></div></div></div></div></div></div></div></div></div></div>"
      ],
      "text/plain": [
       "GridSearchCV(estimator=LogisticRegression(),\n",
       "             param_grid={'C': [100, 10, 1, 0.1, 0.01]})"
      ]
     },
     "execution_count": 64,
     "metadata": {},
     "output_type": "execute_result"
    }
   ],
   "source": [
    "lr=LogisticRegression()\n",
    "parameters={'C':[100,10,1,0.1,0.01]}\n",
    "gscvlr=GridSearchCV(estimator=lr,param_grid=parameters)\n",
    "gscvlr.fit(x_train,y_train)"
   ]
  },
  {
   "cell_type": "code",
   "execution_count": 65,
   "id": "a7d1ae32",
   "metadata": {},
   "outputs": [
    {
     "name": "stdout",
     "output_type": "stream",
     "text": [
      "{'C': 0.01}\n"
     ]
    }
   ],
   "source": [
    "print(gscvlr.best_params_)"
   ]
  },
  {
   "cell_type": "code",
   "execution_count": 66,
   "id": "f339aa3e",
   "metadata": {},
   "outputs": [
    {
     "name": "stdout",
     "output_type": "stream",
     "text": [
      "Accuracy_score  79.9893983567453\n"
     ]
    }
   ],
   "source": [
    "lr1=LogisticRegression(C=0.01)\n",
    "lr1.fit(x_train,y_train)\n",
    "predlr1=lr1.predict(x_test)\n",
    "print('Accuracy_score ' ,accuracy_score(y_test,predlr1)*100)"
   ]
  },
  {
   "cell_type": "code",
   "execution_count": 67,
   "id": "ed7a3f0d",
   "metadata": {},
   "outputs": [
    {
     "name": "stdout",
     "output_type": "stream",
     "text": [
      "Accuracy_score  79.96289424860854\n"
     ]
    }
   ],
   "source": [
    "lr1=LogisticRegression(C=0.1)\n",
    "lr1.fit(x_train,y_train)\n",
    "predlr1=lr1.predict(x_test)\n",
    "print('Accuracy_score ' ,accuracy_score(y_test,predlr1)*100)"
   ]
  },
  {
   "cell_type": "code",
   "execution_count": 68,
   "id": "8c049c19",
   "metadata": {},
   "outputs": [
    {
     "name": "stdout",
     "output_type": "stream",
     "text": [
      "Accuracy_score  79.93639014047177\n"
     ]
    }
   ],
   "source": [
    "lr1=LogisticRegression(C=1)\n",
    "lr1.fit(x_train,y_train)\n",
    "predlr1=lr1.predict(x_test)\n",
    "print('Accuracy_score ' ,accuracy_score(y_test,predlr1)*100)"
   ]
  },
  {
   "cell_type": "code",
   "execution_count": 69,
   "id": "46ab1304",
   "metadata": {},
   "outputs": [
    {
     "name": "stdout",
     "output_type": "stream",
     "text": [
      "Accuracy_score  79.93639014047177\n"
     ]
    }
   ],
   "source": [
    "lr1=LogisticRegression(C=10)\n",
    "lr1.fit(x_train,y_train)\n",
    "predlr1=lr1.predict(x_test)\n",
    "print('Accuracy_score ' ,accuracy_score(y_test,predlr1)*100)"
   ]
  },
  {
   "cell_type": "code",
   "execution_count": 70,
   "id": "7ad60367",
   "metadata": {},
   "outputs": [
    {
     "name": "stdout",
     "output_type": "stream",
     "text": [
      "Accuracy_score  79.93639014047177\n"
     ]
    }
   ],
   "source": [
    "lr1=LogisticRegression(C=100)\n",
    "lr1.fit(x_train,y_train)\n",
    "predlr1=lr1.predict(x_test)\n",
    "print('Accuracy_score ' ,accuracy_score(y_test,predlr1)*100)"
   ]
  },
  {
   "cell_type": "markdown",
   "id": "2896d8e2",
   "metadata": {},
   "source": [
    "SINCE ACCURACY SEEMS LOW , WE CAN TRY FOR MORE MODELS "
   ]
  },
  {
   "cell_type": "markdown",
   "id": "41b359b1",
   "metadata": {},
   "source": [
    "# COMPARING MORE MODELS"
   ]
  },
  {
   "cell_type": "code",
   "execution_count": 71,
   "id": "bf4856b4",
   "metadata": {},
   "outputs": [],
   "source": [
    "from sklearn.neighbors import KNeighborsClassifier\n",
    "from sklearn.ensemble import GradientBoostingClassifier,AdaBoostClassifier,ExtraTreesClassifier,RandomForestClassifier\n",
    "from sklearn.tree import DecisionTreeClassifier\n",
    "from sklearn.svm import SVC\n",
    "knc=KNeighborsClassifier()\n",
    "gbc=GradientBoostingClassifier()\n",
    "abc=AdaBoostClassifier()\n",
    "etc=ExtraTreesClassifier()\n",
    "rfc=RandomForestClassifier()\n",
    "dtc=DecisionTreeClassifier()\n",
    "svc=SVC()"
   ]
  },
  {
   "cell_type": "code",
   "execution_count": 72,
   "id": "dddada60",
   "metadata": {},
   "outputs": [
    {
     "name": "stdout",
     "output_type": "stream",
     "text": [
      "Accuracy_score of model  KNeighborsClassifier() is =  94.59316194010071\n",
      "Accuracy_score of model  GradientBoostingClassifier() is =  95.20275642724623\n",
      "Accuracy_score of model  AdaBoostClassifier() is =  91.99575934269811\n",
      "Accuracy_score of model  ExtraTreesClassifier() is =  96.18340842830638\n",
      "Accuracy_score of model  RandomForestClassifier() is =  96.42194540153723\n",
      "Accuracy_score of model  DecisionTreeClassifier() is =  95.12324410283594\n",
      "Accuracy_score of model  SVC() is =  92.92340312748476\n"
     ]
    }
   ],
   "source": [
    "model=[knc,gbc,abc,etc,rfc,dtc,svc]\n",
    "for i in model:\n",
    "    i.fit(x_train,y_train)\n",
    "    predi=i.predict(x_test)\n",
    "    print('Accuracy_score of model ' , i ,'is = ' ,accuracy_score(y_test,predi)*100)"
   ]
  },
  {
   "cell_type": "markdown",
   "id": "9d8dd518",
   "metadata": {},
   "source": [
    "# CROSS_VALIDATION"
   ]
  },
  {
   "cell_type": "code",
   "execution_count": 73,
   "id": "4700efcc",
   "metadata": {},
   "outputs": [],
   "source": [
    "from sklearn.model_selection import cross_val_score"
   ]
  },
  {
   "cell_type": "code",
   "execution_count": 74,
   "id": "5bf32f10",
   "metadata": {},
   "outputs": [
    {
     "name": "stdout",
     "output_type": "stream",
     "text": [
      "Accuracy_score of model  KNeighborsClassifier() is equal ==  94.59316194010071\n",
      "Cross validation of model  KNeighborsClassifier() is equal ==  0.9350519101720536 at cv =  2\n",
      "Diff between accuracy_score and cross validation of model  KNeighborsClassifier() is equal ==  0.010879709228953538\n",
      "Accuracy_score of model  GradientBoostingClassifier() is equal ==  95.20275642724623\n",
      "Cross validation of model  GradientBoostingClassifier() is equal ==  0.9553978971698265 at cv =  2\n",
      "Diff between accuracy_score and cross validation of model  GradientBoostingClassifier() is equal ==  -0.0033703328973642144\n",
      "Accuracy_score of model  AdaBoostClassifier() is equal ==  91.99575934269811\n",
      "Cross validation of model  AdaBoostClassifier() is equal ==  0.9196103601087009 at cv =  2\n",
      "Diff between accuracy_score and cross validation of model  AdaBoostClassifier() is equal ==  0.00034723331828023785\n",
      "Accuracy_score of model  ExtraTreesClassifier() is equal ==  96.31592896899019\n",
      "Cross validation of model  ExtraTreesClassifier() is equal ==  0.9550665870454192 at cv =  2\n",
      "Diff between accuracy_score and cross validation of model  ExtraTreesClassifier() is equal ==  0.008092702644482697\n",
      "Accuracy_score of model  RandomForestClassifier() is equal ==  96.39544129340048\n",
      "Cross validation of model  RandomForestClassifier() is equal ==  0.9603022199078417 at cv =  2\n",
      "Diff between accuracy_score and cross validation of model  RandomForestClassifier() is equal ==  0.003652193026163042\n",
      "Accuracy_score of model  DecisionTreeClassifier() is equal ==  95.04373177842565\n",
      "Cross validation of model  DecisionTreeClassifier() is equal ==  0.9431374812278679 at cv =  2\n",
      "Diff between accuracy_score and cross validation of model  DecisionTreeClassifier() is equal ==  0.007299836556388661\n",
      "Accuracy_score of model  SVC() is equal ==  92.92340312748476\n",
      "Cross validation of model  SVC() is equal ==  0.9260387480700808 at cv =  2\n",
      "Diff between accuracy_score and cross validation of model  SVC() is equal ==  0.003195283204766808\n",
      "Accuracy_score of model  KNeighborsClassifier() is equal ==  94.59316194010071\n",
      "Cross validation of model  KNeighborsClassifier() is equal ==  0.9392271676496335 at cv =  3\n",
      "Diff between accuracy_score and cross validation of model  KNeighborsClassifier() is equal ==  0.006704451751373575\n",
      "Accuracy_score of model  GradientBoostingClassifier() is equal ==  95.20275642724623\n",
      "Cross validation of model  GradientBoostingClassifier() is equal ==  0.9556630785974153 at cv =  3\n",
      "Diff between accuracy_score and cross validation of model  GradientBoostingClassifier() is equal ==  -0.0036355143249530153\n",
      "Accuracy_score of model  AdaBoostClassifier() is equal ==  91.99575934269811\n",
      "Cross validation of model  AdaBoostClassifier() is equal ==  0.9190138416534662 at cv =  3\n",
      "Diff between accuracy_score and cross validation of model  AdaBoostClassifier() is equal ==  0.0009437517735149115\n",
      "Accuracy_score of model  ExtraTreesClassifier() is equal ==  96.23641664457992\n",
      "Cross validation of model  ExtraTreesClassifier() is equal ==  0.9570548868253987 at cv =  3\n",
      "Diff between accuracy_score and cross validation of model  ExtraTreesClassifier() is equal ==  0.005309279620400398\n",
      "Accuracy_score of model  RandomForestClassifier() is equal ==  96.39544129340048\n",
      "Cross validation of model  RandomForestClassifier() is equal ==  0.9629532673383704 at cv =  3\n",
      "Diff between accuracy_score and cross validation of model  RandomForestClassifier() is equal ==  0.0010011455956343562\n",
      "Accuracy_score of model  DecisionTreeClassifier() is equal ==  94.96421945401538\n",
      "Cross validation of model  DecisionTreeClassifier() is equal ==  0.9458545868027732 at cv =  3\n",
      "Diff between accuracy_score and cross validation of model  DecisionTreeClassifier() is equal ==  0.003787607737380516\n",
      "Accuracy_score of model  SVC() is equal ==  92.92340312748476\n",
      "Cross validation of model  SVC() is equal ==  0.926370299446774 at cv =  3\n",
      "Diff between accuracy_score and cross validation of model  SVC() is equal ==  0.0028637318280736457\n",
      "Accuracy_score of model  KNeighborsClassifier() is equal ==  94.59316194010071\n",
      "Cross validation of model  KNeighborsClassifier() is equal ==  0.9400225629219614 at cv =  4\n",
      "Diff between accuracy_score and cross validation of model  KNeighborsClassifier() is equal ==  0.005909056479045716\n",
      "Accuracy_score of model  GradientBoostingClassifier() is equal ==  95.20275642724623\n",
      "Cross validation of model  GradientBoostingClassifier() is equal ==  0.9553319000129007 at cv =  4\n",
      "Diff between accuracy_score and cross validation of model  GradientBoostingClassifier() is equal ==  -0.0033043357404384244\n",
      "Accuracy_score of model  AdaBoostClassifier() is equal ==  91.99575934269811\n",
      "Cross validation of model  AdaBoostClassifier() is equal ==  0.9166947494040791 at cv =  4\n",
      "Diff between accuracy_score and cross validation of model  AdaBoostClassifier() is equal ==  0.0032628440229020006\n",
      "Accuracy_score of model  ExtraTreesClassifier() is equal ==  96.26292075271667\n",
      "Cross validation of model  ExtraTreesClassifier() is equal ==  0.9595733126678113 at cv =  4\n",
      "Diff between accuracy_score and cross validation of model  ExtraTreesClassifier() is equal ==  0.0030558948593554236\n",
      "Accuracy_score of model  RandomForestClassifier() is equal ==  96.39544129340048\n",
      "Cross validation of model  RandomForestClassifier() is equal ==  0.9642789688075035 at cv =  4\n",
      "Diff between accuracy_score and cross validation of model  RandomForestClassifier() is equal ==  -0.00032455587349877746\n",
      "Accuracy_score of model  DecisionTreeClassifier() is equal ==  95.09673999469918\n",
      "Cross validation of model  DecisionTreeClassifier() is equal ==  0.9473787704061256 at cv =  4\n",
      "Diff between accuracy_score and cross validation of model  DecisionTreeClassifier() is equal ==  0.0035886295408661395\n",
      "Accuracy_score of model  SVC() is equal ==  92.92340312748476\n",
      "Cross validation of model  SVC() is equal ==  0.927563225507801 at cv =  4\n",
      "Diff between accuracy_score and cross validation of model  SVC() is equal ==  0.0016708057670465903\n",
      "Accuracy_score of model  KNeighborsClassifier() is equal ==  94.59316194010071\n",
      "Cross validation of model  KNeighborsClassifier() is equal ==  0.9410165677023924 at cv =  5\n",
      "Diff between accuracy_score and cross validation of model  KNeighborsClassifier() is equal ==  0.004915051698614725\n",
      "Accuracy_score of model  GradientBoostingClassifier() is equal ==  95.20275642724623\n",
      "Cross validation of model  GradientBoostingClassifier() is equal ==  0.9559944498295827 at cv =  5\n",
      "Diff between accuracy_score and cross validation of model  GradientBoostingClassifier() is equal ==  -0.0039668855571204364\n",
      "Accuracy_score of model  AdaBoostClassifier() is equal ==  91.99575934269811\n",
      "Cross validation of model  AdaBoostClassifier() is equal ==  0.9182842399805125 at cv =  5\n",
      "Diff between accuracy_score and cross validation of model  AdaBoostClassifier() is equal ==  0.001673353446468684\n",
      "Accuracy_score of model  ExtraTreesClassifier() is equal ==  96.26292075271667\n",
      "Cross validation of model  ExtraTreesClassifier() is equal ==  0.9610312053213808 at cv =  5\n",
      "Diff between accuracy_score and cross validation of model  ExtraTreesClassifier() is equal ==  0.0015980022057859866\n",
      "Accuracy_score of model  RandomForestClassifier() is equal ==  96.47495361781077\n",
      "Cross validation of model  RandomForestClassifier() is equal ==  0.9640134883989621 at cv =  5\n",
      "Diff between accuracy_score and cross validation of model  RandomForestClassifier() is equal ==  0.0007360477791455988\n",
      "Accuracy_score of model  DecisionTreeClassifier() is equal ==  94.99072356215214\n",
      "Cross validation of model  DecisionTreeClassifier() is equal ==  0.9508247828244322 at cv =  5\n",
      "Diff between accuracy_score and cross validation of model  DecisionTreeClassifier() is equal ==  -0.0009175472029108178\n",
      "Accuracy_score of model  SVC() is equal ==  92.92340312748476\n",
      "Cross validation of model  SVC() is equal ==  0.9276292965881652 at cv =  5\n",
      "Diff between accuracy_score and cross validation of model  SVC() is equal ==  0.0016047346866824297\n",
      "Accuracy_score of model  KNeighborsClassifier() is equal ==  94.59316194010071\n",
      "Cross validation of model  KNeighborsClassifier() is equal ==  0.9417457598614097 at cv =  6\n",
      "Diff between accuracy_score and cross validation of model  KNeighborsClassifier() is equal ==  0.004185859539597381\n",
      "Accuracy_score of model  GradientBoostingClassifier() is equal ==  95.20275642724623\n",
      "Cross validation of model  GradientBoostingClassifier() is equal ==  0.9559943969173555 at cv =  6\n",
      "Diff between accuracy_score and cross validation of model  GradientBoostingClassifier() is equal ==  -0.003966832644893281\n",
      "Accuracy_score of model  AdaBoostClassifier() is equal ==  91.99575934269811\n",
      "Cross validation of model  AdaBoostClassifier() is equal ==  0.9178863440940144 at cv =  6\n",
      "Diff between accuracy_score and cross validation of model  AdaBoostClassifier() is equal ==  0.0020712493329667625\n",
      "Accuracy_score of model  ExtraTreesClassifier() is equal ==  96.13040021203287\n",
      "Cross validation of model  ExtraTreesClassifier() is equal ==  0.9620253551615261 at cv =  6\n",
      "Diff between accuracy_score and cross validation of model  ExtraTreesClassifier() is equal ==  -0.00072135304119747\n",
      "Accuracy_score of model  RandomForestClassifier() is equal ==  96.34243307712696\n",
      "Cross validation of model  RandomForestClassifier() is equal ==  0.9650075943174156 at cv =  6\n",
      "Diff between accuracy_score and cross validation of model  RandomForestClassifier() is equal ==  -0.0015832635461460187\n",
      "Accuracy_score of model  DecisionTreeClassifier() is equal ==  94.99072356215214\n",
      "Cross validation of model  DecisionTreeClassifier() is equal ==  0.9523492563579015 at cv =  6\n",
      "Diff between accuracy_score and cross validation of model  DecisionTreeClassifier() is equal ==  -0.0024420207363801127\n",
      "Accuracy_score of model  SVC() is equal ==  92.92340312748476\n",
      "Cross validation of model  SVC() is equal ==  0.9278943417195054 at cv =  6\n",
      "Diff between accuracy_score and cross validation of model  SVC() is equal ==  0.0013396895553422494\n",
      "Accuracy_score of model  KNeighborsClassifier() is equal ==  94.59316194010071\n",
      "Cross validation of model  KNeighborsClassifier() is equal ==  0.9426066144660775 at cv =  7\n",
      "Diff between accuracy_score and cross validation of model  KNeighborsClassifier() is equal ==  0.0033250049349295985\n",
      "Accuracy_score of model  GradientBoostingClassifier() is equal ==  95.20275642724623\n",
      "Cross validation of model  GradientBoostingClassifier() is equal ==  0.9560606778041316 at cv =  7\n",
      "Diff between accuracy_score and cross validation of model  GradientBoostingClassifier() is equal ==  -0.004033113531669352\n",
      "Accuracy_score of model  AdaBoostClassifier() is equal ==  91.99575934269811\n",
      "Cross validation of model  AdaBoostClassifier() is equal ==  0.9201402319447682 at cv =  7\n",
      "Diff between accuracy_score and cross validation of model  AdaBoostClassifier() is equal ==  -0.00018263851778710372\n",
      "Accuracy_score of model  ExtraTreesClassifier() is equal ==  96.28942486085343\n",
      "Cross validation of model  ExtraTreesClassifier() is equal ==  0.9618930882082546 at cv =  7\n",
      "Diff between accuracy_score and cross validation of model  ExtraTreesClassifier() is equal ==  0.0010011604002797547\n",
      "Accuracy_score of model  RandomForestClassifier() is equal ==  96.36893718526372\n",
      "Cross validation of model  RandomForestClassifier() is equal ==  0.9667309181182944 at cv =  7\n",
      "Diff between accuracy_score and cross validation of model  RandomForestClassifier() is equal ==  -0.0030415462656572245\n",
      "Accuracy_score of model  DecisionTreeClassifier() is equal ==  95.07023588656241\n",
      "Cross validation of model  DecisionTreeClassifier() is equal ==  0.9512227556524161 at cv =  7\n",
      "Diff between accuracy_score and cross validation of model  DecisionTreeClassifier() is equal ==  -0.0005203967867919435\n",
      "Accuracy_score of model  SVC() is equal ==  92.92340312748476\n",
      "Cross validation of model  SVC() is equal ==  0.9279609116675266 at cv =  7\n",
      "Diff between accuracy_score and cross validation of model  SVC() is equal ==  0.001273119607321016\n",
      "Accuracy_score of model  KNeighborsClassifier() is equal ==  94.59316194010071\n",
      "Cross validation of model  KNeighborsClassifier() is equal ==  0.9437344017025571 at cv =  8\n",
      "Diff between accuracy_score and cross validation of model  KNeighborsClassifier() is equal ==  0.002197217698450049\n",
      "Accuracy_score of model  GradientBoostingClassifier() is equal ==  95.20275642724623\n",
      "Cross validation of model  GradientBoostingClassifier() is equal ==  0.9553985282456681 at cv =  8\n",
      "Diff between accuracy_score and cross validation of model  GradientBoostingClassifier() is equal ==  -0.0033709639732057983\n",
      "Accuracy_score of model  AdaBoostClassifier() is equal ==  91.99575934269811\n",
      "Cross validation of model  AdaBoostClassifier() is equal ==  0.9183518869128002 at cv =  8\n",
      "Diff between accuracy_score and cross validation of model  AdaBoostClassifier() is equal ==  0.0016057065141809046\n",
      "Accuracy_score of model  ExtraTreesClassifier() is equal ==  96.1038961038961\n",
      "Cross validation of model  ExtraTreesClassifier() is equal ==  0.9627549466377362 at cv =  8\n",
      "Diff between accuracy_score and cross validation of model  ExtraTreesClassifier() is equal ==  -0.0017159855987751715\n",
      "Accuracy_score of model  RandomForestClassifier() is equal ==  96.36893718526372\n",
      "Cross validation of model  RandomForestClassifier() is equal ==  0.9662673558718722 at cv =  8\n",
      "Diff between accuracy_score and cross validation of model  RandomForestClassifier() is equal ==  -0.0025779840192350356\n",
      "Accuracy_score of model  DecisionTreeClassifier() is equal ==  94.99072356215214\n",
      "Cross validation of model  DecisionTreeClassifier() is equal ==  0.9505603515373648 at cv =  8\n",
      "Diff between accuracy_score and cross validation of model  DecisionTreeClassifier() is equal ==  -0.000653115915843494\n",
      "Accuracy_score of model  SVC() is equal ==  92.92340312748476\n",
      "Cross validation of model  SVC() is equal ==  0.9282922979744762 at cv =  8\n",
      "Diff between accuracy_score and cross validation of model  SVC() is equal ==  0.0009417333003713946\n",
      "Accuracy_score of model  KNeighborsClassifier() is equal ==  94.59316194010071\n",
      "Cross validation of model  KNeighborsClassifier() is equal ==  0.9422089805338959 at cv =  9\n",
      "Diff between accuracy_score and cross validation of model  KNeighborsClassifier() is equal ==  0.0037226388671112165\n",
      "Accuracy_score of model  GradientBoostingClassifier() is equal ==  95.20275642724623\n",
      "Cross validation of model  GradientBoostingClassifier() is equal ==  0.9553975376531851 at cv =  9\n",
      "Diff between accuracy_score and cross validation of model  GradientBoostingClassifier() is equal ==  -0.0033699733807228682\n",
      "Accuracy_score of model  AdaBoostClassifier() is equal ==  91.99575934269811\n",
      "Cross validation of model  AdaBoostClassifier() is equal ==  0.9175551516951307 at cv =  9\n",
      "Diff between accuracy_score and cross validation of model  AdaBoostClassifier() is equal ==  0.0024024417318504465\n",
      "Accuracy_score of model  ExtraTreesClassifier() is equal ==  96.34243307712696\n",
      "Cross validation of model  ExtraTreesClassifier() is equal ==  0.9630196520633331 at cv =  9\n",
      "Diff between accuracy_score and cross validation of model  ExtraTreesClassifier() is equal ==  0.00040467870793647887\n",
      "Accuracy_score of model  RandomForestClassifier() is equal ==  96.42194540153723\n",
      "Cross validation of model  RandomForestClassifier() is equal ==  0.9657367361341387 at cv =  9\n",
      "Diff between accuracy_score and cross validation of model  RandomForestClassifier() is equal ==  -0.0015172821187663388\n",
      "Accuracy_score of model  DecisionTreeClassifier() is equal ==  95.07023588656241\n",
      "Cross validation of model  DecisionTreeClassifier() is equal ==  0.9512227056213293 at cv =  9\n",
      "Diff between accuracy_score and cross validation of model  DecisionTreeClassifier() is equal ==  -0.0005203467557051145\n",
      "Accuracy_score of model  SVC() is equal ==  92.92340312748476\n",
      "Cross validation of model  SVC() is equal ==  0.9280935922024894 at cv =  9\n",
      "Diff between accuracy_score and cross validation of model  SVC() is equal ==  0.001140439072358168\n"
     ]
    }
   ],
   "source": [
    " for i in range(2,10):\n",
    "        models=[knc,gbc,abc,etc,rfc,dtc,svc]\n",
    "        for j in models:\n",
    "            j.fit(x_train,y_train)\n",
    "            predj=j.predict(x_test)\n",
    "            score=accuracy_score(y_test,predj)\n",
    "            cross=cross_val_score(j,x_train,y_train,cv=i)\n",
    "    \n",
    "            print('Accuracy_score of model ' ,j, 'is equal == ' ,score*100)\n",
    "            print('Cross validation of model ' ,j, 'is equal == ' ,cross.mean(),'at cv = ' ,i)\n",
    "            print('Diff between accuracy_score and cross validation of model ' ,j, 'is equal == ' , score-(cross.mean()))"
   ]
  },
  {
   "cell_type": "markdown",
   "id": "6f0f98ba",
   "metadata": {},
   "source": [
    "COMPARING ALL MODELS WITH  LESS DIFFERENCE BETWEEN ACCURACY AND CROSS_VALIDATION, WE FIND EXTRA TREES CLASSIFIER, RANDOM FOREST CLASSIFIER, SVC to show better accuracies"
   ]
  },
  {
   "cell_type": "markdown",
   "id": "06b98b8f",
   "metadata": {},
   "source": [
    "# HYPERTUNING"
   ]
  },
  {
   "cell_type": "code",
   "execution_count": 75,
   "id": "5eee3261",
   "metadata": {},
   "outputs": [],
   "source": [
    "from sklearn.model_selection import GridSearchCV"
   ]
  },
  {
   "cell_type": "markdown",
   "id": "b237a699",
   "metadata": {},
   "source": [
    "# ETC TUNING"
   ]
  },
  {
   "cell_type": "code",
   "execution_count": 76,
   "id": "66618751",
   "metadata": {},
   "outputs": [
    {
     "data": {
      "text/html": [
       "<style>#sk-container-id-2 {color: black;background-color: white;}#sk-container-id-2 pre{padding: 0;}#sk-container-id-2 div.sk-toggleable {background-color: white;}#sk-container-id-2 label.sk-toggleable__label {cursor: pointer;display: block;width: 100%;margin-bottom: 0;padding: 0.3em;box-sizing: border-box;text-align: center;}#sk-container-id-2 label.sk-toggleable__label-arrow:before {content: \"▸\";float: left;margin-right: 0.25em;color: #696969;}#sk-container-id-2 label.sk-toggleable__label-arrow:hover:before {color: black;}#sk-container-id-2 div.sk-estimator:hover label.sk-toggleable__label-arrow:before {color: black;}#sk-container-id-2 div.sk-toggleable__content {max-height: 0;max-width: 0;overflow: hidden;text-align: left;background-color: #f0f8ff;}#sk-container-id-2 div.sk-toggleable__content pre {margin: 0.2em;color: black;border-radius: 0.25em;background-color: #f0f8ff;}#sk-container-id-2 input.sk-toggleable__control:checked~div.sk-toggleable__content {max-height: 200px;max-width: 100%;overflow: auto;}#sk-container-id-2 input.sk-toggleable__control:checked~label.sk-toggleable__label-arrow:before {content: \"▾\";}#sk-container-id-2 div.sk-estimator input.sk-toggleable__control:checked~label.sk-toggleable__label {background-color: #d4ebff;}#sk-container-id-2 div.sk-label input.sk-toggleable__control:checked~label.sk-toggleable__label {background-color: #d4ebff;}#sk-container-id-2 input.sk-hidden--visually {border: 0;clip: rect(1px 1px 1px 1px);clip: rect(1px, 1px, 1px, 1px);height: 1px;margin: -1px;overflow: hidden;padding: 0;position: absolute;width: 1px;}#sk-container-id-2 div.sk-estimator {font-family: monospace;background-color: #f0f8ff;border: 1px dotted black;border-radius: 0.25em;box-sizing: border-box;margin-bottom: 0.5em;}#sk-container-id-2 div.sk-estimator:hover {background-color: #d4ebff;}#sk-container-id-2 div.sk-parallel-item::after {content: \"\";width: 100%;border-bottom: 1px solid gray;flex-grow: 1;}#sk-container-id-2 div.sk-label:hover label.sk-toggleable__label {background-color: #d4ebff;}#sk-container-id-2 div.sk-serial::before {content: \"\";position: absolute;border-left: 1px solid gray;box-sizing: border-box;top: 0;bottom: 0;left: 50%;z-index: 0;}#sk-container-id-2 div.sk-serial {display: flex;flex-direction: column;align-items: center;background-color: white;padding-right: 0.2em;padding-left: 0.2em;position: relative;}#sk-container-id-2 div.sk-item {position: relative;z-index: 1;}#sk-container-id-2 div.sk-parallel {display: flex;align-items: stretch;justify-content: center;background-color: white;position: relative;}#sk-container-id-2 div.sk-item::before, #sk-container-id-2 div.sk-parallel-item::before {content: \"\";position: absolute;border-left: 1px solid gray;box-sizing: border-box;top: 0;bottom: 0;left: 50%;z-index: -1;}#sk-container-id-2 div.sk-parallel-item {display: flex;flex-direction: column;z-index: 1;position: relative;background-color: white;}#sk-container-id-2 div.sk-parallel-item:first-child::after {align-self: flex-end;width: 50%;}#sk-container-id-2 div.sk-parallel-item:last-child::after {align-self: flex-start;width: 50%;}#sk-container-id-2 div.sk-parallel-item:only-child::after {width: 0;}#sk-container-id-2 div.sk-dashed-wrapped {border: 1px dashed gray;margin: 0 0.4em 0.5em 0.4em;box-sizing: border-box;padding-bottom: 0.4em;background-color: white;}#sk-container-id-2 div.sk-label label {font-family: monospace;font-weight: bold;display: inline-block;line-height: 1.2em;}#sk-container-id-2 div.sk-label-container {text-align: center;}#sk-container-id-2 div.sk-container {/* jupyter's `normalize.less` sets `[hidden] { display: none; }` but bootstrap.min.css set `[hidden] { display: none !important; }` so we also need the `!important` here to be able to override the default hidden behavior on the sphinx rendered scikit-learn.org. See: https://github.com/scikit-learn/scikit-learn/issues/21755 */display: inline-block !important;position: relative;}#sk-container-id-2 div.sk-text-repr-fallback {display: none;}</style><div id=\"sk-container-id-2\" class=\"sk-top-container\"><div class=\"sk-text-repr-fallback\"><pre>GridSearchCV(estimator=ExtraTreesClassifier(),\n",
       "             param_grid={&#x27;criterion&#x27;: [&#x27;gini&#x27;, &#x27;squared_error&#x27;],\n",
       "                         &#x27;max_depth&#x27;: [1, 2, 3],\n",
       "                         &#x27;max_features&#x27;: [&#x27;auto&#x27;, &#x27;sqrt&#x27;, &#x27;log2&#x27;],\n",
       "                         &#x27;n_estimators&#x27;: [50, 100, 150, 200]})</pre><b>In a Jupyter environment, please rerun this cell to show the HTML representation or trust the notebook. <br />On GitHub, the HTML representation is unable to render, please try loading this page with nbviewer.org.</b></div><div class=\"sk-container\" hidden><div class=\"sk-item sk-dashed-wrapped\"><div class=\"sk-label-container\"><div class=\"sk-label sk-toggleable\"><input class=\"sk-toggleable__control sk-hidden--visually\" id=\"sk-estimator-id-4\" type=\"checkbox\" ><label for=\"sk-estimator-id-4\" class=\"sk-toggleable__label sk-toggleable__label-arrow\">GridSearchCV</label><div class=\"sk-toggleable__content\"><pre>GridSearchCV(estimator=ExtraTreesClassifier(),\n",
       "             param_grid={&#x27;criterion&#x27;: [&#x27;gini&#x27;, &#x27;squared_error&#x27;],\n",
       "                         &#x27;max_depth&#x27;: [1, 2, 3],\n",
       "                         &#x27;max_features&#x27;: [&#x27;auto&#x27;, &#x27;sqrt&#x27;, &#x27;log2&#x27;],\n",
       "                         &#x27;n_estimators&#x27;: [50, 100, 150, 200]})</pre></div></div></div><div class=\"sk-parallel\"><div class=\"sk-parallel-item\"><div class=\"sk-item\"><div class=\"sk-label-container\"><div class=\"sk-label sk-toggleable\"><input class=\"sk-toggleable__control sk-hidden--visually\" id=\"sk-estimator-id-5\" type=\"checkbox\" ><label for=\"sk-estimator-id-5\" class=\"sk-toggleable__label sk-toggleable__label-arrow\">estimator: ExtraTreesClassifier</label><div class=\"sk-toggleable__content\"><pre>ExtraTreesClassifier()</pre></div></div></div><div class=\"sk-serial\"><div class=\"sk-item\"><div class=\"sk-estimator sk-toggleable\"><input class=\"sk-toggleable__control sk-hidden--visually\" id=\"sk-estimator-id-6\" type=\"checkbox\" ><label for=\"sk-estimator-id-6\" class=\"sk-toggleable__label sk-toggleable__label-arrow\">ExtraTreesClassifier</label><div class=\"sk-toggleable__content\"><pre>ExtraTreesClassifier()</pre></div></div></div></div></div></div></div></div></div></div>"
      ],
      "text/plain": [
       "GridSearchCV(estimator=ExtraTreesClassifier(),\n",
       "             param_grid={'criterion': ['gini', 'squared_error'],\n",
       "                         'max_depth': [1, 2, 3],\n",
       "                         'max_features': ['auto', 'sqrt', 'log2'],\n",
       "                         'n_estimators': [50, 100, 150, 200]})"
      ]
     },
     "execution_count": 76,
     "metadata": {},
     "output_type": "execute_result"
    }
   ],
   "source": [
    "parameters={'n_estimators':[50,100,150,200],\n",
    "            'criterion':['gini','squared_error'],\n",
    "            'max_depth':[1,2,3],\n",
    "            'max_features':['auto','sqrt','log2']}\n",
    "gscv_etc=GridSearchCV(estimator=etc,param_grid=parameters)\n",
    "gscv_etc.fit(x_train,y_train)"
   ]
  },
  {
   "cell_type": "code",
   "execution_count": 77,
   "id": "5e6ef1b1",
   "metadata": {},
   "outputs": [
    {
     "name": "stdout",
     "output_type": "stream",
     "text": [
      "0.9046990842482394\n",
      "{'criterion': 'gini', 'max_depth': 3, 'max_features': 'auto', 'n_estimators': 200}\n",
      "ExtraTreesClassifier(max_depth=3, max_features='auto', n_estimators=200)\n"
     ]
    }
   ],
   "source": [
    "print(gscv_etc.best_score_)\n",
    "print(gscv_etc.best_params_)\n",
    "print(gscv_etc.best_estimator_)"
   ]
  },
  {
   "cell_type": "markdown",
   "id": "7b410d20",
   "metadata": {},
   "source": [
    "# RFC TUNING"
   ]
  },
  {
   "cell_type": "code",
   "execution_count": 78,
   "id": "55bb5d45",
   "metadata": {},
   "outputs": [
    {
     "data": {
      "text/html": [
       "<style>#sk-container-id-3 {color: black;background-color: white;}#sk-container-id-3 pre{padding: 0;}#sk-container-id-3 div.sk-toggleable {background-color: white;}#sk-container-id-3 label.sk-toggleable__label {cursor: pointer;display: block;width: 100%;margin-bottom: 0;padding: 0.3em;box-sizing: border-box;text-align: center;}#sk-container-id-3 label.sk-toggleable__label-arrow:before {content: \"▸\";float: left;margin-right: 0.25em;color: #696969;}#sk-container-id-3 label.sk-toggleable__label-arrow:hover:before {color: black;}#sk-container-id-3 div.sk-estimator:hover label.sk-toggleable__label-arrow:before {color: black;}#sk-container-id-3 div.sk-toggleable__content {max-height: 0;max-width: 0;overflow: hidden;text-align: left;background-color: #f0f8ff;}#sk-container-id-3 div.sk-toggleable__content pre {margin: 0.2em;color: black;border-radius: 0.25em;background-color: #f0f8ff;}#sk-container-id-3 input.sk-toggleable__control:checked~div.sk-toggleable__content {max-height: 200px;max-width: 100%;overflow: auto;}#sk-container-id-3 input.sk-toggleable__control:checked~label.sk-toggleable__label-arrow:before {content: \"▾\";}#sk-container-id-3 div.sk-estimator input.sk-toggleable__control:checked~label.sk-toggleable__label {background-color: #d4ebff;}#sk-container-id-3 div.sk-label input.sk-toggleable__control:checked~label.sk-toggleable__label {background-color: #d4ebff;}#sk-container-id-3 input.sk-hidden--visually {border: 0;clip: rect(1px 1px 1px 1px);clip: rect(1px, 1px, 1px, 1px);height: 1px;margin: -1px;overflow: hidden;padding: 0;position: absolute;width: 1px;}#sk-container-id-3 div.sk-estimator {font-family: monospace;background-color: #f0f8ff;border: 1px dotted black;border-radius: 0.25em;box-sizing: border-box;margin-bottom: 0.5em;}#sk-container-id-3 div.sk-estimator:hover {background-color: #d4ebff;}#sk-container-id-3 div.sk-parallel-item::after {content: \"\";width: 100%;border-bottom: 1px solid gray;flex-grow: 1;}#sk-container-id-3 div.sk-label:hover label.sk-toggleable__label {background-color: #d4ebff;}#sk-container-id-3 div.sk-serial::before {content: \"\";position: absolute;border-left: 1px solid gray;box-sizing: border-box;top: 0;bottom: 0;left: 50%;z-index: 0;}#sk-container-id-3 div.sk-serial {display: flex;flex-direction: column;align-items: center;background-color: white;padding-right: 0.2em;padding-left: 0.2em;position: relative;}#sk-container-id-3 div.sk-item {position: relative;z-index: 1;}#sk-container-id-3 div.sk-parallel {display: flex;align-items: stretch;justify-content: center;background-color: white;position: relative;}#sk-container-id-3 div.sk-item::before, #sk-container-id-3 div.sk-parallel-item::before {content: \"\";position: absolute;border-left: 1px solid gray;box-sizing: border-box;top: 0;bottom: 0;left: 50%;z-index: -1;}#sk-container-id-3 div.sk-parallel-item {display: flex;flex-direction: column;z-index: 1;position: relative;background-color: white;}#sk-container-id-3 div.sk-parallel-item:first-child::after {align-self: flex-end;width: 50%;}#sk-container-id-3 div.sk-parallel-item:last-child::after {align-self: flex-start;width: 50%;}#sk-container-id-3 div.sk-parallel-item:only-child::after {width: 0;}#sk-container-id-3 div.sk-dashed-wrapped {border: 1px dashed gray;margin: 0 0.4em 0.5em 0.4em;box-sizing: border-box;padding-bottom: 0.4em;background-color: white;}#sk-container-id-3 div.sk-label label {font-family: monospace;font-weight: bold;display: inline-block;line-height: 1.2em;}#sk-container-id-3 div.sk-label-container {text-align: center;}#sk-container-id-3 div.sk-container {/* jupyter's `normalize.less` sets `[hidden] { display: none; }` but bootstrap.min.css set `[hidden] { display: none !important; }` so we also need the `!important` here to be able to override the default hidden behavior on the sphinx rendered scikit-learn.org. See: https://github.com/scikit-learn/scikit-learn/issues/21755 */display: inline-block !important;position: relative;}#sk-container-id-3 div.sk-text-repr-fallback {display: none;}</style><div id=\"sk-container-id-3\" class=\"sk-top-container\"><div class=\"sk-text-repr-fallback\"><pre>GridSearchCV(estimator=RandomForestClassifier(),\n",
       "             param_grid={&#x27;criterion&#x27;: [&#x27;gini&#x27;, &#x27;squared_error&#x27;],\n",
       "                         &#x27;max_depth&#x27;: [1, 2, 3],\n",
       "                         &#x27;max_features&#x27;: [&#x27;auto&#x27;, &#x27;sqrt&#x27;, &#x27;log2&#x27;],\n",
       "                         &#x27;n_estimators&#x27;: [50, 100, 150, 200]})</pre><b>In a Jupyter environment, please rerun this cell to show the HTML representation or trust the notebook. <br />On GitHub, the HTML representation is unable to render, please try loading this page with nbviewer.org.</b></div><div class=\"sk-container\" hidden><div class=\"sk-item sk-dashed-wrapped\"><div class=\"sk-label-container\"><div class=\"sk-label sk-toggleable\"><input class=\"sk-toggleable__control sk-hidden--visually\" id=\"sk-estimator-id-7\" type=\"checkbox\" ><label for=\"sk-estimator-id-7\" class=\"sk-toggleable__label sk-toggleable__label-arrow\">GridSearchCV</label><div class=\"sk-toggleable__content\"><pre>GridSearchCV(estimator=RandomForestClassifier(),\n",
       "             param_grid={&#x27;criterion&#x27;: [&#x27;gini&#x27;, &#x27;squared_error&#x27;],\n",
       "                         &#x27;max_depth&#x27;: [1, 2, 3],\n",
       "                         &#x27;max_features&#x27;: [&#x27;auto&#x27;, &#x27;sqrt&#x27;, &#x27;log2&#x27;],\n",
       "                         &#x27;n_estimators&#x27;: [50, 100, 150, 200]})</pre></div></div></div><div class=\"sk-parallel\"><div class=\"sk-parallel-item\"><div class=\"sk-item\"><div class=\"sk-label-container\"><div class=\"sk-label sk-toggleable\"><input class=\"sk-toggleable__control sk-hidden--visually\" id=\"sk-estimator-id-8\" type=\"checkbox\" ><label for=\"sk-estimator-id-8\" class=\"sk-toggleable__label sk-toggleable__label-arrow\">estimator: RandomForestClassifier</label><div class=\"sk-toggleable__content\"><pre>RandomForestClassifier()</pre></div></div></div><div class=\"sk-serial\"><div class=\"sk-item\"><div class=\"sk-estimator sk-toggleable\"><input class=\"sk-toggleable__control sk-hidden--visually\" id=\"sk-estimator-id-9\" type=\"checkbox\" ><label for=\"sk-estimator-id-9\" class=\"sk-toggleable__label sk-toggleable__label-arrow\">RandomForestClassifier</label><div class=\"sk-toggleable__content\"><pre>RandomForestClassifier()</pre></div></div></div></div></div></div></div></div></div></div>"
      ],
      "text/plain": [
       "GridSearchCV(estimator=RandomForestClassifier(),\n",
       "             param_grid={'criterion': ['gini', 'squared_error'],\n",
       "                         'max_depth': [1, 2, 3],\n",
       "                         'max_features': ['auto', 'sqrt', 'log2'],\n",
       "                         'n_estimators': [50, 100, 150, 200]})"
      ]
     },
     "execution_count": 78,
     "metadata": {},
     "output_type": "execute_result"
    }
   ],
   "source": [
    "parameters={'n_estimators':[50,100,150,200],\n",
    "            'criterion':['gini','squared_error'],\n",
    "            'max_depth':[1,2,3],\n",
    "            'max_features':['auto','sqrt','log2']}\n",
    "gscv_rfc=GridSearchCV(estimator=rfc,param_grid=parameters)\n",
    "gscv_rfc.fit(x_train,y_train)"
   ]
  },
  {
   "cell_type": "code",
   "execution_count": 79,
   "id": "8ee32256",
   "metadata": {},
   "outputs": [
    {
     "name": "stdout",
     "output_type": "stream",
     "text": [
      "0.9096695706876847\n",
      "{'criterion': 'gini', 'max_depth': 3, 'max_features': 'log2', 'n_estimators': 50}\n",
      "RandomForestClassifier(max_depth=3, max_features='log2', n_estimators=50)\n"
     ]
    }
   ],
   "source": [
    "print(gscv_rfc.best_score_)\n",
    "print(gscv_rfc.best_params_)\n",
    "print(gscv_rfc.best_estimator_)"
   ]
  },
  {
   "cell_type": "markdown",
   "id": "263b889f",
   "metadata": {},
   "source": [
    "# SVC TUNING"
   ]
  },
  {
   "cell_type": "code",
   "execution_count": 80,
   "id": "a8ea931a",
   "metadata": {},
   "outputs": [],
   "source": [
    "svc=SVC()\n",
    "kernel_value={'kernel':['rbf','linear','poly']}"
   ]
  },
  {
   "cell_type": "code",
   "execution_count": 81,
   "id": "e80b8cd4",
   "metadata": {},
   "outputs": [
    {
     "data": {
      "text/html": [
       "<style>#sk-container-id-4 {color: black;background-color: white;}#sk-container-id-4 pre{padding: 0;}#sk-container-id-4 div.sk-toggleable {background-color: white;}#sk-container-id-4 label.sk-toggleable__label {cursor: pointer;display: block;width: 100%;margin-bottom: 0;padding: 0.3em;box-sizing: border-box;text-align: center;}#sk-container-id-4 label.sk-toggleable__label-arrow:before {content: \"▸\";float: left;margin-right: 0.25em;color: #696969;}#sk-container-id-4 label.sk-toggleable__label-arrow:hover:before {color: black;}#sk-container-id-4 div.sk-estimator:hover label.sk-toggleable__label-arrow:before {color: black;}#sk-container-id-4 div.sk-toggleable__content {max-height: 0;max-width: 0;overflow: hidden;text-align: left;background-color: #f0f8ff;}#sk-container-id-4 div.sk-toggleable__content pre {margin: 0.2em;color: black;border-radius: 0.25em;background-color: #f0f8ff;}#sk-container-id-4 input.sk-toggleable__control:checked~div.sk-toggleable__content {max-height: 200px;max-width: 100%;overflow: auto;}#sk-container-id-4 input.sk-toggleable__control:checked~label.sk-toggleable__label-arrow:before {content: \"▾\";}#sk-container-id-4 div.sk-estimator input.sk-toggleable__control:checked~label.sk-toggleable__label {background-color: #d4ebff;}#sk-container-id-4 div.sk-label input.sk-toggleable__control:checked~label.sk-toggleable__label {background-color: #d4ebff;}#sk-container-id-4 input.sk-hidden--visually {border: 0;clip: rect(1px 1px 1px 1px);clip: rect(1px, 1px, 1px, 1px);height: 1px;margin: -1px;overflow: hidden;padding: 0;position: absolute;width: 1px;}#sk-container-id-4 div.sk-estimator {font-family: monospace;background-color: #f0f8ff;border: 1px dotted black;border-radius: 0.25em;box-sizing: border-box;margin-bottom: 0.5em;}#sk-container-id-4 div.sk-estimator:hover {background-color: #d4ebff;}#sk-container-id-4 div.sk-parallel-item::after {content: \"\";width: 100%;border-bottom: 1px solid gray;flex-grow: 1;}#sk-container-id-4 div.sk-label:hover label.sk-toggleable__label {background-color: #d4ebff;}#sk-container-id-4 div.sk-serial::before {content: \"\";position: absolute;border-left: 1px solid gray;box-sizing: border-box;top: 0;bottom: 0;left: 50%;z-index: 0;}#sk-container-id-4 div.sk-serial {display: flex;flex-direction: column;align-items: center;background-color: white;padding-right: 0.2em;padding-left: 0.2em;position: relative;}#sk-container-id-4 div.sk-item {position: relative;z-index: 1;}#sk-container-id-4 div.sk-parallel {display: flex;align-items: stretch;justify-content: center;background-color: white;position: relative;}#sk-container-id-4 div.sk-item::before, #sk-container-id-4 div.sk-parallel-item::before {content: \"\";position: absolute;border-left: 1px solid gray;box-sizing: border-box;top: 0;bottom: 0;left: 50%;z-index: -1;}#sk-container-id-4 div.sk-parallel-item {display: flex;flex-direction: column;z-index: 1;position: relative;background-color: white;}#sk-container-id-4 div.sk-parallel-item:first-child::after {align-self: flex-end;width: 50%;}#sk-container-id-4 div.sk-parallel-item:last-child::after {align-self: flex-start;width: 50%;}#sk-container-id-4 div.sk-parallel-item:only-child::after {width: 0;}#sk-container-id-4 div.sk-dashed-wrapped {border: 1px dashed gray;margin: 0 0.4em 0.5em 0.4em;box-sizing: border-box;padding-bottom: 0.4em;background-color: white;}#sk-container-id-4 div.sk-label label {font-family: monospace;font-weight: bold;display: inline-block;line-height: 1.2em;}#sk-container-id-4 div.sk-label-container {text-align: center;}#sk-container-id-4 div.sk-container {/* jupyter's `normalize.less` sets `[hidden] { display: none; }` but bootstrap.min.css set `[hidden] { display: none !important; }` so we also need the `!important` here to be able to override the default hidden behavior on the sphinx rendered scikit-learn.org. See: https://github.com/scikit-learn/scikit-learn/issues/21755 */display: inline-block !important;position: relative;}#sk-container-id-4 div.sk-text-repr-fallback {display: none;}</style><div id=\"sk-container-id-4\" class=\"sk-top-container\"><div class=\"sk-text-repr-fallback\"><pre>GridSearchCV(estimator=SVC(), param_grid={&#x27;kernel&#x27;: [&#x27;rbf&#x27;, &#x27;linear&#x27;, &#x27;poly&#x27;]})</pre><b>In a Jupyter environment, please rerun this cell to show the HTML representation or trust the notebook. <br />On GitHub, the HTML representation is unable to render, please try loading this page with nbviewer.org.</b></div><div class=\"sk-container\" hidden><div class=\"sk-item sk-dashed-wrapped\"><div class=\"sk-label-container\"><div class=\"sk-label sk-toggleable\"><input class=\"sk-toggleable__control sk-hidden--visually\" id=\"sk-estimator-id-10\" type=\"checkbox\" ><label for=\"sk-estimator-id-10\" class=\"sk-toggleable__label sk-toggleable__label-arrow\">GridSearchCV</label><div class=\"sk-toggleable__content\"><pre>GridSearchCV(estimator=SVC(), param_grid={&#x27;kernel&#x27;: [&#x27;rbf&#x27;, &#x27;linear&#x27;, &#x27;poly&#x27;]})</pre></div></div></div><div class=\"sk-parallel\"><div class=\"sk-parallel-item\"><div class=\"sk-item\"><div class=\"sk-label-container\"><div class=\"sk-label sk-toggleable\"><input class=\"sk-toggleable__control sk-hidden--visually\" id=\"sk-estimator-id-11\" type=\"checkbox\" ><label for=\"sk-estimator-id-11\" class=\"sk-toggleable__label sk-toggleable__label-arrow\">estimator: SVC</label><div class=\"sk-toggleable__content\"><pre>SVC()</pre></div></div></div><div class=\"sk-serial\"><div class=\"sk-item\"><div class=\"sk-estimator sk-toggleable\"><input class=\"sk-toggleable__control sk-hidden--visually\" id=\"sk-estimator-id-12\" type=\"checkbox\" ><label for=\"sk-estimator-id-12\" class=\"sk-toggleable__label sk-toggleable__label-arrow\">SVC</label><div class=\"sk-toggleable__content\"><pre>SVC()</pre></div></div></div></div></div></div></div></div></div></div>"
      ],
      "text/plain": [
       "GridSearchCV(estimator=SVC(), param_grid={'kernel': ['rbf', 'linear', 'poly']})"
      ]
     },
     "execution_count": 81,
     "metadata": {},
     "output_type": "execute_result"
    }
   ],
   "source": [
    "gscv_svc=GridSearchCV(estimator=svc,param_grid=kernel_value)\n",
    "gscv_svc.fit(x_train,y_train)"
   ]
  },
  {
   "cell_type": "code",
   "execution_count": 82,
   "id": "a38ff3bc",
   "metadata": {},
   "outputs": [
    {
     "name": "stdout",
     "output_type": "stream",
     "text": [
      "0.9276292965881652\n",
      "SVC()\n",
      "{'kernel': 'rbf'}\n"
     ]
    }
   ],
   "source": [
    "print(gscv_svc.best_score_)\n",
    "print(gscv_svc.best_estimator_)\n",
    "print(gscv_svc.best_params_)"
   ]
  },
  {
   "cell_type": "markdown",
   "id": "8e4d07fa",
   "metadata": {},
   "source": [
    "# FINALLY WE CONCLUDE THAT RANDOM FOREST CLASSIFIER IS THE BEST FITTING MODEL"
   ]
  },
  {
   "cell_type": "code",
   "execution_count": null,
   "id": "09062244",
   "metadata": {},
   "outputs": [],
   "source": []
  },
  {
   "cell_type": "markdown",
   "id": "275726a3",
   "metadata": {},
   "source": [
    "# ROC_AUC_CURVE"
   ]
  },
  {
   "cell_type": "code",
   "execution_count": 83,
   "id": "04dd7bf3",
   "metadata": {},
   "outputs": [],
   "source": [
    "from sklearn.metrics import roc_curve"
   ]
  },
  {
   "cell_type": "code",
   "execution_count": 84,
   "id": "f49296c5",
   "metadata": {},
   "outputs": [],
   "source": [
    "fpr,tpr,thresholds=roc_curve(y_test,rfc.predict(x_test))"
   ]
  },
  {
   "cell_type": "code",
   "execution_count": 85,
   "id": "471f543e",
   "metadata": {},
   "outputs": [
    {
     "data": {
      "text/plain": [
       "array([0.        , 0.03436989, 1.        ])"
      ]
     },
     "execution_count": 85,
     "metadata": {},
     "output_type": "execute_result"
    }
   ],
   "source": [
    "fpr"
   ]
  },
  {
   "cell_type": "code",
   "execution_count": 86,
   "id": "5e6aef40",
   "metadata": {},
   "outputs": [
    {
     "data": {
      "text/plain": [
       "array([0.       , 0.9628866, 1.       ])"
      ]
     },
     "execution_count": 86,
     "metadata": {},
     "output_type": "execute_result"
    }
   ],
   "source": [
    "tpr"
   ]
  },
  {
   "cell_type": "code",
   "execution_count": 87,
   "id": "8c96c7b0",
   "metadata": {},
   "outputs": [
    {
     "data": {
      "text/plain": [
       "array([2, 1, 0], dtype=int64)"
      ]
     },
     "execution_count": 87,
     "metadata": {},
     "output_type": "execute_result"
    }
   ],
   "source": [
    "thresholds"
   ]
  },
  {
   "cell_type": "code",
   "execution_count": 88,
   "id": "ec50f860",
   "metadata": {},
   "outputs": [
    {
     "data": {
      "image/png": "[encoded data removed]",
      "text/plain": [
       "<Figure size 432x288 with 1 Axes>"
      ]
     },
     "metadata": {
      "needs_background": "light"
     },
     "output_type": "display_data"
    }
   ],
   "source": [
    "plt.plot(fpr,tpr,label='RandomForestClassifier')\n",
    "plt.xlabel(\"False Positive Rate \")\n",
    "plt.ylabel('True Positive Rate')\n",
    "plt.title('RandomForestClassifier')\n",
    "plt.show()"
   ]
  },
  {
   "cell_type": "code",
   "execution_count": 89,
   "id": "d13be5a4",
   "metadata": {},
   "outputs": [
    {
     "data": {
      "image/png": "[encoded data removed]",
      "text/plain": [
       "<Figure size 432x288 with 1 Axes>"
      ]
     },
     "metadata": {
      "needs_background": "light"
     },
     "output_type": "display_data"
    }
   ],
   "source": [
    "from sklearn.metrics import roc_curve,auc\n",
    "fpr,tpr,thresholds=roc_curve(y_test,rfc.predict(x_test))\n",
    "roc_auc=auc(fpr,tpr)\n",
    "\n",
    "plt.figure()\n",
    "plt.plot(fpr,tpr,color='darkorange',label=roc_auc)\n",
    "plt.plot([0,1],[0,1],color='navy',linestyle='--')\n",
    "plt.xlabel('FalsePositiveRate')\n",
    "plt.ylabel('TruePositiveRate')\n",
    "plt.xlim([0.0,1.0])\n",
    "plt.ylim([0.0,1.05])\n",
    "plt.title('RandomForestClassifier')\n",
    "plt.legend(loc='lower right')\n",
    "plt.show()"
   ]
  },
  {
   "cell_type": "code",
   "execution_count": 90,
   "id": "2dfe42b6",
   "metadata": {},
   "outputs": [
    {
     "data": {
      "image/png": "[encoded data removed]",
      "text/plain": [
       "<Figure size 576x432 with 1 Axes>"
      ]
     },
     "metadata": {
      "needs_background": "light"
     },
     "output_type": "display_data"
    }
   ],
   "source": [
    "plt.figure(figsize=(8,6))\n",
    "plt.xlabel(\"Actual charges\")\n",
    "plt.ylabel(\"Predicted charges\")\n",
    "plt.scatter(x=y_test,y=rfc.predict(x_test),color='r')\n",
    "plt.plot(y_test,y_test,color='b')\n",
    "plt.savefig('=rfc.png')\n",
    "plt.show()"
   ]
  },
  {
   "cell_type": "code",
   "execution_count": 91,
   "id": "736ec6bd",
   "metadata": {},
   "outputs": [
    {
     "data": {
      "image/png": "[encoded data removed]",
      "text/plain": [
       "<Figure size 432x288 with 1 Axes>"
      ]
     },
     "metadata": {
      "needs_background": "light"
     },
     "output_type": "display_data"
    }
   ],
   "source": [
    "from sklearn.metrics import plot_roc_curve\n",
    "plot_roc_curve(gscv_rfc.best_estimator_,x_test,y_test)\n",
    "plt.title('ROC AUC PLOT')\n",
    "plt.show()"
   ]
  },
  {
   "cell_type": "markdown",
   "id": "ecc15a28",
   "metadata": {},
   "source": [
    "# SAVING THE BEST MODEL"
   ]
  },
  {
   "cell_type": "code",
   "execution_count": 92,
   "id": "13a8a11f",
   "metadata": {},
   "outputs": [],
   "source": [
    "import pickle"
   ]
  },
  {
   "cell_type": "code",
   "execution_count": 93,
   "id": "0d5f6b8d",
   "metadata": {},
   "outputs": [],
   "source": [
    "filename='HR_Analytics.pkl'"
   ]
  },
  {
   "cell_type": "code",
   "execution_count": 94,
   "id": "2f23142b",
   "metadata": {},
   "outputs": [],
   "source": [
    "pickle.dump(gscv_rfc.best_estimator_,open(filename,'wb'))"
   ]
  },
  {
   "cell_type": "markdown",
   "id": "bc849be5",
   "metadata": {},
   "source": [
    "# LOAD THE BEST model"
   ]
  },
  {
   "cell_type": "code",
   "execution_count": 95,
   "id": "c85a11df",
   "metadata": {},
   "outputs": [
    {
     "data": {
      "text/html": [
       "<style>#sk-container-id-5 {color: black;background-color: white;}#sk-container-id-5 pre{padding: 0;}#sk-container-id-5 div.sk-toggleable {background-color: white;}#sk-container-id-5 label.sk-toggleable__label {cursor: pointer;display: block;width: 100%;margin-bottom: 0;padding: 0.3em;box-sizing: border-box;text-align: center;}#sk-container-id-5 label.sk-toggleable__label-arrow:before {content: \"▸\";float: left;margin-right: 0.25em;color: #696969;}#sk-container-id-5 label.sk-toggleable__label-arrow:hover:before {color: black;}#sk-container-id-5 div.sk-estimator:hover label.sk-toggleable__label-arrow:before {color: black;}#sk-container-id-5 div.sk-toggleable__content {max-height: 0;max-width: 0;overflow: hidden;text-align: left;background-color: #f0f8ff;}#sk-container-id-5 div.sk-toggleable__content pre {margin: 0.2em;color: black;border-radius: 0.25em;background-color: #f0f8ff;}#sk-container-id-5 input.sk-toggleable__control:checked~div.sk-toggleable__content {max-height: 200px;max-width: 100%;overflow: auto;}#sk-container-id-5 input.sk-toggleable__control:checked~label.sk-toggleable__label-arrow:before {content: \"▾\";}#sk-container-id-5 div.sk-estimator input.sk-toggleable__control:checked~label.sk-toggleable__label {background-color: #d4ebff;}#sk-container-id-5 div.sk-label input.sk-toggleable__control:checked~label.sk-toggleable__label {background-color: #d4ebff;}#sk-container-id-5 input.sk-hidden--visually {border: 0;clip: rect(1px 1px 1px 1px);clip: rect(1px, 1px, 1px, 1px);height: 1px;margin: -1px;overflow: hidden;padding: 0;position: absolute;width: 1px;}#sk-container-id-5 div.sk-estimator {font-family: monospace;background-color: #f0f8ff;border: 1px dotted black;border-radius: 0.25em;box-sizing: border-box;margin-bottom: 0.5em;}#sk-container-id-5 div.sk-estimator:hover {background-color: #d4ebff;}#sk-container-id-5 div.sk-parallel-item::after {content: \"\";width: 100%;border-bottom: 1px solid gray;flex-grow: 1;}#sk-container-id-5 div.sk-label:hover label.sk-toggleable__label {background-color: #d4ebff;}#sk-container-id-5 div.sk-serial::before {content: \"\";position: absolute;border-left: 1px solid gray;box-sizing: border-box;top: 0;bottom: 0;left: 50%;z-index: 0;}#sk-container-id-5 div.sk-serial {display: flex;flex-direction: column;align-items: center;background-color: white;padding-right: 0.2em;padding-left: 0.2em;position: relative;}#sk-container-id-5 div.sk-item {position: relative;z-index: 1;}#sk-container-id-5 div.sk-parallel {display: flex;align-items: stretch;justify-content: center;background-color: white;position: relative;}#sk-container-id-5 div.sk-item::before, #sk-container-id-5 div.sk-parallel-item::before {content: \"\";position: absolute;border-left: 1px solid gray;box-sizing: border-box;top: 0;bottom: 0;left: 50%;z-index: -1;}#sk-container-id-5 div.sk-parallel-item {display: flex;flex-direction: column;z-index: 1;position: relative;background-color: white;}#sk-container-id-5 div.sk-parallel-item:first-child::after {align-self: flex-end;width: 50%;}#sk-container-id-5 div.sk-parallel-item:last-child::after {align-self: flex-start;width: 50%;}#sk-container-id-5 div.sk-parallel-item:only-child::after {width: 0;}#sk-container-id-5 div.sk-dashed-wrapped {border: 1px dashed gray;margin: 0 0.4em 0.5em 0.4em;box-sizing: border-box;padding-bottom: 0.4em;background-color: white;}#sk-container-id-5 div.sk-label label {font-family: monospace;font-weight: bold;display: inline-block;line-height: 1.2em;}#sk-container-id-5 div.sk-label-container {text-align: center;}#sk-container-id-5 div.sk-container {/* jupyter's `normalize.less` sets `[hidden] { display: none; }` but bootstrap.min.css set `[hidden] { display: none !important; }` so we also need the `!important` here to be able to override the default hidden behavior on the sphinx rendered scikit-learn.org. See: https://github.com/scikit-learn/scikit-learn/issues/21755 */display: inline-block !important;position: relative;}#sk-container-id-5 div.sk-text-repr-fallback {display: none;}</style><div id=\"sk-container-id-5\" class=\"sk-top-container\"><div class=\"sk-text-repr-fallback\"><pre>RandomForestClassifier(max_depth=3, max_features=&#x27;log2&#x27;, n_estimators=50)</pre><b>In a Jupyter environment, please rerun this cell to show the HTML representation or trust the notebook. <br />On GitHub, the HTML representation is unable to render, please try loading this page with nbviewer.org.</b></div><div class=\"sk-container\" hidden><div class=\"sk-item\"><div class=\"sk-estimator sk-toggleable\"><input class=\"sk-toggleable__control sk-hidden--visually\" id=\"sk-estimator-id-13\" type=\"checkbox\" checked><label for=\"sk-estimator-id-13\" class=\"sk-toggleable__label sk-toggleable__label-arrow\">RandomForestClassifier</label><div class=\"sk-toggleable__content\"><pre>RandomForestClassifier(max_depth=3, max_features=&#x27;log2&#x27;, n_estimators=50)</pre></div></div></div></div></div>"
      ],
      "text/plain": [
       "RandomForestClassifier(max_depth=3, max_features='log2', n_estimators=50)"
      ]
     },
     "execution_count": 95,
     "metadata": {},
     "output_type": "execute_result"
    }
   ],
   "source": [
    "pickle.load(open(filename,'rb'))"
   ]
  },
  {
   "cell_type": "code",
   "execution_count": null,
   "id": "32151b7f",
   "metadata": {},
   "outputs": [],
   "source": []
  }
 ],
 "metadata": {
  "kernelspec": {
   "display_name": "Python 3 (ipykernel)",
   "language": "python",
   "name": "python3"
  },
  "language_info": {
   "codemirror_mode": {
    "name": "ipython",
    "version": 3
   },
   "file_extension": ".py",
   "mimetype": "text/x-python",
   "name": "python",
   "nbconvert_exporter": "python",
   "pygments_lexer": "ipython3",
   "version": "3.9.12"
  }
 },
 "nbformat": 4,
 "nbformat_minor": 5
}
